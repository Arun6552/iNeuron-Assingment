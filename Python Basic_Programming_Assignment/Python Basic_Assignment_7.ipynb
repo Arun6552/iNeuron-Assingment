{
 "cells": [
  {
   "cell_type": "code",
   "execution_count": 26,
   "id": "559713f0",
   "metadata": {},
   "outputs": [
    {
     "name": "stdout",
     "output_type": "stream",
     "text": [
      "Enter the number 5\n",
      "Enter the element 1\n",
      "Enter the element 2\n",
      "Enter the element 3\n",
      "Enter the element 4\n",
      "Enter the element 5\n",
      "the element in the array are : \n",
      "1 2 3 4 5 \n",
      "Sum of the arrray is  15 "
     ]
    }
   ],
   "source": [
    "# 1. Write a python program to find sum of array\n",
    "\n",
    "import numpy as np\n",
    "\n",
    "num = int(input(\"Enter the number \"))\n",
    "alist = []\n",
    "result = 0\n",
    "for i in range(num):\n",
    "    alist.append(int(input(\"Enter the element \")))\n",
    "a = np.array(alist)\n",
    "print(\"the element in the array are : \")\n",
    "for i in range(num):\n",
    "    result +=a[i]\n",
    "    print(a[i],end = \" \")\n",
    "  \n",
    "print(\"\\nSum of the arrray is \",result,end=\" \")\n",
    "\n",
    "\n",
    "\n",
    "\n"
   ]
  },
  {
   "cell_type": "code",
   "execution_count": 39,
   "id": "44016866",
   "metadata": {},
   "outputs": [
    {
     "name": "stdout",
     "output_type": "stream",
     "text": [
      "Enter the number 5\n",
      "Enter the element 98\n",
      "Enter the element 101\n",
      "Enter the element 21\n",
      "Enter the element 56\n",
      "Enter the element 35\n",
      "the element in the array are : \n",
      "98 101 21 56 35 "
     ]
    },
    {
     "data": {
      "text/plain": [
       "'101 is the largest number in the array  '"
      ]
     },
     "execution_count": 39,
     "metadata": {},
     "output_type": "execute_result"
    }
   ],
   "source": [
    "# 2 .Write a python program to find the largest element in an arrya?\n",
    "\n",
    "import numpy as np\n",
    "\n",
    "num = int(input(\"Enter the number \"))\n",
    "alist = []\n",
    "for i in range(num):\n",
    "    alist.append(int(input(\"Enter the element \")))\n",
    "    \n",
    "a = np.array(alist)\n",
    "print(\"the element in the array are : \")\n",
    "\n",
    "for i in range(num):\n",
    "    print(a[i],end = \" \")\n",
    "\n",
    "def large_element(a):\n",
    "    largest = a[0]\n",
    "    for i in range(len(a)):\n",
    "        if a[i] > largest :\n",
    "            largest = a[i]\n",
    "    return \"{} is the largest number in the array  \".format(largest)\n",
    "large_element(a)\n"
   ]
  },
  {
   "cell_type": "code",
   "execution_count": 129,
   "id": "d9820deb",
   "metadata": {},
   "outputs": [
    {
     "name": "stdout",
     "output_type": "stream",
     "text": [
      "Enter the number 5\n",
      "Enter the element 1\n",
      "Enter the element 2\n",
      "Enter the element 3\n",
      "Enter the element 4\n",
      "Enter the element 5\n",
      "the element in the array are : \n",
      "1 2 3 4 5 \n",
      "Enter the size to rotate 2\n",
      "Element in the array after rotation \n",
      "3 4 5 1 2 "
     ]
    }
   ],
   "source": [
    "# 3. Write a python program for arrray rotation\n",
    "\n",
    "\n",
    "import numpy as np\n",
    "\n",
    "num = int(input(\"Enter the number \"))\n",
    "alist = []\n",
    "for i in range(num):\n",
    "    alist.append(int(input(\"Enter the element \")))\n",
    "    \n",
    "a = np.array(alist)\n",
    "print(\"the element in the array are : \")\n",
    "\n",
    "for i in range(num):\n",
    "    print(a[i],end = \" \")\n",
    "\n",
    "size = int(input(\"\\nEnter the size to rotate \"))\n",
    "n = len(a)\n",
    "\n",
    "def array_rotate_one(a,size,n):\n",
    "    for i in range(size):\n",
    "        temp = a[0]\n",
    "        for j in range(0,n-1):\n",
    "            a[j] = a[j+1]\n",
    "        a[n-1] = temp\n",
    "\n",
    "def print_array(n):\n",
    "    print(\"Element in the array after rotation \")\n",
    "    for i in range(n):\n",
    "        print(a[i],end=\" \")\n",
    "    \n",
    "array_rotate_one(a,size,n) \n",
    "print_array(n)\n",
    "\n",
    "\n",
    "   \n",
    "    \n",
    "\n"
   ]
  },
  {
   "cell_type": "code",
   "execution_count": 152,
   "id": "6f22257f",
   "metadata": {},
   "outputs": [
    {
     "name": "stdout",
     "output_type": "stream",
     "text": [
      "Enter the number 8\n",
      "Enter the element 1\n",
      "Enter the element 2\n",
      "Enter the element 3\n",
      "Enter the element 4\n",
      "Enter the element 5\n",
      "Enter the element 6\n",
      "Enter the element 7\n",
      "Enter the element 8\n",
      "the element in the array are : \n",
      "1 2 3 4 5 6 7 8 \n",
      "\n",
      "1,2,3,4,\n",
      "After spliting and adding to first part to the end :  \n",
      "5 6 7 8 1 2 3 4 "
     ]
    }
   ],
   "source": [
    "# 4. Write a Python Program to Split the array and add the first part to the end.\n",
    "\n",
    "import numpy as np\n",
    "\n",
    "num = int(input(\"Enter the number \"))\n",
    "alist = []\n",
    "for i in range(num):\n",
    "    alist.append(int(input(\"Enter the element \")))\n",
    "    \n",
    "a = np.array(alist)\n",
    "print(\"the element in the array are : \")\n",
    "\n",
    "for i in range(num):\n",
    "    print(a[i],end = \" \")\n",
    "print(\"\\n\")\n",
    "    \n",
    "    \n",
    "n = len(a)\n",
    "def split_add(a,n):\n",
    "    for i in range(n//2):\n",
    "        temp = a[0]\n",
    "        for j in range(0, n-1):\n",
    "            a[j] = a [j+1]\n",
    "        a[n-1] = temp\n",
    "        print(temp,end=\",\")\n",
    "       \n",
    "        \n",
    "def print_array(n):\n",
    "    print(\"\\nAfter spliting and adding to first part to the end :  \")\n",
    "    for i in range(n):\n",
    "        print(a[i],end=\" \")\n",
    "    \n",
    "            \n",
    "    \n",
    "split_add(a,n) \n",
    "print_array(n)"
   ]
  },
  {
   "cell_type": "code",
   "execution_count": 155,
   "id": "7385a09c",
   "metadata": {},
   "outputs": [
    {
     "name": "stdout",
     "output_type": "stream",
     "text": [
      "Enter the number 6\n",
      "Enter the element 1\n",
      "Enter the element 2\n",
      "Enter the element 3\n",
      "Enter the element 4\n",
      "Enter the element 5\n",
      "Enter the element 6\n",
      "the element in the array are : \n",
      "1 2 3 4 5 6 \n",
      "\n"
     ]
    },
    {
     "data": {
      "text/plain": [
       "True"
      ]
     },
     "execution_count": 155,
     "metadata": {},
     "output_type": "execute_result"
    }
   ],
   "source": [
    "# 5. Write a python program to check if given array is Monotoic?\n",
    "\n",
    "\n",
    "import numpy as np\n",
    "\n",
    "num = int(input(\"Enter the number \"))\n",
    "alist = []\n",
    "for i in range(num):\n",
    "    alist.append(int(input(\"Enter the element \")))\n",
    "    \n",
    "a = np.array(alist)\n",
    "print(\"the element in the array are : \")\n",
    "\n",
    "for i in range(num):\n",
    "    print(a[i],end = \" \")\n",
    "print(\"\\n\")\n",
    "\n",
    "def check_monotoic(a):\n",
    "    for i in range(len(a)):\n",
    "        if a[i] <=a[i+1] or a[i] >=a[i+1]:\n",
    "            return True\n",
    "        else:\n",
    "            return False\n",
    "check_monotoic(a)\n",
    "\n",
    "    "
   ]
  },
  {
   "cell_type": "code",
   "execution_count": null,
   "id": "e19b89fd",
   "metadata": {},
   "outputs": [],
   "source": []
  }
 ],
 "metadata": {
  "kernelspec": {
   "display_name": "Python 3",
   "language": "python",
   "name": "python3"
  },
  "language_info": {
   "codemirror_mode": {
    "name": "ipython",
    "version": 3
   },
   "file_extension": ".py",
   "mimetype": "text/x-python",
   "name": "python",
   "nbconvert_exporter": "python",
   "pygments_lexer": "ipython3",
   "version": "3.8.8"
  }
 },
 "nbformat": 4,
 "nbformat_minor": 5
}
