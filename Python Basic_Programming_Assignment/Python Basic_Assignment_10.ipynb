{
 "cells": [
  {
   "cell_type": "code",
   "execution_count": 7,
   "id": "640b5adc",
   "metadata": {},
   "outputs": [
    {
     "data": {
      "text/plain": [
       "15"
      ]
     },
     "execution_count": 7,
     "metadata": {},
     "output_type": "execute_result"
    }
   ],
   "source": [
    "# 1. Write a python program to find sum of elements in list?\n",
    "\n",
    "lst = [1,2,3,4,5]\n",
    "\n",
    "def sum_of_element(lst):\n",
    "    sum = 0\n",
    "    for i in range(len(lst)):\n",
    "        sum+=lst[i]\n",
    "    return sum\n",
    "sum_of_element(lst)"
   ]
  },
  {
   "cell_type": "code",
   "execution_count": 8,
   "id": "4766ec15",
   "metadata": {},
   "outputs": [
    {
     "data": {
      "text/plain": [
       "144"
      ]
     },
     "execution_count": 8,
     "metadata": {},
     "output_type": "execute_result"
    }
   ],
   "source": [
    "#2 . Write a Python program to Multiply all numbers in the list?\n",
    "\n",
    "lst = [6,2,3,4,1]\n",
    "\n",
    "def mul_all_element(lst):\n",
    "    mul = 1\n",
    "    for i in range(len(lst)):\n",
    "        mul *=lst[i]\n",
    "    return mul\n",
    "mul_all_element(lst)"
   ]
  },
  {
   "cell_type": "code",
   "execution_count": 11,
   "id": "0cdcae4e",
   "metadata": {},
   "outputs": [
    {
     "data": {
      "text/plain": [
       "-44"
      ]
     },
     "execution_count": 11,
     "metadata": {},
     "output_type": "execute_result"
    }
   ],
   "source": [
    "# 3. Write a Python program to find smallest number in a list?\n",
    "lst = [1,2,3,4,5,-44]\n",
    "\n",
    "def smallest_number(lst):\n",
    "    smallest = lst[0]\n",
    "    for i in range(len(lst)):\n",
    "        if lst[i] < smallest:\n",
    "            smallest = lst[i]\n",
    "    return smallest\n",
    "smallest_number(lst)"
   ]
  },
  {
   "cell_type": "code",
   "execution_count": 14,
   "id": "f0d7f486",
   "metadata": {},
   "outputs": [
    {
     "data": {
      "text/plain": [
       "115"
      ]
     },
     "execution_count": 14,
     "metadata": {},
     "output_type": "execute_result"
    }
   ],
   "source": [
    "# 4. Write a Python program to find largest number in a list?\n",
    "\n",
    "lst = [1,2,3,4,115,-44]\n",
    "\n",
    "def largest_number(lst):\n",
    "    largest = lst[0]\n",
    "    for i in range(len(lst)):\n",
    "        if lst[i] > largest:\n",
    "            largest = lst[i]\n",
    "    return largest\n",
    "largest_number(lst)"
   ]
  },
  {
   "cell_type": "code",
   "execution_count": 96,
   "id": "10548347",
   "metadata": {},
   "outputs": [
    {
     "name": "stdout",
     "output_type": "stream",
     "text": [
      "Largest element in list is : 115\n",
      "Second largest element in list is : 34\n"
     ]
    }
   ],
   "source": [
    "# 5. Write a Python program to find second largest number in a list?\n",
    "lst = [14,2,3,34,115,-44]\n",
    "\n",
    "def second_largest_number(lst):\n",
    "    second_largest= largest = lst[0]\n",
    "    for i in range(len(lst)):\n",
    "        if lst[i] > largest:\n",
    "            largest = lst[i]\n",
    "    print(\"Largest element in list is :\", largest)\n",
    "    for i in range(len(lst)):\n",
    "        if lst[i] >= second_largest and lst[i] != largest:\n",
    "            second_largest = lst[i]\n",
    "    print(\"Second largest element in list is :\", second_largest)\n",
    "second_largest_number(lst)"
   ]
  },
  {
   "cell_type": "code",
   "execution_count": 114,
   "id": "a7a7612a",
   "metadata": {},
   "outputs": [
    {
     "name": "stdout",
     "output_type": "stream",
     "text": [
      "[115, 4]\n"
     ]
    }
   ],
   "source": [
    "# 6. Write a Python program to find N largest elements from a list?\n",
    "list1 = [1,2,3,4,115,-44]\n",
    "n = 2\n",
    "def n_largest_number(list1,n):\n",
    "    final_lst = []\n",
    "    for i in range(0, n): \n",
    "        largest = 0   \n",
    "        for j in range(len(list1)):     \n",
    "            if list1[j] > largest:\n",
    "                largest = list1[j];\n",
    "                  \n",
    "        list1.remove(largest);\n",
    "        final_lst.append(largest)\n",
    "          \n",
    "    print(final_lst)\n",
    "n_largest_number(list1,n)"
   ]
  },
  {
   "cell_type": "code",
   "execution_count": 116,
   "id": "b1abb8d8",
   "metadata": {},
   "outputs": [
    {
     "name": "stdout",
     "output_type": "stream",
     "text": [
      "2\n",
      "4\n",
      "6\n",
      "8\n"
     ]
    }
   ],
   "source": [
    "# 7. Write a Python program to print even numbers in a list?\n",
    "\n",
    "\n",
    "\n",
    "lst = [1,2,3,4,5,6,7,8]\n",
    "\n",
    "def print_even(lst):\n",
    "    for i in range(len(lst)):\n",
    "        if lst[i] % 2 == 0 :\n",
    "            print(lst[i])         \n",
    "print_even(lst)            \n",
    "\n"
   ]
  },
  {
   "cell_type": "code",
   "execution_count": 117,
   "id": "d2b51074",
   "metadata": {},
   "outputs": [
    {
     "name": "stdout",
     "output_type": "stream",
     "text": [
      "1\n",
      "3\n",
      "5\n",
      "7\n"
     ]
    }
   ],
   "source": [
    "# 8. Write a Python program to print odd numbers in a List?\n",
    "\n",
    "lst = [1,2,3,4,5,6,7,8]\n",
    "\n",
    "def print_even(lst):\n",
    "    for i in range(len(lst)):\n",
    "        if lst[i] % 2 != 0 :\n",
    "            print(lst[i])         \n",
    "print_even(lst)            \n"
   ]
  },
  {
   "cell_type": "code",
   "execution_count": 123,
   "id": "3a2f63ed",
   "metadata": {},
   "outputs": [
    {
     "name": "stdout",
     "output_type": "stream",
     "text": [
      "[5, 6, 3, 9]\n"
     ]
    }
   ],
   "source": [
    "# 9 .Write a Python program to Remove empty List from List?\n",
    "\n",
    "lst = [5, 6, [], 3, [], [], 9]\n",
    "\n",
    "res = [result for result in lst if result!=[]]\n",
    "# for result in lst:\n",
    "#     if result!=[]:\n",
    "#         print(result)\n",
    "print(res)\n"
   ]
  },
  {
   "cell_type": "code",
   "execution_count": 127,
   "id": "7cf6fa12",
   "metadata": {},
   "outputs": [
    {
     "name": "stdout",
     "output_type": "stream",
     "text": [
      "Original List: [1, 2, 3, 4, 5]\n",
      "After Cloning: [1, 2, 3, 4, 5]\n"
     ]
    }
   ],
   "source": [
    "# 10.Write a Python program to Cloning or Copying a list?\n",
    "\n",
    "def copying(lst):\n",
    "    li_copy = []\n",
    "    li_copy.extend(lst)\n",
    "    return li_copy\n",
    "lst = [1,2,3,4,5]\n",
    "lst2= copying(lst)\n",
    "print(\"Original List:\", lst)\n",
    "print(\"After Cloning:\", lst2)"
   ]
  },
  {
   "cell_type": "code",
   "execution_count": 138,
   "id": "9a550033",
   "metadata": {},
   "outputs": [
    {
     "name": "stdout",
     "output_type": "stream",
     "text": [
      "2 has occurred 4 times\n"
     ]
    }
   ],
   "source": [
    "# 11. Write a Python program to Count occurrences of an element in a list?\n",
    "\n",
    "lst = [1,2,1,2,1,2,1,2]\n",
    "element = 2\n",
    "\n",
    "def count_occuracne(lst,element):\n",
    "    count = 0 \n",
    "    for i in lst:\n",
    "        if (element ==i):\n",
    "            count +=1\n",
    "    print('{} has occurred {} times'.format(element, count))\n",
    "count_occuracne(lst,element)"
   ]
  }
 ],
 "metadata": {
  "kernelspec": {
   "display_name": "Python 3",
   "language": "python",
   "name": "python3"
  },
  "language_info": {
   "codemirror_mode": {
    "name": "ipython",
    "version": 3
   },
   "file_extension": ".py",
   "mimetype": "text/x-python",
   "name": "python",
   "nbconvert_exporter": "python",
   "pygments_lexer": "ipython3",
   "version": "3.8.8"
  }
 },
 "nbformat": 4,
 "nbformat_minor": 5
}
