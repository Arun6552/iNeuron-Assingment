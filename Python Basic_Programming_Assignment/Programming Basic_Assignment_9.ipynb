{
 "cells": [
  {
   "cell_type": "code",
   "execution_count": 27,
   "id": "220287db",
   "metadata": {},
   "outputs": [
    {
     "name": "stdout",
     "output_type": "stream",
     "text": [
      "Enter the number 175\n"
     ]
    },
    {
     "data": {
      "text/plain": [
       "'175 is  Disarium Number'"
      ]
     },
     "execution_count": 27,
     "metadata": {},
     "output_type": "execute_result"
    }
   ],
   "source": [
    "# 1. Write a Python program to check if the given number is a Disarium Number?\n",
    "\n",
    "# 175, 1¹ + 7² + 5³ = 1 + 49 + 125= 175.\n",
    "import math\n",
    "\n",
    "num = (input(\"Enter the number \"))\n",
    "\n",
    "\n",
    "def check_disarium(num):\n",
    "    sum = 0 \n",
    "    for i in range(len(num)):\n",
    "        sum += math.pow(int(num[i]),i+1)\n",
    "        \n",
    "    if int(num) == int(sum):\n",
    "        return \"{} is  Disarium Number\".format(num)\n",
    "    else:\n",
    "        return \"{} is not Disarium Number\".format(num)\n",
    "    \n",
    "check_disarium(num) \n",
    "    "
   ]
  },
  {
   "cell_type": "code",
   "execution_count": 40,
   "id": "36084a85",
   "metadata": {},
   "outputs": [
    {
     "name": "stdout",
     "output_type": "stream",
     "text": [
      "Disarium numbers betwween 1 and 100 are \n",
      "1, 2, 3, 4, 5, 6, 7, 8, 9, 89, "
     ]
    }
   ],
   "source": [
    "# 2.Write a Python program to print all disarium numbers between 1 to 100?\n",
    "\n",
    "import math\n",
    "\n",
    "\n",
    "\n",
    "def cal_length(n):\n",
    "    length = 0;\n",
    "    while(n!=0):\n",
    "        length = length +1\n",
    "        n = n//10;\n",
    "    return length;\n",
    "\n",
    "    \n",
    "def print_disarium(num):\n",
    "    rem = sum = 0 \n",
    "    len = cal_length(num)\n",
    "    while(num>0):\n",
    "        rem = num% 10\n",
    "        sum = sum +(rem**len)\n",
    "        num = num//10\n",
    "        len = len-1\n",
    "    return sum \n",
    "print(\"Disarium numbers betwween 1 and 100 are \")\n",
    "result  = 0 \n",
    "for i in range(1,101):\n",
    "    result =print_disarium(i)\n",
    "    if (result ==i):\n",
    "        print(i,end=\", \")\n",
    "        "
   ]
  },
  {
   "cell_type": "code",
   "execution_count": 72,
   "id": "99dc9ddc",
   "metadata": {},
   "outputs": [
    {
     "name": "stdout",
     "output_type": "stream",
     "text": [
      "Enter the number 7\n"
     ]
    },
    {
     "data": {
      "text/plain": [
       "'7 is a Happy Number'"
      ]
     },
     "execution_count": 72,
     "metadata": {},
     "output_type": "execute_result"
    }
   ],
   "source": [
    "# 3. Write a Python program to check if the given number is Happy Number?\n",
    "\n",
    "num = int(input(\"Enter the number \"))\n",
    "\n",
    "def cal_sum_square(num):\n",
    "    rem = sum = 0 \n",
    "    length = 2\n",
    "    while(num > 0 ) :\n",
    "        rem = num % 10 \n",
    "        sum +=rem**length\n",
    "        num //=10\n",
    "    return sum \n",
    "def check_happy(num): \n",
    "    result = num \n",
    "    while (result !=1 and result !=4):\n",
    "        result = cal_sum_square(result)\n",
    "    if (result ==1):\n",
    "        return \"{} is a Happy Number\".format(num)\n",
    "    elif(result == 4):\n",
    "        return \"{} is a not Happy Number\".format(num)\n",
    "        \n",
    "    \n",
    "        \n",
    "    \n",
    "        \n",
    "    \n",
    "        \n",
    "check_happy(num) \n",
    "    \n",
    "    "
   ]
  },
  {
   "cell_type": "code",
   "execution_count": 71,
   "id": "42459721",
   "metadata": {},
   "outputs": [
    {
     "name": "stdout",
     "output_type": "stream",
     "text": [
      "1,7,10,13,19,23,28,31,32,44,49,68,70,79,82,86,91,94,97,100,"
     ]
    }
   ],
   "source": [
    "4 .# Write a Python program to print all happy numbers between 1 and 100?\n",
    "\n",
    "\n",
    "def cal_sum_square(num):\n",
    "    rem = sum = 0 \n",
    "    length = 2\n",
    "    while(num > 0 ) :\n",
    "        rem = num % 10 \n",
    "        sum +=rem**length\n",
    "        num //=10\n",
    "    return sum \n",
    "def check_happy(num): \n",
    "    result = num \n",
    "    while (result !=1 and result !=4):\n",
    "        result = cal_sum_square(result)\n",
    "    if (result ==1):\n",
    "        return num\n",
    "    \n",
    "for i in range(1,101):\n",
    "    happy = check_happy(i)\n",
    "    if i == happy :\n",
    "        print(happy,end=\",\")"
   ]
  },
  {
   "cell_type": "code",
   "execution_count": 80,
   "id": "5f5cdfd5",
   "metadata": {},
   "outputs": [
    {
     "name": "stdout",
     "output_type": "stream",
     "text": [
      "Enter the number 18\n"
     ]
    },
    {
     "data": {
      "text/plain": [
       "'18 is a Harshad Number'"
      ]
     },
     "execution_count": 80,
     "metadata": {},
     "output_type": "execute_result"
    }
   ],
   "source": [
    "# 5 .Write a Python program to determine whether the given number is a Harshad Number?\n",
    "\n",
    "\n",
    "\n",
    "num = int(input(\"Enter the number \"))\n",
    "\n",
    "def check_harshad_number(num):\n",
    "    rem = sum = 0 \n",
    "    temp = num\n",
    "    while(temp > 0 ) :\n",
    "        rem = temp % 10 \n",
    "        sum +=rem\n",
    "        temp //=10\n",
    "    if num % sum ==0:  \n",
    "        return \"{} is a Harshad Number\".format(num)\n",
    "    else:\n",
    "        return \"{} is not a Harshad Number\".format(num)\n",
    "     \n",
    "check_harshad_number(num)"
   ]
  },
  {
   "cell_type": "code",
   "execution_count": 89,
   "id": "e3aa5181",
   "metadata": {},
   "outputs": [
    {
     "name": "stdout",
     "output_type": "stream",
     "text": [
      "pronic numbers between 1 and 100 : 2,6,12,20,30,42,56,72,90,"
     ]
    }
   ],
   "source": [
    "# 6 .Write a Python program to print all pronic numbers between 1 and 100?\n",
    "\n",
    "def pronic_number():\n",
    "    for i in range(1,101):\n",
    "        result = i * (i+1)\n",
    "        if result in range(1,101):\n",
    "            print(result,end = \",\")\n",
    "\n",
    "print(\"pronic numbers between 1 and 100 :\", end = \" \")\n",
    "pronic_number()\n"
   ]
  }
 ],
 "metadata": {
  "kernelspec": {
   "display_name": "Python 3",
   "language": "python",
   "name": "python3"
  },
  "language_info": {
   "codemirror_mode": {
    "name": "ipython",
    "version": 3
   },
   "file_extension": ".py",
   "mimetype": "text/x-python",
   "name": "python",
   "nbconvert_exporter": "python",
   "pygments_lexer": "ipython3",
   "version": "3.8.8"
  }
 },
 "nbformat": 4,
 "nbformat_minor": 5
}
