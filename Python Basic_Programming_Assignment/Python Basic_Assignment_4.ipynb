{
 "cells": [
  {
   "cell_type": "code",
   "execution_count": 4,
   "id": "9f616e82",
   "metadata": {},
   "outputs": [
    {
     "name": "stdout",
     "output_type": "stream",
     "text": [
      "Enter the number 5\n"
     ]
    },
    {
     "data": {
      "text/plain": [
       "120"
      ]
     },
     "execution_count": 4,
     "metadata": {},
     "output_type": "execute_result"
    }
   ],
   "source": [
    "# 1. Write a python program to Find the Factorial of Number\n",
    "\n",
    "\n",
    "def fact(number):\n",
    "    result = 1\n",
    "    for i in range(1,number+1):\n",
    "        result *=i\n",
    "    return result \n",
    "number = int(input(\"Enter the number \"))\n",
    "fact(number)"
   ]
  },
  {
   "cell_type": "code",
   "execution_count": 6,
   "id": "a69ea1d0",
   "metadata": {},
   "outputs": [
    {
     "name": "stdout",
     "output_type": "stream",
     "text": [
      "Enter the number 5\n",
      "5 * 1 = 5\n",
      "5 * 2 = 10\n",
      "5 * 3 = 15\n",
      "5 * 4 = 20\n",
      "5 * 5 = 25\n",
      "5 * 6 = 30\n",
      "5 * 7 = 35\n",
      "5 * 8 = 40\n",
      "5 * 9 = 45\n",
      "5 * 10 = 50\n"
     ]
    }
   ],
   "source": [
    "# 2. Write a python program to display the Multiplicatio Table \n",
    "\n",
    "def multiplication_table(number):\n",
    "    for i in range(1,11):\n",
    "        multi = number * i \n",
    "        print(\"{} * {} = {}\".format(number,i,multi))\n",
    "        \n",
    "number = int(input(\"Enter the number \"))\n",
    "multiplication_table(number)"
   ]
  },
  {
   "cell_type": "code",
   "execution_count": 21,
   "id": "2d43ac22",
   "metadata": {},
   "outputs": [
    {
     "name": "stdout",
     "output_type": "stream",
     "text": [
      "Enter the number 5\n",
      "Fibonacci Sequence are  1, 2, 3, 5, 8, "
     ]
    }
   ],
   "source": [
    "# 3. Write a python program to prinnt Fibonacci Sequence\n",
    "\n",
    "def fib(number):\n",
    "    first = 0\n",
    "    second = 1\n",
    "    for i in range(number):\n",
    "        result = first + second\n",
    "        first = second\n",
    "        second = result\n",
    "        print(result,end= \", \")\n",
    "        \n",
    "number = int(input(\"Enter the number \"))\n",
    "print(\"Fibonacci Sequence are \",end=\" \")\n",
    "fib(number)\n",
    "        "
   ]
  },
  {
   "cell_type": "code",
   "execution_count": 65,
   "id": "f151cc7f",
   "metadata": {},
   "outputs": [
    {
     "data": {
      "text/plain": [
       "'153 is a Armstrong Number'"
      ]
     },
     "execution_count": 65,
     "metadata": {},
     "output_type": "execute_result"
    }
   ],
   "source": [
    "# 4. Write a program to chekc Armstrong Number.\n",
    "def check_armstron_number(number):\n",
    "    result = 0 \n",
    "    temp = number\n",
    "    while temp!=0:\n",
    "        rem = temp % 10\n",
    "        result +=rem*rem*rem\n",
    "        temp //=10\n",
    "    if result == number:\n",
    "        return \"{} is a Armstrong Number\".format(number)\n",
    "    else:\n",
    "        return \"{} is not a Armstrong Number\".format(number)\n",
    "check_armstron_number(153)\n",
    "    "
   ]
  },
  {
   "cell_type": "code",
   "execution_count": 83,
   "id": "d23015bc",
   "metadata": {},
   "outputs": [
    {
     "name": "stdout",
     "output_type": "stream",
     "text": [
      "Enter the number 154\n"
     ]
    },
    {
     "data": {
      "text/plain": [
       "[0, 1, 153]"
      ]
     },
     "execution_count": 83,
     "metadata": {},
     "output_type": "execute_result"
    }
   ],
   "source": [
    "# 5. Write a python program to Find Armstrong Number in an Interval\n",
    "\n",
    "\n",
    "def find_armstrong_number(number):\n",
    "    armstrong_number = []\n",
    "    for i in range(number):\n",
    "        result = 0 \n",
    "        temp = i\n",
    "        while temp!=0:\n",
    "            rem = temp % 10\n",
    "            result +=rem*rem*rem\n",
    "            temp //=10\n",
    "        if result == i:\n",
    "               armstrong_number.append(i)\n",
    "    return armstrong_number\n",
    "\n",
    "number = int(input(\"Enter the number \"))\n",
    "find_armstrong_number(number)"
   ]
  },
  {
   "cell_type": "code",
   "execution_count": 86,
   "id": "c159216b",
   "metadata": {},
   "outputs": [
    {
     "name": "stdout",
     "output_type": "stream",
     "text": [
      "Enter the number 9\n"
     ]
    },
    {
     "data": {
      "text/plain": [
       "45.0"
      ]
     },
     "execution_count": 86,
     "metadata": {},
     "output_type": "execute_result"
    }
   ],
   "source": [
    "# 6. Write a python program to find the Sum of Natural number.\n",
    "\n",
    "\n",
    "def sum_of_natural_numeber(n):\n",
    "    return n*(n+1)/2\n",
    "\n",
    "number = int(input(\"Enter the number \"))\n",
    "sum_of_natural_numeber(number)\n"
   ]
  }
 ],
 "metadata": {
  "kernelspec": {
   "display_name": "Python 3",
   "language": "python",
   "name": "python3"
  },
  "language_info": {
   "codemirror_mode": {
    "name": "ipython",
    "version": 3
   },
   "file_extension": ".py",
   "mimetype": "text/x-python",
   "name": "python",
   "nbconvert_exporter": "python",
   "pygments_lexer": "ipython3",
   "version": "3.8.8"
  }
 },
 "nbformat": 4,
 "nbformat_minor": 5
}
