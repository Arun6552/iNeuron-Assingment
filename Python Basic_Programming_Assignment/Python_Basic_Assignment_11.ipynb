{
 "cells": [
  {
   "cell_type": "code",
   "execution_count": 4,
   "id": "60a55da4",
   "metadata": {},
   "outputs": [
    {
     "name": "stdout",
     "output_type": "stream",
     "text": [
      "['Data', 'scientists', 'are', 'analytical', 'experts', 'who', 'utilize', 'their', 'skills', 'in', 'both', 'technology', 'and', 'social', 'science', 'to', 'find', 'trends', 'and', 'manage', 'data', '']\n"
     ]
    },
    {
     "data": {
      "text/plain": [
       "['scientists',\n",
       " 'analytical',\n",
       " 'experts',\n",
       " 'utilize',\n",
       " 'their',\n",
       " 'skills',\n",
       " 'technology',\n",
       " 'social',\n",
       " 'science',\n",
       " 'trends',\n",
       " 'manage']"
      ]
     },
     "execution_count": 4,
     "metadata": {},
     "output_type": "execute_result"
    }
   ],
   "source": [
    "# 1. Write a Python program to find words which are greater than given length k?\n",
    "\n",
    "s = \"Data scientists are analytical experts who utilize their skills in both technology and social science to find trends and manage data \"\n",
    "k = 4\n",
    "\n",
    "def find_word(s,k):\n",
    "    str = []\n",
    "    word = s.split(\" \")\n",
    "    for i in word:\n",
    "        if (len(i)> k):\n",
    "            str.append(i)\n",
    "    return str\n",
    "find_word(s,k)"
   ]
  },
  {
   "cell_type": "code",
   "execution_count": 14,
   "id": "15a67365",
   "metadata": {},
   "outputs": [
    {
     "name": "stdout",
     "output_type": "stream",
     "text": [
      "Inuron\n"
     ]
    }
   ],
   "source": [
    "# 2. Write a Python program for removing i-th character from a string?\n",
    "\n",
    "def remove_word(s,k):\n",
    "    \n",
    "    a = s[:k]\n",
    "    b = s[k+1 :]\n",
    "    return a + b \n",
    "if __name__ =='__main__':\n",
    "    s = \"Ineuron\"\n",
    "    k = 2\n",
    "    print(remove_word(s,k))"
   ]
  },
  {
   "cell_type": "code",
   "execution_count": 19,
   "id": "4777f6fd",
   "metadata": {},
   "outputs": [
    {
     "name": "stdout",
     "output_type": "stream",
     "text": [
      "Spliting String :  ['I', 'am', 'Student']\n",
      "Join String :  I- -a-m- -S-t-u-d-e-n-t\n"
     ]
    }
   ],
   "source": [
    "# 3. Write a Python program to split and join a string?\n",
    "\n",
    "def split_string(String):\n",
    "    split_str = String.split(' ')\n",
    "    return split_str\n",
    "    \n",
    "def join_string(String):    \n",
    "    join_str = \"-\".join(String)\n",
    "\n",
    "    return join_str\n",
    "if __name__ =='__main__':\n",
    "    String = \"I am Student\"\n",
    "    print(\"Spliting String : \", split_string(String))\n",
    "    print(\"Join String : \",join_string(String))"
   ]
  },
  {
   "cell_type": "code",
   "execution_count": 25,
   "id": "bfc81dab",
   "metadata": {},
   "outputs": [
    {
     "name": "stdout",
     "output_type": "stream",
     "text": [
      "given string is  binary string \n"
     ]
    }
   ],
   "source": [
    "# 4. Write a Python to check if a given string is binary string or not?\n",
    "\n",
    "\n",
    "def check(string):\n",
    "    \n",
    "    binary = '01'\n",
    "    count = 0 \n",
    "    for i in string:\n",
    "        if i not in binary:\n",
    "            count = 1\n",
    "            break\n",
    "        else:\n",
    "            pass\n",
    "    if count:\n",
    "        print(\"given string is not binary string \")\n",
    "    else:\n",
    "        print(\"given string is  binary string \")\n",
    "        \n",
    "    \n",
    "   \n",
    "string = \"101010000111\"\n",
    "# string = '001021010001010'\n",
    "check(string)\n"
   ]
  },
  {
   "cell_type": "code",
   "execution_count": 36,
   "id": "9765242b",
   "metadata": {},
   "outputs": [
    {
     "name": "stdout",
     "output_type": "stream",
     "text": [
      " apple fruits\n"
     ]
    }
   ],
   "source": [
    "# 5. Write a Python program to find uncommon words from two Strings?\n",
    "A = \"apple banana mango\" \n",
    "    \n",
    "B = \"banana fruits mango\"\n",
    "\n",
    "new_A = A.split(' ')\n",
    "new_B = B.split(' ')\n",
    "uncommon_word = \"\"\n",
    "\n",
    "for i in new_A:\n",
    "    if i not in new_B :\n",
    "        uncommon_word += \" \" +i\n",
    "         \n",
    "for i in new_B:\n",
    "    if i not in new_A :\n",
    "        uncommon_word +=\" \"+i\n",
    "        uncommon_word.split(i)\n",
    "print(uncommon_word)\n",
    "\n",
    "        \n",
    "\n",
    "\n"
   ]
  },
  {
   "cell_type": "code",
   "execution_count": 55,
   "id": "14ffe9e0",
   "metadata": {},
   "outputs": [
    {
     "name": "stdout",
     "output_type": "stream",
     "text": [
      "n\n"
     ]
    }
   ],
   "source": [
    "# 6. Write a Python to find all duplicate characters in string?\n",
    "\n",
    "string = \"Ineuron\"\n",
    "count = 0 \n",
    "for i in range(len(string)):\n",
    "    for j in range(i+1,len(string)):\n",
    "        if string[i] == string[j]:\n",
    "            print(string[i])\n",
    "            break\n",
    "    "
   ]
  },
  {
   "cell_type": "code",
   "execution_count": 54,
   "id": "8c3475e9",
   "metadata": {},
   "outputs": [
    {
     "name": "stdout",
     "output_type": "stream",
     "text": [
      "string contains special character\n"
     ]
    }
   ],
   "source": [
    "# 7. Write a Python Program to check if a string contains any special character?\n",
    "\n",
    "\n",
    "special_char = '[@_!#$%^&*()<>?/\\|}{~:]'\n",
    "string = 'password@123#532'\n",
    "if any(i in special_char for i in string):\n",
    "    print(\"string contains special character\")\n",
    "else:\n",
    "    print(\"string dones not contains special character\")\n"
   ]
  },
  {
   "cell_type": "code",
   "execution_count": null,
   "id": "96fd494a",
   "metadata": {},
   "outputs": [],
   "source": []
  }
 ],
 "metadata": {
  "kernelspec": {
   "display_name": "Python 3",
   "language": "python",
   "name": "python3"
  },
  "language_info": {
   "codemirror_mode": {
    "name": "ipython",
    "version": 3
   },
   "file_extension": ".py",
   "mimetype": "text/x-python",
   "name": "python",
   "nbconvert_exporter": "python",
   "pygments_lexer": "ipython3",
   "version": "3.8.8"
  }
 },
 "nbformat": 4,
 "nbformat_minor": 5
}
