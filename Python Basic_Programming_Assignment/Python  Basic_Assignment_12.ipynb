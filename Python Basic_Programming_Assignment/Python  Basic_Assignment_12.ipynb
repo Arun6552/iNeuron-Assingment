{
 "cells": [
  {
   "cell_type": "code",
   "execution_count": 22,
   "id": "3da841e6",
   "metadata": {},
   "outputs": [
    {
     "name": "stdout",
     "output_type": "stream",
     "text": [
      "The dictionary is : \n",
      "{'hi': [5, 3, 8, 0], 'there': [22, 51, 63, 77], 'how': [7, 0, 22], 'are': [12, 11, 45], 'you': [56, 31, 89, 90]}\n",
      "\n",
      "The unique value  is : \n",
      "{0, 3, 5, 7, 8, 11, 12, 77, 45, 51, 22, 56, 89, 90, 31, 63}\n"
     ]
    }
   ],
   "source": [
    "# 1. Write a Python program to Extract Unique values dictionary values?\n",
    "\n",
    "\n",
    "\n",
    "my_dict = {'hi' : [5,3,8, 0],\n",
    "   'there' : [22, 51, 63, 77],\n",
    "   'how' : [7, 0, 22],\n",
    "   'are' : [12, 11, 45],\n",
    "   'you' : [56, 31, 89, 90]\n",
    "    }\n",
    "\n",
    "\n",
    "print(\"The dictionary is : \")\n",
    "print(my_dict)\n",
    "uniques_value = []\n",
    "for value in my_dict.values():\n",
    "    for i in value:\n",
    "        uniques_value.append(i)\n",
    "print(\"\\nThe unique value  is : \")\n",
    "print(set(uniques_value))\n",
    "        \n"
   ]
  },
  {
   "cell_type": "code",
   "execution_count": 29,
   "id": "ae45a064",
   "metadata": {},
   "outputs": [
    {
     "name": "stdout",
     "output_type": "stream",
     "text": [
      "The sum of all items in a dictionary is  293\n"
     ]
    }
   ],
   "source": [
    "# 2. Write a Python program to find the sum of all items in a dictionary?\n",
    "\n",
    "my_dict = {'data1':200,'data2':-154,'data3':247}\n",
    "\n",
    "print(\"The sum of all items in a dictionary is \",sum(my_dict.values()))"
   ]
  },
  {
   "cell_type": "code",
   "execution_count": 41,
   "id": "7a14b6fe",
   "metadata": {},
   "outputs": [
    {
     "name": "stdout",
     "output_type": "stream",
     "text": [
      " Merging two Dictionaries: \n",
      " {'data1': 200, 'data2': -154, 'data3': 247, 'data4': 300, 'data5': -254, 'data6': 547}\n"
     ]
    }
   ],
   "source": [
    "# 3. Write a Python program to Merging two Dictionaries?\n",
    "\n",
    "dict_1 = {'data1':200,'data2':-154,'data3':247}\n",
    "dict_2 = {'data4':300,'data5':-254,'data6':547}\n",
    "dict_3 = dict_1.copy()\n",
    "\n",
    "for key,value in  dict_2.items():\n",
    "    dict_3[key] = value\n",
    "print(\" Merging two Dictionaries: \\n\",dict_3)\n",
    "\n",
    "\n",
    "# dict_3 = {**dict_1,**dict_2}  #Unpacking Operator\n",
    "# print(dict_3)"
   ]
  },
  {
   "cell_type": "code",
   "execution_count": 45,
   "id": "809a79b2",
   "metadata": {},
   "outputs": [
    {
     "name": "stdout",
     "output_type": "stream",
     "text": [
      "The flattened dictionary is: \n",
      "{1: 'Jan', 2: 'Feb', 3: 'March', 4: 'Apr', 5: 'May', 6: 'June'}\n"
     ]
    }
   ],
   "source": [
    "# 4. Write a Python program to convert key-values list to flat dictionary?\n",
    "\n",
    "\n",
    "my_dict = {'month_num' : [1, 2, 3, 4, 5, 6], 'name_of_month' : ['Jan', 'Feb', 'March', 'Apr', 'May', 'June']}\n",
    "\n",
    "result = dict(zip(my_dict['month_num'],my_dict['name_of_month']))\n",
    "\n",
    "\n",
    "print(\"The flattened dictionary is: \")\n",
    "print(result)"
   ]
  },
  {
   "cell_type": "code",
   "execution_count": 48,
   "id": "9464eefd",
   "metadata": {},
   "outputs": [
    {
     "name": "stdout",
     "output_type": "stream",
     "text": [
      "Resultant Dictionary : OrderedDict([('arun', '3'), ('akshat', '1'), ('nikhil', '2')])\n"
     ]
    }
   ],
   "source": [
    "# 5. Write a Python program to insertion at the beginning in OrderedDict?\n",
    "\n",
    "\n",
    "from collections import OrderedDict\n",
    " \n",
    "ordered_dict = OrderedDict([('akshat', '1'), ('nikhil', '2')])\n",
    " \n",
    "ordered_dict.update({'arun':'3'})\n",
    "ordered_dict.move_to_end('arun', last = False)\n",
    " \n",
    "\n",
    "print (\"Resultant Dictionary : \"+str(ordered_dict))"
   ]
  },
  {
   "cell_type": "code",
   "execution_count": 79,
   "id": "acff2d81",
   "metadata": {},
   "outputs": [
    {
     "name": "stdout",
     "output_type": "stream",
     "text": [
      "The order of pattern is correct\n"
     ]
    }
   ],
   "source": [
    "# 6. Write a Python program to check order of character in string using OrderedDict()?\n",
    "\n",
    "from collections import OrderedDict \n",
    "  \n",
    "def check_order(my_input, my_pattern):\n",
    "    my_dict = OrderedDict.fromkeys(my_input)\n",
    "    pattern_length = 0\n",
    "    for key in my_dict.keys():\n",
    "        if (key == my_pattern[pattern_length]):\n",
    "             pattern_length = pattern_length + 1\n",
    "\n",
    "        if (pattern_length == (len(my_pattern))):\n",
    "             return 'The order of pattern is correct'\n",
    "\n",
    "    return 'The order of pattern is incorrect'\n",
    "\n",
    "if __name__ == \"__main__\": \n",
    "    data = 'engineers rock'\n",
    "    pattern = 'ngi'\n",
    "    print (check_order(data,pattern))"
   ]
  },
  {
   "cell_type": "code",
   "execution_count": 108,
   "id": "9a12ed58",
   "metadata": {},
   "outputs": [
    {
     "name": "stdout",
     "output_type": "stream",
     "text": [
      "dict_items([('data1', 200), ('data2', -154), ('data3', 247)])\n",
      "Sorting Dictionaries by key:-  [('data1', 200), ('data2', -154), ('data3', 247)]\n",
      "Sorting Dictionaries by value:-  {'data2': -154, 'data1': 200, 'data3': 247}\n"
     ]
    }
   ],
   "source": [
    "# 7. Write a Python program to sort Python Dictionaries by Key or Value?\n",
    "dict_1 = {'data1':200,'data2':-154,'data3':247}\n",
    "\n",
    "\n",
    "dictionary_items = dict_1.items()\n",
    "print((dictionary_items))\n",
    "sorted_items = sorted(dictionary_items)\n",
    "print(\"Sorting Dictionaries by key:- \",sorted_items)\n",
    "dictionary_items = dict_1.items()\n",
    "\n",
    "\n",
    "\n",
    "sorted_values = sorted(dict_1.values()) # Sort the values\n",
    "sorted_dict = {}\n",
    "\n",
    "for i in sorted_values:\n",
    "    for k in dict_1.keys():\n",
    "        if dict_1[k] == i:\n",
    "            sorted_dict[k] = dict_1[k]\n",
    "            break\n",
    "print(\"Sorting Dictionaries by value:- \",sorted_dict)\n",
    "\n",
    "\n",
    "    \n",
    "\n"
   ]
  },
  {
   "cell_type": "code",
   "execution_count": null,
   "id": "6aea5329",
   "metadata": {},
   "outputs": [],
   "source": []
  },
  {
   "cell_type": "code",
   "execution_count": null,
   "id": "7c7f1b96",
   "metadata": {},
   "outputs": [],
   "source": []
  }
 ],
 "metadata": {
  "kernelspec": {
   "display_name": "Python 3",
   "language": "python",
   "name": "python3"
  },
  "language_info": {
   "codemirror_mode": {
    "name": "ipython",
    "version": 3
   },
   "file_extension": ".py",
   "mimetype": "text/x-python",
   "name": "python",
   "nbconvert_exporter": "python",
   "pygments_lexer": "ipython3",
   "version": "3.8.8"
  }
 },
 "nbformat": 4,
 "nbformat_minor": 5
}
