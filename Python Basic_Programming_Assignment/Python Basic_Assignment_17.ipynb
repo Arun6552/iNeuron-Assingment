{
 "cells": [
  {
   "cell_type": "code",
   "execution_count": 14,
   "id": "d96afb83",
   "metadata": {},
   "outputs": [
    {
     "name": "stdout",
     "output_type": "stream",
     "text": [
      "Enter the value of a 1\n",
      "Enter the value of b 10\n",
      "Enter the value of c 3\n",
      "----> 18\n"
     ]
    }
   ],
   "source": [
    "'''Question1. Create a function that takes three arguments a, b, c and returns the sum of the\n",
    "numbers that are evenly divided by c from the range a, b inclusive.\n",
    "Examples\n",
    "evenly_divisible(1, 10, 20) ➞ 0\n",
    "# No number between 1 and 10 can be evenly divided by 20.\n",
    "evenly_divisible(1, 10, 2) ➞ 30\n",
    "# 2 + 4 + 6 + 8 + 10 = 30\n",
    "evenly_divisible(1, 10, 3) ➞ 18\n",
    "# 3 + 6 + 9 = 18\n",
    "'''\n",
    "\n",
    "\n",
    "def evenly_divisible(a,b,c):\n",
    "    result = 0 \n",
    "    for i in range(a,b):\n",
    "        if i % c==0:\n",
    "            result+=i\n",
    "    return result\n",
    "    \n",
    "a = int(input(\"Enter the value of a \"))\n",
    "b = int(input(\"Enter the value of b \"))\n",
    "c = int(input(\"Enter the value of c \"))\n",
    "print(\"---->\",evenly_divisible(a,b,c))\n",
    "\n"
   ]
  },
  {
   "cell_type": "code",
   "execution_count": 21,
   "id": "357fa36a",
   "metadata": {},
   "outputs": [
    {
     "name": "stdout",
     "output_type": "stream",
     "text": [
      "True\n",
      "False\n",
      "True\n"
     ]
    }
   ],
   "source": [
    "'''Question2. Create a function that returns True if a given inequality expression is correct and\n",
    "False otherwise.\n",
    "Examples\n",
    "correct_signs(&quot;3 &lt; 7 &lt; 11&quot;) ➞ True\n",
    "correct_signs(&quot;13 &gt; 44 &gt; 33 &gt; 1&quot;) ➞ False\n",
    "correct_signs(&quot;1 &lt; 2 &lt; 6 &lt; 9 &gt; 3&quot;) ➞ True\n",
    "'''\n",
    "\n",
    "s = \"3 < 7 < 11\"\n",
    "\n",
    "def correct_signs(s):\n",
    "    regex = eval(s)\n",
    "    if regex:\n",
    "        return True\n",
    "    else:\n",
    "        return False\n",
    "    \n",
    "print(correct_signs(s))\n",
    "s = \"13 > 44 > 33 > 1 \"\n",
    "\n",
    "print(correct_signs(s))\n",
    "\n",
    "s = \"1 < 2 < 6 < 9 > 3 \"\n",
    "print(correct_signs(s))"
   ]
  },
  {
   "cell_type": "code",
   "execution_count": 42,
   "id": "f1d972be",
   "metadata": {},
   "outputs": [
    {
     "name": "stdout",
     "output_type": "stream",
     "text": [
      "Enter the string  the aardvark \n",
      "Enter the specified character  #\n"
     ]
    },
    {
     "data": {
      "text/plain": [
       "'th# ##rdv#rk '"
      ]
     },
     "execution_count": 42,
     "metadata": {},
     "output_type": "execute_result"
    }
   ],
   "source": [
    "'''\n",
    "\n",
    "Question3. Create a function that replaces all the vowels in a string with a specified character.\n",
    "Examples\n",
    "replace_vowels(&quot;the aardvark&quot;, &quot;#&quot;) ➞ &quot;th# ##rdv#rk&quot;\n",
    "replace_vowels(&quot;minnie mouse&quot;, &quot;?&quot;) ➞ &quot;m?nn?? m??s?&quot;\n",
    "replace_vowels(&quot;shakespeare&quot;, &quot;*&quot;) ➞ &quot;sh*k*sp**r*&quot;\n",
    "'''\n",
    "\n",
    "\n",
    "\n",
    "def replace_vowels(string,specified_char):\n",
    "    vowels = ['a','e','i','o','u']\n",
    "    for i in vowels:\n",
    "        if i in string:\n",
    "            string = string.replace(i,specified_char)\n",
    "    return string\n",
    "        \n",
    "\n",
    "\n",
    "string = input(\"Enter the string  \")\n",
    "specified_char = input(\"Enter the specified character  \")\n",
    "replace_vowels(string,specified_char)\n"
   ]
  },
  {
   "cell_type": "code",
   "execution_count": 52,
   "id": "83caa802",
   "metadata": {},
   "outputs": [
    {
     "name": "stdout",
     "output_type": "stream",
     "text": [
      "Enter the number 5\n",
      "The factroial is  120\n"
     ]
    }
   ],
   "source": [
    "'''\n",
    "Question4. Write a function that calculates the factorial of a number recursively.\n",
    "Examples\n",
    "factorial(5) ➞ 120\n",
    "factorial(3) ➞ 6\n",
    "factorial(1) ➞ 1\n",
    "factorial(0) ➞ 1\n",
    "'''\n",
    "\n",
    "\n",
    "def fact(num):\n",
    "    if num <=1:\n",
    "        return 1\n",
    "    else:\n",
    "        return fact(num-1)*num\n",
    "    \n",
    "num = int(input(\"Enter the number \"))\n",
    "print(\"The factroial is \",fact(num))"
   ]
  },
  {
   "cell_type": "code",
   "execution_count": 60,
   "id": "c02f0e98",
   "metadata": {},
   "outputs": [
    {
     "name": "stdout",
     "output_type": "stream",
     "text": [
      "5\n",
      "0\n",
      "1\n"
     ]
    }
   ],
   "source": [
    "'''\n",
    "Question 5\n",
    "Hamming distance is the number of characters that differ between two strings.\n",
    "To illustrate:\n",
    "String1: &quot;abcbba&quot;\n",
    "String2: &quot;abcbda&quot;\n",
    "Hamming Distance: 1 - &quot;b&quot; vs. &quot;d&quot; is the only difference.\n",
    "Create a function that computes the hamming distance between two strings.\n",
    "Examples\n",
    "hamming_distance(&quot;abcde&quot;, &quot;bcdef&quot;) ➞ 5\n",
    "hamming_distance(&quot;abcde&quot;, &quot;abcde&quot;) ➞ 0\n",
    "hamming_distance(&quot;strong&quot;, &quot;strung&quot;) ➞ 1\n",
    "'''\n",
    "\n",
    "\n",
    "def hamming_distace(first,second):\n",
    "    count = 0\n",
    "    for i in range(len(first)):\n",
    "        if first[i]!=second[i]:\n",
    "            count +=1       \n",
    "    return count\n",
    "                \n",
    "print(hamming_distace('abcde','bcdef') ) \n",
    "print(hamming_distace('abcde','abcde') )\n",
    "print(hamming_distace('strong','strung') )\n"
   ]
  },
  {
   "cell_type": "code",
   "execution_count": null,
   "id": "e906f006",
   "metadata": {},
   "outputs": [],
   "source": []
  }
 ],
 "metadata": {
  "kernelspec": {
   "display_name": "Python 3",
   "language": "python",
   "name": "python3"
  },
  "language_info": {
   "codemirror_mode": {
    "name": "ipython",
    "version": 3
   },
   "file_extension": ".py",
   "mimetype": "text/x-python",
   "name": "python",
   "nbconvert_exporter": "python",
   "pygments_lexer": "ipython3",
   "version": "3.8.8"
  }
 },
 "nbformat": 4,
 "nbformat_minor": 5
}
