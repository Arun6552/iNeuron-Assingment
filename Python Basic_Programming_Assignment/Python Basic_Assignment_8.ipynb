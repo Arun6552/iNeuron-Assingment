{
 "cells": [
  {
   "cell_type": "code",
   "execution_count": 35,
   "id": "bd2da904",
   "metadata": {},
   "outputs": [
    {
     "name": "stdout",
     "output_type": "stream",
     "text": [
      "Enter the number of rows2\n",
      "Enter the number of columns2\n",
      "Enter the entries rowwise for 1st matrix :\n",
      "1\n",
      "2\n",
      "3\n",
      "4\n",
      "Enter the entries rowwise for 2nd matrix :\n",
      "1\n",
      "2\n",
      "3\n",
      "4\n",
      "[2, 4] [6, 8] "
     ]
    }
   ],
   "source": [
    "# 1. Write a python program to Add Two matrices\n",
    "\n",
    "\n",
    "\n",
    "row = int(input(\"Enter the number of rows\"))\n",
    "column = int(input(\"Enter the number of columns\"))\n",
    "\n",
    "matrix1 = []\n",
    "matrix2 = []\n",
    "result = []\n",
    "print(\"Enter the entries rowwise for 1st matrix :\")\n",
    "for i in range(row):\n",
    "    a = []\n",
    "    for j in range(column):\n",
    "        a.append(int(input()))\n",
    "    matrix1.append(a)\n",
    "print(\"Enter the entries rowwise for 2nd matrix :\")\n",
    "for i in range(row):\n",
    "    a = []\n",
    "    for j in range(column):\n",
    "        a.append(int(input()))\n",
    "    matrix2.append(a)\n",
    "    \n",
    "for i in range(row):\n",
    "    a = []\n",
    "    for j in range(column):\n",
    "        a.append(0)\n",
    "    result.append(a)\n",
    "    \n",
    "for i in range(row):\n",
    "    for j in range(column):\n",
    "        result[i][j]=matrix1[i][j] + matrix2[i][j]\n",
    "        \n",
    "for i in result:\n",
    "    print(i,end=\" \")\n",
    "        "
   ]
  },
  {
   "cell_type": "code",
   "execution_count": 52,
   "id": "b29e3827",
   "metadata": {},
   "outputs": [
    {
     "name": "stdout",
     "output_type": "stream",
     "text": [
      "Enter the number of rows for matrix1 2\n",
      "Enter the number of columns for matrix1 3\n",
      "Enter the number of rows for matrix2 3\n",
      "Enter the number of columns matrix2 2\n",
      "Enter the entries rowwise for 1st matrix :\n",
      "3\n",
      "-2\n",
      "5\n",
      "3\n",
      "0\n",
      "4\n",
      "Enter the entries rowwise for 2nd matrix :\n",
      "2\n",
      "3\n",
      "-9\n",
      "0\n",
      "0\n",
      "4\n",
      "[24, 29] [6, 25] "
     ]
    }
   ],
   "source": [
    "# 2. Write a python program to multiply two matrices \n",
    "\n",
    "\n",
    "\n",
    "\n",
    "row1 = int(input(\"Enter the number of rows for matrix1 \"))\n",
    "column1 = int(input(\"Enter the number of columns for matrix1 \"))\n",
    "\n",
    "row2 = int(input(\"Enter the number of rows for matrix2 \"))\n",
    "column2 = int(input(\"Enter the number of columns matrix2 \"))\n",
    "\n",
    "\n",
    "if column1 != row2:\n",
    "    print(\"Can't Multiply\")\n",
    "else:\n",
    "\n",
    "    matrix1 = []\n",
    "    matrix2 = []\n",
    "    result = []\n",
    "\n",
    "    print(\"Enter the entries rowwise for 1st matrix :\")\n",
    "    for i in range(row1):\n",
    "        a = []\n",
    "        for j in range(column1):\n",
    "            a.append(int(input()))\n",
    "        matrix1.append(a)\n",
    "\n",
    "    print(\"Enter the entries rowwise for 2nd matrix :\")\n",
    "\n",
    "    for i in range(row2):\n",
    "        a = []\n",
    "        for j in range(column2):\n",
    "            a.append(int(input()))\n",
    "        matrix2.append(a)\n",
    "\n",
    "    for i in range(row1):\n",
    "        a = []\n",
    "        for j in range(column2):\n",
    "            a.append(0)\n",
    "        result.append(a)\n",
    "    \n",
    "    for i in range(row1):\n",
    "        for j in range(column2):\n",
    "            for k in range(column1):\n",
    "                result[i][j] += matrix1[i][k] * matrix2[k][j]\n",
    "        \n",
    "    for i in result:\n",
    "        print(i,end=\" \")"
   ]
  },
  {
   "cell_type": "code",
   "execution_count": 60,
   "id": "7c013c5f",
   "metadata": {},
   "outputs": [
    {
     "name": "stdout",
     "output_type": "stream",
     "text": [
      "Enter the number of rows for matrix1 2\n",
      "Enter the number of columns for matrix1 3\n",
      "Enter the entries rowwise for 1st matrix :\n",
      "1\n",
      "2\n",
      "3\n",
      "4\n",
      "5\n",
      "6\n",
      "[1, 4] [2, 5] [3, 6] "
     ]
    }
   ],
   "source": [
    "# 3. Write a python program to Transpose a Matrix.\n",
    "\n",
    "\n",
    "\n",
    "row = int(input(\"Enter the number of rows for matrix1 \"))\n",
    "column = int(input(\"Enter the number of columns for matrix1 \"))\n",
    "\n",
    "\n",
    "matrix = []\n",
    "result = []\n",
    "print(\"Enter the entries rowwise for 1st matrix :\")\n",
    "for i in range(row):\n",
    "    a = []\n",
    "    for j in range(column):\n",
    "        a.append(int(input()))\n",
    "    matrix.append(a)\n",
    "    \n",
    "for i in range(column):\n",
    "    a = []\n",
    "    for j in range(row):\n",
    "        a.append(0)\n",
    "    result.append(a)\n",
    "\n",
    "    \n",
    "for i in range(column):\n",
    "    for j in range(row):\n",
    "        result[i][j]=matrix[j][i]\n",
    "        \n",
    "for i in result:\n",
    "    print(i,end=\" \")\n",
    "    \n"
   ]
  },
  {
   "cell_type": "markdown",
   "id": "0ad2d74f",
   "metadata": {},
   "source": [
    "<!-- 4.Write a python program to sort words in Alphabetic order -->"
   ]
  },
  {
   "cell_type": "code",
   "execution_count": 65,
   "id": "f2ca8c77",
   "metadata": {},
   "outputs": [
    {
     "name": "stdout",
     "output_type": "stream",
     "text": [
      "Enter the wordsarun\n",
      "['a', 'n', 'r', 'u']\n"
     ]
    }
   ],
   "source": [
    "# 4. write a python program to sort words in Alphabetic Order\n",
    "\n",
    "word = input(\"Enter the words\")\n",
    "\n",
    "def sortWord(word):\n",
    "    return \" \".join(sorted(word))\n",
    "result = sorted(word)\n",
    "print(result)"
   ]
  },
  {
   "cell_type": "code",
   "execution_count": 70,
   "id": "11b49608",
   "metadata": {},
   "outputs": [
    {
     "name": "stdout",
     "output_type": "stream",
     "text": [
      "Enter string : I am a data scientist.\n",
      "I am a data scientist\n"
     ]
    }
   ],
   "source": [
    "# Write a python program to remove punction from a String\n",
    "string = input(\"Enter string : \")\n",
    "if '.' in string:\n",
    "    print(string.strip('.'))\n",
    "else:\n",
    "    print(\"punction not found \")"
   ]
  }
 ],
 "metadata": {
  "kernelspec": {
   "display_name": "Python 3",
   "language": "python",
   "name": "python3"
  },
  "language_info": {
   "codemirror_mode": {
    "name": "ipython",
    "version": 3
   },
   "file_extension": ".py",
   "mimetype": "text/x-python",
   "name": "python",
   "nbconvert_exporter": "python",
   "pygments_lexer": "ipython3",
   "version": "3.8.8"
  }
 },
 "nbformat": 4,
 "nbformat_minor": 5
}
