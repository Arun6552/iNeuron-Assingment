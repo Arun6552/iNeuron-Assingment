{
 "cells": [
  {
   "cell_type": "code",
   "execution_count": 10,
   "id": "a526c28d",
   "metadata": {},
   "outputs": [
    {
     "name": "stdout",
     "output_type": "stream",
     "text": [
      "inc....inc...incredible?\n",
      "ent....ent...enthuisastic?\n",
      "out....out...outstanding?\n"
     ]
    }
   ],
   "source": [
    "'''\n",
    "Question1. Write a function that stutters a word as if someone is struggling to read it. The\n",
    "first two letters are repeated twice with an ellipsis ... and space after each, and then the\n",
    "word is pronounced with a question mark ?.\n",
    "Examples\n",
    "stutter(&quot;incredible&quot;) ➞ &quot;in... in... incredible?&quot;\n",
    "stutter(&quot;enthusiastic&quot;) ➞ &quot;en... en... enthusiastic?&quot;\n",
    "stutter(&quot;outstanding&quot;) ➞ &quot;ou... ou... outstanding?&quot;\n",
    "\n",
    "Hint :- Assume all input is in lower case and at least two characters long.\n",
    "\n",
    "'''\n",
    "\n",
    "\n",
    "def sutters(word):\n",
    "    count = 0 \n",
    "    stutter = \"\"\n",
    "    for i in word:\n",
    "        stutter +=i\n",
    "        count +=1\n",
    "        if count > 2:\n",
    "            break\n",
    "    return \"{0}....{1}...{2}?\".format(stutter,stutter,word)\n",
    "\n",
    "word = \"incredible\"\n",
    "print(sutters(word))\n",
    "\n",
    "word = \"enthuisastic\"\n",
    "print(sutters(word))\n",
    "\n",
    "word = \"outstanding\"\n",
    "print(sutters(word))\n",
    "\n",
    "\n",
    "\n"
   ]
  },
  {
   "cell_type": "code",
   "execution_count": 45,
   "id": "1f577f3e",
   "metadata": {},
   "outputs": [
    {
     "name": "stdout",
     "output_type": "stream",
     "text": [
      "Enter the radian 20\n",
      "20 ----> 1145.9\n"
     ]
    }
   ],
   "source": [
    "'''Question 2.Create a function that takes an angle in radians and returns the corresponding\n",
    "angle in degrees rounded to one decimal place.\n",
    "Examples\n",
    "radians_to_degrees(1) ➞ 57.3\n",
    "radians_to_degrees(20) ➞ 1145.9\n",
    "radians_to_degrees(50) ➞ 2864.8\n",
    "'''\n",
    "\n",
    "import math \n",
    "\n",
    "def radins_to_degrees(radian):\n",
    "    \n",
    "    degrees = radian*180/math.pi \n",
    "    return degrees\n",
    "\n",
    "radian = int(input(\"Enter the radian \"))\n",
    "d = radins_to_degrees(radian)\n",
    "print(\"20 ---->\",round(r,1))\n"
   ]
  },
  {
   "cell_type": "code",
   "execution_count": 50,
   "id": "172df727",
   "metadata": {},
   "outputs": [
    {
     "name": "stdout",
     "output_type": "stream",
     "text": [
      "True\n",
      "False\n",
      "True\n"
     ]
    }
   ],
   "source": [
    "'''Question 3. In this challenge, establish if a given integer num is a Curzon number. If 1 plus\n",
    "2 elevated to num is exactly divisible by 1 plus 2 multiplied by num, then num is a Curzon\n",
    "number.\n",
    "Given a non-negative integer num, implement a function that returns True if num is a Curzon\n",
    "number, or False otherwise.\n",
    "Examples\n",
    "is_curzon(5) ➞ True\n",
    "# 2 ** 5 + 1 = 33\n",
    "# 2 * 5 + 1 = 11\n",
    "# 33 is a multiple of 11\n",
    "is_curzon(10) ➞ False\n",
    "# 2 ** 10 + 1 = 1025\n",
    "# 2 * 10 + 1 = 21\n",
    "# 1025 is not a multiple of 21\n",
    "is_curzon(14) ➞ True\n",
    "# 2 ** 14 + 1 = 16385\n",
    "# 2 * 14 + 1 = 29\n",
    "# 16385 is a multiple of 29\n",
    "'''\n",
    "\n",
    "\n",
    "def is_curzon(num):\n",
    "    first = 2**num + 1 \n",
    "    second = 2 * num + 1\n",
    "    if first % second ==0:\n",
    "        return True\n",
    "    else:\n",
    "        return False\n",
    "print(is_curzon(5))\n",
    "print(is_curzon(10))\n",
    "print(is_curzon(14))"
   ]
  },
  {
   "cell_type": "code",
   "execution_count": 54,
   "id": "fe3dfa66",
   "metadata": {},
   "outputs": [
    {
     "name": "stdout",
     "output_type": "stream",
     "text": [
      "Enter the length:- 2\n",
      "10.4\n"
     ]
    }
   ],
   "source": [
    "'''Question 4.Given the side length x find the area of a hexagon.\n",
    "Examples\n",
    "area_of_hexagon(1) ➞ 2.6\n",
    "area_of_hexagon(2) ➞ 10.4\n",
    "area_of_hexagon(3) ➞ 23.4\n",
    "\n",
    "'''\n",
    "import math\n",
    "def area_of_hexagon(length):\n",
    "    area = 3*math.sqrt(3)* length**2\n",
    "    result = area/2\n",
    "    return result\n",
    "\n",
    "length = int(input(\"Enter the length:- \"))\n",
    "area = area_of_hexagon(length)\n",
    "print(round(area,1))"
   ]
  },
  {
   "cell_type": "code",
   "execution_count": 67,
   "id": "dd1ff518",
   "metadata": {},
   "outputs": [
    {
     "name": "stdout",
     "output_type": "stream",
     "text": [
      "Enter the decimal value 10\n",
      "1010\n"
     ]
    }
   ],
   "source": [
    "'''\n",
    "Question 5. Create a function that returns a base-2 (binary) representation of a base-10\n",
    "(decimal) string number. To convert is simple: ((2) means base-2 and (10) means base-10)\n",
    "010101001(2) = 1 + 8 + 32 + 128.\n",
    "Going from right to left, the value of the most right bit is 1, now from that every bit to the left\n",
    "will be x2 the value, value of an 8 bit binary numbers are (256, 128, 64, 32, 16, 8, 4, 2, 1).\n",
    "Examples\n",
    "binary(1) ➞ \"1\";\n",
    "# 1*1 = 1\n",
    "binary(5) ➞ \"101\";\n",
    "# 1*1 + 1*4 = 5\n",
    "binary(10) ➞ \"1010\"\n",
    "# 1*2 + 1*8 = 10'''\n",
    "\n",
    "\n",
    "def binary(num):\n",
    "    bin = \"\"\n",
    "    while num > 0:\n",
    "        rem = num % 2 \n",
    "        bin +=str(rem) \n",
    "        num = num //2 \n",
    "    bin = bin[::-1]\n",
    "    return bin\n",
    "num = int(input(\"Enter the decimal value \"))\n",
    "print(binary(num))\n"
   ]
  }
 ],
 "metadata": {
  "kernelspec": {
   "display_name": "Python 3",
   "language": "python",
   "name": "python3"
  },
  "language_info": {
   "codemirror_mode": {
    "name": "ipython",
    "version": 3
   },
   "file_extension": ".py",
   "mimetype": "text/x-python",
   "name": "python",
   "nbconvert_exporter": "python",
   "pygments_lexer": "ipython3",
   "version": "3.8.8"
  }
 },
 "nbformat": 4,
 "nbformat_minor": 5
}
