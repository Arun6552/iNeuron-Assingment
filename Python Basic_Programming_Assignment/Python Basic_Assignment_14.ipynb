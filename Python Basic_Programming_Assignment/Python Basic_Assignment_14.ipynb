{
 "cells": [
  {
   "cell_type": "code",
   "execution_count": 43,
   "id": "c82ed0e2",
   "metadata": {},
   "outputs": [
    {
     "name": "stdout",
     "output_type": "stream",
     "text": [
      "Enter the number100\n",
      "0\n",
      "7\n",
      "14\n",
      "21\n",
      "28\n",
      "35\n",
      "42\n",
      "49\n",
      "56\n",
      "63\n",
      "70\n",
      "77\n",
      "84\n",
      "91\n",
      "98\n"
     ]
    }
   ],
   "source": [
    "'''Question 1:\n",
    "Define a class with a generator which can iterate the numbers, which are divisible by\n",
    "7, between a given range 0 and n'''\n",
    "\n",
    "\n",
    "\n",
    "class Generator:\n",
    "    def __init__(self,num):\n",
    "        self.num = num\n",
    "        \n",
    "    def div_by_7(self):\n",
    "        for i in range(0,self.num):\n",
    "            if i % 7 ==0:\n",
    "                yield i \n",
    "         \n",
    "n = int(input(\"Enter the number\"))       \n",
    "        \n",
    "g = Generator(n)\n",
    "\n",
    "\n",
    "for i in g.div_by_7():\n",
    "    print(i)\n"
   ]
  },
  {
   "cell_type": "code",
   "execution_count": 28,
   "id": "2769457b",
   "metadata": {},
   "outputs": [
    {
     "name": "stdout",
     "output_type": "stream",
     "text": [
      "2 : 2\n",
      "3. : 1\n",
      "3? : 1\n",
      "New : 1\n",
      "Python : 5\n",
      "Read : 1\n",
      "and : 1\n",
      "between : 1\n",
      "choosing : 1\n",
      "or : 2\n",
      "to : 1\n"
     ]
    }
   ],
   "source": [
    "'''Question 2:\n",
    "Write a program to compute the frequency of the words from the input. The output\n",
    "should output after sorting the key alphanumerically.\n",
    "Suppose the following input is supplied to the program:\n",
    "New to Python or choosing between Python 2 and Python 3? Read Python 2 or\n",
    "Python 3.\n",
    "Then, the output should be:\n",
    "2:2\n",
    "3.:1\n",
    "3?:1\n",
    "New:1\n",
    "Python:5\n",
    "Read:1\n",
    "and:1\n",
    "between:1\n",
    "choosing:1\n",
    "or:2\n",
    "to:1'''\n",
    "\n",
    "word = \"New to Python or choosing between Python 2 and Python 3? Read Python 2 or Python 3.\"\n",
    "\n",
    "word_lst = word.split(\" \")\n",
    "output = {}\n",
    "for i in word_lst:\n",
    "    output[i] = word_lst.count(i)\n",
    "        \n",
    "for key,value in sorted(output.items()):\n",
    "    print(key,\":\",value)\n",
    "\n",
    "\n"
   ]
  },
  {
   "cell_type": "code",
   "execution_count": 41,
   "id": "cda49c70",
   "metadata": {},
   "outputs": [
    {
     "name": "stdout",
     "output_type": "stream",
     "text": [
      "Female\n",
      "Male\n"
     ]
    }
   ],
   "source": [
    "'''Question 3:\n",
    "\n",
    "Define a class Person and its two child classes: Male and Female. All classes have a\n",
    "method &quot;getGender&quot; which can print &quot;Male&quot; for Male class and &quot;Female&quot; for Female\n",
    "class.'''\n",
    "\n",
    "\n",
    "class Person:\n",
    "    def __init__(self):\n",
    "        self.gender =\"Not Known\"\n",
    "        \n",
    "    def getGender(self):\n",
    "        return self.gender\n",
    "        \n",
    "class Male(Person):\n",
    "    def getGender(self):\n",
    "        return \"Male\"\n",
    "    \n",
    "class Female(Person):\n",
    "    def getGender(self):\n",
    "        return \"Female\"\n",
    "    \n",
    "p = Person()\n",
    "p.getGender()\n",
    "f = Female()\n",
    "m = Male()\n",
    "print(f.getGender())\n",
    "print(m.getGender())\n",
    "    \n",
    "        \n",
    "    \n",
    "    "
   ]
  },
  {
   "cell_type": "code",
   "execution_count": 46,
   "id": "5f8318fa",
   "metadata": {},
   "outputs": [
    {
     "name": "stdout",
     "output_type": "stream",
     "text": [
      "I Play Hockey .\n",
      "I Play Footbal .\n",
      "I Love Hockey .\n",
      "I Love Footbal .\n",
      "You Play Hockey .\n",
      "You Play Footbal .\n",
      "You Love Hockey .\n",
      "You Love Footbal .\n"
     ]
    }
   ],
   "source": [
    "'''Question 4:\n",
    "Please write a program to generate all sentences where subject is in [\"I\",\"You\"] and\n",
    "verb is in [\"Play\",\"Love\"] and the object is in [\"Hockey\",\"Footbal\"].'''\n",
    "\n",
    "def generate_sentences(subject,verb,object):\n",
    "    for i in subject:\n",
    "        for j in verb:\n",
    "            for k in object:\n",
    "                print(i,j,k,\".\")\n",
    "            \n",
    "subject = [\"I\",\"You\"]\n",
    "verb = [\"Play\",\"Love\"]\n",
    "object = [\"Hockey\",\"Footbal\"]\n",
    "generate_sentences(subject,verb,object)\n"
   ]
  },
  {
   "cell_type": "code",
   "execution_count": 90,
   "id": "2b5f0f58",
   "metadata": {},
   "outputs": [
    {
     "name": "stdout",
     "output_type": "stream",
     "text": [
      "b'x\\x9c\\xcbH\\xcd\\xc9\\xc9W(\\xcf/\\xcaIQ\\xcc\\x00\\xb1\\x91\\x98\\n\\x98l\\x00\\xb2\\xe9\\x11\\xd5'\n",
      "b'hello world!helloworld!hello world!hello world!'\n"
     ]
    }
   ],
   "source": [
    "'''Question 5:\n",
    "Please write a program to compress and decompress the string hello world!helloworld!hello world!hello world!.'''\n",
    "\n",
    "\n",
    "import zlib\n",
    "s = \"hello world!helloworld!hello world!hello world!\"\n",
    "t = zlib.compress(s.encode())\n",
    " \n",
    "print (t)\n",
    " \n",
    "print (zlib.decompress(t))"
   ]
  },
  {
   "cell_type": "code",
   "execution_count": 86,
   "id": "bab9c115",
   "metadata": {},
   "outputs": [
    {
     "name": "stdout",
     "output_type": "stream",
     "text": [
      "list is  [1, 2, 3, 4, 5, 7, 8]\n",
      "Element is present at index 7\n"
     ]
    }
   ],
   "source": [
    "'''Question 6:\n",
    "Please write a binary search function which searches an item in a sorted list. The\n",
    "function should return the index of element to be searched in the list.'''\n",
    "\n",
    "\n",
    "def binary_search(lst,element):\n",
    "    low = 0\n",
    "    high = len(lst) - 1\n",
    "    mid = 0\n",
    " \n",
    "    while low <= high:\n",
    " \n",
    "        mid = (high + low) // 2\n",
    "        if lst[mid] < element:\n",
    "            low = mid + 1\n",
    "        elif lst[mid] > element:\n",
    "            high = mid - 1\n",
    "        else:\n",
    "            return mid\n",
    "    return -1\n",
    "    \n",
    "\n",
    "lst = [1,4,2,5,3,8,7]\n",
    "element = 8\n",
    "lst = sorted(lst)\n",
    "print(\"list is \", lst)\n",
    "result = binary_search(lst, element)\n",
    " \n",
    "if result != -1:\n",
    "    print(\"Element is present at index\", str(result+1))\n",
    "else:\n",
    "    print(\"Element is not present in array\")\n",
    "\n",
    "\n"
   ]
  },
  {
   "cell_type": "code",
   "execution_count": null,
   "id": "dc2b92e9",
   "metadata": {},
   "outputs": [],
   "source": []
  }
 ],
 "metadata": {
  "kernelspec": {
   "display_name": "Python 3",
   "language": "python",
   "name": "python3"
  },
  "language_info": {
   "codemirror_mode": {
    "name": "ipython",
    "version": 3
   },
   "file_extension": ".py",
   "mimetype": "text/x-python",
   "name": "python",
   "nbconvert_exporter": "python",
   "pygments_lexer": "ipython3",
   "version": "3.8.8"
  }
 },
 "nbformat": 4,
 "nbformat_minor": 5
}
