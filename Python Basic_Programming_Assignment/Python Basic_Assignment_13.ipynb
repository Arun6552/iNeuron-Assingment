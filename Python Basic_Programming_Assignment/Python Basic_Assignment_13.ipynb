{
 "cells": [
  {
   "cell_type": "code",
   "execution_count": 51,
   "id": "3f737cf3",
   "metadata": {},
   "outputs": [
    {
     "name": "stdout",
     "output_type": "stream",
     "text": [
      "Enter the Number 100,150,180\n",
      "The Required result are: \n",
      "18,22,24,"
     ]
    }
   ],
   "source": [
    "'''Question 1:\n",
    "Write a program that calculates and prints the value according to the given formula:\n",
    "Q = Square root of [(2 * C * D)/H]\n",
    "Following are the fixed values of C and H:\n",
    "C is 50. H is 30.\n",
    "D is the variable whose values should be input to your program in a comma-separated\n",
    "sequence.\n",
    "Example\n",
    "Let us assume the following comma separated input sequence is given to the program:\n",
    "100,150,180\n",
    "The output of the program should be: 18,22,24\n",
    "'''\n",
    "import math\n",
    "\n",
    "def calculate_q(C,D_list,H):\n",
    "    for i in range(len(D_list)):\n",
    "        temp = (2 * C * int(D_list[i]))/H\n",
    "        result = int(math.sqrt(temp))\n",
    "        print(result,end=\",\")\n",
    "    \n",
    "    \n",
    "if __name__ == \"__main__\":   \n",
    "    C = 50 \n",
    "    H = 30 \n",
    "    D = (input(\"Enter the Number \"))\n",
    "    D_list = D.split(',')\n",
    "    print(\"The Required result are: \")\n",
    "    calculate_q(C,D_list,H)\n",
    "    \n",
    "\n",
    "\n",
    "\n",
    "\n"
   ]
  },
  {
   "cell_type": "code",
   "execution_count": 18,
   "id": "a87d8e77",
   "metadata": {},
   "outputs": [
    {
     "name": "stdout",
     "output_type": "stream",
     "text": [
      "Enter the no. of row 3\n",
      "Enter the no. of column 5\n",
      "[[0, 0, 0, 0, 0], [0, 1, 2, 3, 4], [0, 2, 4, 6, 8]]\n"
     ]
    }
   ],
   "source": [
    "'''Question 2:\n",
    "Write a program which takes 2 digits, X,Y as input and generates a 2-dimensional array. The\n",
    "element value in the i-th row and j-th column of the array should be i*j.\n",
    "Note: i=0,1.., X-1; j=0,1,¡Y-1.\n",
    "Example\n",
    "Suppose the following inputs are given to the program:\n",
    "3,5\n",
    "Then, the output of the program should be:\n",
    "[[0, 0, 0, 0, 0], [0, 1, 2, 3, 4], [0, 2, 4, 6, 8]]'''\n",
    "\n",
    "\n",
    "row = int(input(\"Enter the no. of row \"))\n",
    "column = int(input(\"Enter the no. of column \"))\n",
    "arr = [ ]\n",
    "for i in range(row):\n",
    "    col = []\n",
    "    for j in range(column):\n",
    "        col.append(i*j)\n",
    "    arr.append(col)\n",
    "\n",
    "print(arr)\n",
    "\n"
   ]
  },
  {
   "cell_type": "code",
   "execution_count": 29,
   "id": "8e6500ea",
   "metadata": {},
   "outputs": [
    {
     "name": "stdout",
     "output_type": "stream",
     "text": [
      "Enter the wordwithout,hello,bag,world\n",
      "['bag', 'hello', 'without', 'world']\n"
     ]
    }
   ],
   "source": [
    "'''Question 3:\n",
    "Write a program that accepts a comma separated sequence of words as input and prints the\n",
    "words in a comma-separated sequence after sorting them alphabetically.\n",
    "Suppose the following input is supplied to the program:\n",
    "without,hello,bag,world\n",
    "Then, the output should be:\n",
    "bag,hello,without,world'''\n",
    "\n",
    "\n",
    "   \n",
    "word = input(\"Enter the word\")\n",
    "word_lst = word.split(',')\n",
    "print(sorted(word_lst))\n",
    "    \n",
    "\n",
    "    \n",
    "\n"
   ]
  },
  {
   "cell_type": "code",
   "execution_count": 79,
   "id": "25cdc57a",
   "metadata": {},
   "outputs": [
    {
     "name": "stdout",
     "output_type": "stream",
     "text": [
      "Enter the word :- hello world and practice makes perfect and hello world again\n",
      "again and hello makes perfect practice world\n"
     ]
    }
   ],
   "source": [
    "'''Question 4:\n",
    "Write a program that accepts a sequence of whitespace separated words as input and prints\n",
    "the words after removing all duplicate words and sorting them alphanumerically.\n",
    "Suppose the following input is supplied to the program:\n",
    "hello world and practice makes perfect and hello world again\n",
    "Then, the output should be:\n",
    "again and hello makes perfect practice world'''\n",
    "\n",
    "\n",
    "\n",
    "word = input('Enter the word :- ')\n",
    "word_lst = word.split(\" \")\n",
    "final_lst = []\n",
    "for i in word_lst:\n",
    "    if i not in final_lst:\n",
    "        final_lst.append(i)\n",
    "    else:\n",
    "        continue\n",
    "final_lst.sort()\n",
    "print(' '.join(final_lst))\n",
    "        \n",
    "            \n",
    "\n",
    "            \n"
   ]
  },
  {
   "cell_type": "code",
   "execution_count": 92,
   "id": "8f6f34a4",
   "metadata": {},
   "outputs": [
    {
     "name": "stdout",
     "output_type": "stream",
     "text": [
      "Enter a sentence hello world! 123\n",
      "LETTERS  10\n",
      "DIGITS 3\n"
     ]
    }
   ],
   "source": [
    "'''Question 5:\n",
    "Write a program that accepts a sentence and calculate the number of letters and digits.\n",
    "Suppose the following input is supplied to the program:\n",
    "hello world! 123\n",
    "Then, the output should be:\n",
    "LETTERS 10\n",
    "DIGITS 3\n",
    "'''\n",
    "all_digits = ['0', '1', '2', '3', '4', '5', '6', '7', '8', '9']\n",
    "all_small_letters = ['a', 'b', 'c', 'd', 'e', 'f', 'g', 'h', 'i', 'j', 'k', 'l',\n",
    "               'm', 'n', 'o', 'p', 'q', 'r', 's', 't', 'u', 'v', 'w', 'x', 'y', 'z']\n",
    "all_cap_letters = [ i.upper() for i in (all_small_letters)]\n",
    "\n",
    "no_letter =0\n",
    "no_digits = 0\n",
    "sentence = input(\"Enter a sentence \")\n",
    "for i in  sentence:\n",
    "    if i in all_small_letters or i in all_cap_letters:\n",
    "        no_letter +=1\n",
    "    \n",
    "    elif i in all_digits:\n",
    "        no_digits +=1\n",
    "print(\"LETTERS \",no_letter)\n",
    "print('DIGITS',no_digits)"
   ]
  },
  {
   "cell_type": "code",
   "execution_count": 119,
   "id": "95e3345a",
   "metadata": {},
   "outputs": [
    {
     "name": "stdout",
     "output_type": "stream",
     "text": [
      "Enter the password ABd1234@1,a F1#,2w3E*,2We3345\n",
      "['ABd1234@1']\n"
     ]
    }
   ],
   "source": [
    "'''Question 6:\n",
    "A website requires the users to input username and password to register. Write a program to\n",
    "check the validity of password input by users.\n",
    "Following are the criteria for checking the password:\n",
    "1. At least 1 letter between [a-z]\n",
    "2. At least 1 number between [0-9]\n",
    "1. At least 1 letter between [A-Z]\n",
    "3. At least 1 character from [$#@]\n",
    "4. Minimum length of transaction password: 6\n",
    "5. Maximum length of transaction password: 12\n",
    "Your program should accept a sequence of comma separated passwords and will check them\n",
    "according to the above criteria. Passwords that match the criteria are to be printed, each\n",
    "separated by a comma.\n",
    "Example\n",
    "If the following passwords are given as input to the program:\n",
    "ABd1234@1,a F1#,2w3E*,2We3345\n",
    "Then, the output of the program should be:\n",
    "ABd1234@1\n",
    "'''\n",
    "\n",
    "all_digits = ['0', '1', '2', '3', '4', '5', '6', '7', '8', '9']\n",
    "all_small_letters = ['a', 'b', 'c', 'd', 'e', 'f', 'g', 'h', 'i', 'j', 'k', 'l',\n",
    "               'm', 'n', 'o', 'p', 'q', 'r', 's', 't', 'u', 'v', 'w', 'x', 'y', 'z']\n",
    "all_cap_letters = [ i.upper() for i in (all_small_letters)]\n",
    "special_char = ['!',\"@\",'#']\n",
    "valid_password = [ ]\n",
    "\n",
    "password1 = input(\"Enter the password \")\n",
    "password_lst = password1.split(',')\n",
    "\n",
    "for password in password_lst:\n",
    "    \n",
    "    length = len(password)\n",
    "    if length >=6 and  length<=12:\n",
    "        has_number = any(i in all_digits for i in password )\n",
    "        has_special_char = any(i in special_char for i in password)\n",
    "        has__small_letters = any(i in all_small_letters for i in password)\n",
    "        has_cap_letters = any(i in all_cap_letters for i in password)\n",
    "        if has_number ==True and has_special_char==True and has__small_letters==True and has_cap_letters==True :\n",
    "            valid_password.append(password)\n",
    "        \n",
    "        \n",
    "print(valid_password)       \n",
    "        \n",
    "            \n"
   ]
  },
  {
   "cell_type": "code",
   "execution_count": 126,
   "id": "8d97eb55",
   "metadata": {},
   "outputs": [
    {
     "name": "stdout",
     "output_type": "stream",
     "text": [
      "True\n",
      "True\n",
      "True\n",
      "True\n",
      "True\n",
      "True\n",
      "True\n",
      "True\n",
      "True\n",
      "True\n",
      "True\n",
      "True\n",
      "True\n",
      "True\n",
      "True\n",
      "True\n",
      "True\n",
      "True\n",
      "True\n",
      "True\n",
      "True\n",
      "True\n",
      "True\n",
      "True\n",
      "True\n",
      "True\n",
      "True\n",
      "True\n",
      "True\n",
      "True\n",
      "True\n"
     ]
    }
   ],
   "source": [
    "password = '123'\n",
    "\n",
    "has_number = any(i in all_digits for i in password )\n",
    "\n",
    "for i in all_digits:\n",
    "    for i in password:\n",
    "        print(any(i))\n",
    "\n",
    "print(has_number)\n",
    "    "
   ]
  }
 ],
 "metadata": {
  "kernelspec": {
   "display_name": "Python 3",
   "language": "python",
   "name": "python3"
  },
  "language_info": {
   "codemirror_mode": {
    "name": "ipython",
    "version": 3
   },
   "file_extension": ".py",
   "mimetype": "text/x-python",
   "name": "python",
   "nbconvert_exporter": "python",
   "pygments_lexer": "ipython3",
   "version": "3.8.8"
  }
 },
 "nbformat": 4,
 "nbformat_minor": 5
}
