{
 "cells": [
  {
   "cell_type": "code",
   "execution_count": 28,
   "id": "ee62d1fe",
   "metadata": {},
   "outputs": [
    {
     "name": "stdout",
     "output_type": "stream",
     "text": [
      "Enter the number 9\n",
      "The Fibonacci Sequence number are 0,1,1,2,3,5,8,13,21,34,"
     ]
    }
   ],
   "source": [
    "# 1. write a python program to Display Fibonacci sequence using Recurion \n",
    "\n",
    "def fib(num):\n",
    "        if num <=1:\n",
    "            return num\n",
    "        else:\n",
    "            return fib(num-1)+fib(num-2)\n",
    "num = int(input(\"Enter the number \")) \n",
    "print(\"The Fibonacci Sequence number are \",end=\"\")\n",
    "if __name__ ==\"__main__\":\n",
    "    for i in range(num+1):\n",
    "        print(fib(i),end=\",\")"
   ]
  },
  {
   "cell_type": "code",
   "execution_count": 39,
   "id": "378027de",
   "metadata": {},
   "outputs": [
    {
     "name": "stdout",
     "output_type": "stream",
     "text": [
      "Enter the number 5\n",
      "The factoral  number is 120\n"
     ]
    }
   ],
   "source": [
    "# 2.Write a python program to find the factorial of number using  Recurison?\n",
    "\n",
    "def fact(num):\n",
    "    if num <= 1:\n",
    "        return 1\n",
    "    else:\n",
    "        return num*fact(num-1)\n",
    "num = int(input(\"Enter the number \")) \n",
    "\n",
    "if __name__ ==\"__main__\":\n",
    "\n",
    "        print(\"The factoral  number is\", fact(i),)"
   ]
  },
  {
   "cell_type": "code",
   "execution_count": 56,
   "id": "624b6830",
   "metadata": {},
   "outputs": [
    {
     "name": "stdout",
     "output_type": "stream",
     "text": [
      "Enter the weight 65\n",
      "Enter the height 5.6\n"
     ]
    },
    {
     "data": {
      "text/plain": [
       "'The Body Mass Index is 2.0727'"
      ]
     },
     "execution_count": 56,
     "metadata": {},
     "output_type": "execute_result"
    }
   ],
   "source": [
    "# 3. Write a python program to calculate your body mass index?\n",
    "\n",
    "\n",
    "weight = int(input(\"Enter the weight \"))\n",
    "height = float(input(\"Enter the height \"))\n",
    "\n",
    "\n",
    "def body_mass_index(weight,height):\n",
    "    temp = weight /(height*height)\n",
    "    return \"The Body Mass Index is {:.4f}\".format(temp) \n",
    "\n",
    "body_mass_index(weight,height)\n",
    "\n"
   ]
  },
  {
   "cell_type": "code",
   "execution_count": 54,
   "id": "389faa3f",
   "metadata": {},
   "outputs": [
    {
     "name": "stdout",
     "output_type": "stream",
     "text": [
      "Enter a number to calculate its natural logarithm (base = e)\n",
      "10\n",
      "Natural log of 10.00 = 2.3026\n"
     ]
    }
   ],
   "source": [
    "# 4. Write a python program to calculate the natural logarithm of any number\n",
    "\n",
    "\n",
    "import math\n",
    "\n",
    "value = int(input(\"Enter a number to calculate its natural logarithm (base = e)\\n\"))\n",
    "result = math.log(value)\n",
    "\n",
    "print(\"Natural log of {:.2f} = {:.5}\".format(value,result))"
   ]
  },
  {
   "cell_type": "code",
   "execution_count": 58,
   "id": "4685b0e3",
   "metadata": {},
   "outputs": [
    {
     "name": "stdout",
     "output_type": "stream",
     "text": [
      "Enter the number 5\n"
     ]
    },
    {
     "data": {
      "text/plain": [
       "225"
      ]
     },
     "execution_count": 58,
     "metadata": {},
     "output_type": "execute_result"
    }
   ],
   "source": [
    "#5. Write a python program for cube sum of first n natural number.\n",
    "\n",
    "def find_cube_sum(num):\n",
    "    sum = 0 \n",
    "    for i in range(1,num+1):\n",
    "        sum +=i*i*i\n",
    "    return sum \n",
    "num = int(input(\"Enter the number \"))\n",
    "find_cube_sum(num)"
   ]
  },
  {
   "cell_type": "code",
   "execution_count": null,
   "id": "84b0b27a",
   "metadata": {},
   "outputs": [],
   "source": []
  }
 ],
 "metadata": {
  "kernelspec": {
   "display_name": "Python 3",
   "language": "python",
   "name": "python3"
  },
  "language_info": {
   "codemirror_mode": {
    "name": "ipython",
    "version": 3
   },
   "file_extension": ".py",
   "mimetype": "text/x-python",
   "name": "python",
   "nbconvert_exporter": "python",
   "pygments_lexer": "ipython3",
   "version": "3.8.8"
  }
 },
 "nbformat": 4,
 "nbformat_minor": 5
}
