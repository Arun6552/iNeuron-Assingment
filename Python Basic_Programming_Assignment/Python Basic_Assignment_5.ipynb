{
 "cells": [
  {
   "cell_type": "code",
   "execution_count": 130,
   "id": "ad76b547",
   "metadata": {},
   "outputs": [
    {
     "name": "stdout",
     "output_type": "stream",
     "text": [
      "the lcm of 12 15 is 60 \n"
     ]
    }
   ],
   "source": [
    "# 1. Write a python program to find LCM\n",
    "\n",
    "first_num = 12\n",
    "second_num = 15\n",
    "\n",
    "\n",
    "def find_lcm(first_num,second_num):\n",
    "    maximum = first_num if first_num > second_num else second_num;\n",
    "    \n",
    "    while(1):\n",
    "        if (maximum % first_num ==0 and maximum % second_num ==0):\n",
    "            print(\"the lcm of {} {} is {} \".format(first_num,second_num,maximum))\n",
    "            break\n",
    "        maximum +=1\n",
    " \n",
    " \n",
    "\n",
    "    \n",
    "find_lcm(first_num,second_num)\n"
   ]
  },
  {
   "cell_type": "code",
   "execution_count": 29,
   "id": "8d6d2dfa",
   "metadata": {},
   "outputs": [
    {
     "name": "stdout",
     "output_type": "stream",
     "text": [
      "Enter the First Number 81\n",
      "Enter the Second Number 153 \n",
      "HCF OF the given number is 9 \n"
     ]
    }
   ],
   "source": [
    "# 2. Write a python program to find HCF\n",
    "\n",
    "\n",
    "\n",
    "\n",
    "def find_hcf(n1,n2):\n",
    "    while(n1!=n2):\n",
    "        if(n1 > n2):\n",
    "                n1 -= n2;\n",
    "        else:\n",
    "                n2 -= n1;\n",
    "    print(\"HCF OF the given number is {} \".format(n1))\n",
    "first_num = int(input(\"Enter the First Number \"))\n",
    "second_num = int(input(\"Enter the Second Number \"))    \n",
    "find_hcf(first_num,second_num)  "
   ]
  },
  {
   "cell_type": "code",
   "execution_count": 65,
   "id": "c846518c",
   "metadata": {},
   "outputs": [
    {
     "name": "stdout",
     "output_type": "stream",
     "text": [
      "Enter the Number 158\n",
      "Binary number :  10011110\n",
      "Octal number :  236\n",
      "Hexadecimal number :  9E\n"
     ]
    }
   ],
   "source": [
    "# 3. Write a python program to convert Decimal to Binary,Octal and Hexadecimal.\n",
    "\n",
    "number = int(input(\"Enter the Number \"))\n",
    "\n",
    "def convert_binary(number):\n",
    "    temp = number\n",
    "    binary = \"\"\n",
    "    while temp >0:\n",
    "        rem = temp % 2 \n",
    "        temp //=2\n",
    "        binary +=str(rem)\n",
    "    result = binary[::-1]\n",
    "    print(\"Binary number : \",int(result))\n",
    "convert_binary(number)\n",
    "\n",
    "\n",
    "def convert_octal(number):\n",
    "    temp = number\n",
    "    octal = \"\"\n",
    "    while temp >0:\n",
    "        rem = temp % 8 \n",
    "        temp //=8\n",
    "        octal +=str(rem)\n",
    "    result = octal[::-1]\n",
    "    print(\"Octal number : \",int(result))\n",
    "convert_octal(number)\n",
    "\n",
    "\n",
    "def convert_hexadecimal(number):\n",
    "    temp = number\n",
    "    hexadecimal = \"\"\n",
    "    while temp >0:\n",
    "        rem = temp % 16 \n",
    "        temp //=16\n",
    "        if rem == 10: \n",
    "            rem = 'A'\n",
    "        elif rem ==11:\n",
    "            rem = 'B'\n",
    "        elif rem == 12:\n",
    "            rem = 'C'\n",
    "        elif rem == 13:\n",
    "            rem = 'D'\n",
    "        elif rem == 14:\n",
    "            rem = 'E'\n",
    "        elif rem == 15:\n",
    "            rem = 'F'\n",
    "        hexadecimal +=str(rem)\n",
    "    result = hexadecimal[::-1]\n",
    "    print(\"Hexadecimal number : \",(result))\n",
    "convert_hexadecimal(number)"
   ]
  },
  {
   "cell_type": "code",
   "execution_count": 78,
   "id": "585ef9b1",
   "metadata": {},
   "outputs": [
    {
     "name": "stdout",
     "output_type": "stream",
     "text": [
      "Enter the character S\n"
     ]
    },
    {
     "data": {
      "text/plain": [
       "'The ASCII value of S is 83'"
      ]
     },
     "execution_count": 78,
     "metadata": {},
     "output_type": "execute_result"
    }
   ],
   "source": [
    "# 4. Write a python prgram to find ASCII value of a character.\n",
    "\n",
    "char = input(\"Enter the character \")\n",
    "\n",
    "def find_ascii_value(char):\n",
    "    return \"The ASCII value of {} is {}\".format(char,ord(char))\n",
    "\n",
    "find_ascii_value(char)\n",
    "\n",
    "\n"
   ]
  },
  {
   "cell_type": "code",
   "execution_count": 123,
   "id": "4a6671a7",
   "metadata": {},
   "outputs": [
    {
     "name": "stdout",
     "output_type": "stream",
     "text": [
      "Enter the choice:\n",
      " 1.Add\n",
      " 2.Subtraction\n",
      " 3.Multiplication\n",
      " 4.Division\n",
      " 5.Exit\n",
      "1\n",
      "Enter first number 55\n",
      "Enter the second number 53\n",
      "\n",
      "Addtion :   108\n",
      "Enter the choice:\n",
      " 1.Add\n",
      " 2.Subtraction\n",
      " 3.Multiplication\n",
      " 4.Division\n",
      " 5.Exit\n",
      "2\n",
      "Enter first number 65\n",
      "Enter the second number 23\n",
      "\n",
      "subtraction :   42\n",
      "Enter the choice:\n",
      " 1.Add\n",
      " 2.Subtraction\n",
      " 3.Multiplication\n",
      " 4.Division\n",
      " 5.Exit\n",
      "3\n",
      "Enter first number 45\n",
      "Enter the second number 5\n",
      "\n",
      "mul :   225\n",
      "Enter the choice:\n",
      " 1.Add\n",
      " 2.Subtraction\n",
      " 3.Multiplication\n",
      " 4.Division\n",
      " 5.Exit\n",
      "455\n",
      "Enter the right choice\n",
      "Enter the choice:\n",
      " 1.Add\n",
      " 2.Subtraction\n",
      " 3.Multiplication\n",
      " 4.Division\n",
      " 5.Exit\n",
      "5\n"
     ]
    }
   ],
   "source": [
    "#5. Write a Python Program to Make a Simple Calculator with 4 basic mathematical operations?\n",
    "\n",
    "class Calculator:\n",
    "    def __init__(self,first,second):\n",
    "        self.first = first\n",
    "        self.second = second\n",
    "        \n",
    "    def add(self):\n",
    "        return self.first+ self.second\n",
    "    \n",
    "    def sub(self):\n",
    "        return self.first - self.second\n",
    "    \n",
    "    def mul(self):\n",
    "        return self.first * self.second\n",
    "    \n",
    "    def div(self):\n",
    "        return self.first / self.second\n",
    "    \n",
    "    \n",
    "\n",
    "while True:\n",
    "    choice = int(input(\"Enter the choice:\\n 1.Add\\n 2.Subtraction\\n 3.Multiplication\\n 4.Division\\n 5.Exit\\n\"))\n",
    "    if choice ==5:\n",
    "        break\n",
    "    else:\n",
    "        if choice >5 and choice !=0:\n",
    "            print(\"Enter the right choice\")\n",
    "        \n",
    "        else:\n",
    "            c = Calculator(int(input(\"Enter first number \")),int(input(\"Enter the second number \")))\n",
    "            if choice == 1:\n",
    "                print(\"\\nAddtion :  \",c.add())\n",
    "\n",
    "            if choice == 2:\n",
    "                print(\"\\nsubtraction :  \",c.sub())\n",
    "\n",
    "            if choice == 3:\n",
    "                print(\"\\nmul :  \",c.mul())\n",
    "\n",
    "            if choice == 4:\n",
    "                print(\"\\ndiv :  \",c.div())  \n",
    "        \n"
   ]
  },
  {
   "cell_type": "code",
   "execution_count": null,
   "id": "67815084",
   "metadata": {},
   "outputs": [],
   "source": [
    "\n"
   ]
  },
  {
   "cell_type": "code",
   "execution_count": null,
   "id": "bd1d849b",
   "metadata": {},
   "outputs": [],
   "source": []
  },
  {
   "cell_type": "code",
   "execution_count": null,
   "id": "f75edb56",
   "metadata": {},
   "outputs": [],
   "source": []
  }
 ],
 "metadata": {
  "kernelspec": {
   "display_name": "Python 3",
   "language": "python",
   "name": "python3"
  }
 },
 "nbformat": 4,
 "nbformat_minor": 5
}
