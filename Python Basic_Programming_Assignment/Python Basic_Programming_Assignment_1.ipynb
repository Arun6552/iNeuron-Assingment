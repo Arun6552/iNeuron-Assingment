{
 "cells": [
  {
   "cell_type": "code",
   "execution_count": 1,
   "id": "194ddacb",
   "metadata": {},
   "outputs": [
    {
     "name": "stdout",
     "output_type": "stream",
     "text": [
      "Hello Python\n"
     ]
    }
   ],
   "source": [
    "# 1. Write a python program to print \"Hello python\"\n",
    "\n",
    "\n",
    "print(\"Hello Python\")"
   ]
  },
  {
   "cell_type": "code",
   "execution_count": 4,
   "id": "e0817a30",
   "metadata": {},
   "outputs": [
    {
     "name": "stdout",
     "output_type": "stream",
     "text": [
      "105\n",
      "20.0\n",
      "95\n",
      "500\n"
     ]
    }
   ],
   "source": [
    "# 2. Write a python program to do arithmetical operations additon and division?\n",
    "\n",
    "\n",
    "x = 100\n",
    "y = 5 \n",
    "def sum(x,y):\n",
    "    return x+y\n",
    "def div(x,y):\n",
    "    return x/y\n",
    "def sub(x,y):\n",
    "    return x -y \n",
    "def mul(x,y):\n",
    "    return  x*y\n",
    "print(sum(x,y))\n",
    "print(div(x,y))\n",
    "print(sub(x,y))\n",
    "print(mul(x,y))\n",
    "\n",
    "\n",
    "    \n",
    "    "
   ]
  },
  {
   "cell_type": "code",
   "execution_count": 5,
   "id": "a128236d",
   "metadata": {},
   "outputs": [
    {
     "name": "stdout",
     "output_type": "stream",
     "text": [
      "Enter the base 5\n",
      "Enter the height2\n"
     ]
    },
    {
     "data": {
      "text/plain": [
       "5.0"
      ]
     },
     "execution_count": 5,
     "metadata": {},
     "output_type": "execute_result"
    }
   ],
   "source": [
    "# 3.Write a Python program to find the area of a triangle?\n",
    "\n",
    "base = int(input(\"Enter the base \"))\n",
    "height = int(input(\"Enter the height\"))\n",
    "\n",
    "def area_triangle(base,height):\n",
    "    return 0.5*base*height\n",
    "area_triangle(base,height)"
   ]
  },
  {
   "cell_type": "code",
   "execution_count": 49,
   "id": "47ef5fe9",
   "metadata": {},
   "outputs": [
    {
     "name": "stdout",
     "output_type": "stream",
     "text": [
      "Before Swapping:  Arun Chaudhary\n",
      "After Swapping:  Chaudhary Arun\n"
     ]
    }
   ],
   "source": [
    "#4.Write a Python program to swap two variables?\n",
    "\n",
    "first_variable = \"Arun\"\n",
    "second_variable = \"Chaudhary\"\n",
    "\n",
    "def swap(first_variable,second_variable):\n",
    "#     temp = first_variable\n",
    "#     first_variable = second_variable\n",
    "#     second_variable = temp\n",
    "    first_variable,second_variable =second_variable,first_variable\n",
    "    return  \"{} {}\".format(first_variable,second_variable)\n",
    " \n",
    "print(\"Before Swapping: \",first_variable,second_variable)\n",
    "print(\"After Swapping: \",swap(first_variable,second_variable))"
   ]
  },
  {
   "cell_type": "code",
   "execution_count": 65,
   "id": "f17023d7",
   "metadata": {},
   "outputs": [
    {
     "name": "stdout",
     "output_type": "stream",
     "text": [
      "5\n",
      "13\n"
     ]
    },
    {
     "data": {
      "text/plain": [
       "8"
      ]
     },
     "execution_count": 65,
     "metadata": {},
     "output_type": "execute_result"
    }
   ],
   "source": [
    "# 5.Write a Python program to generate a random number?\n",
    "import random\n",
    "\n",
    "start = int(input())\n",
    "end = int(input())\n",
    "\n",
    "def random1(start,end):\n",
    "    result = random.randint(start,end)\n",
    "    return result\n",
    "random1(start,end)"
   ]
  },
  {
   "cell_type": "code",
   "execution_count": null,
   "id": "5d26103b",
   "metadata": {},
   "outputs": [],
   "source": []
  },
  {
   "cell_type": "code",
   "execution_count": null,
   "id": "aacfaa93",
   "metadata": {},
   "outputs": [],
   "source": []
  }
 ],
 "metadata": {
  "kernelspec": {
   "display_name": "Python 3",
   "language": "python",
   "name": "python3"
  },
  "language_info": {
   "codemirror_mode": {
    "name": "ipython",
    "version": 3
   },
   "file_extension": ".py",
   "mimetype": "text/x-python",
   "name": "python",
   "nbconvert_exporter": "python",
   "pygments_lexer": "ipython3",
   "version": "3.8.8"
  }
 },
 "nbformat": 4,
 "nbformat_minor": 5
}
