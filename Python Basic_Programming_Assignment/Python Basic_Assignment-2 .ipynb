{
 "cells": [
  {
   "cell_type": "code",
   "execution_count": 8,
   "id": "949a452f",
   "metadata": {},
   "outputs": [
    {
     "name": "stdout",
     "output_type": "stream",
     "text": [
      "Enter Kilometers5\n"
     ]
    },
    {
     "data": {
      "text/plain": [
       "'3.106850'"
      ]
     },
     "execution_count": 8,
     "metadata": {},
     "output_type": "execute_result"
    }
   ],
   "source": [
    "# 1.Write a Python program to convert kilometers to miles?\n",
    "\n",
    "kilometers = int(input(\"Enter Kilometers\"))\n",
    "\n",
    "def convert_miles(kilometers):\n",
    "    miles = kilometers * 0.62137 \n",
    "    return \"{:.6f}\".format(miles)\n",
    "\n",
    "convert_miles(kilometers)\n",
    "\n",
    "    \n",
    "    \n",
    "\n"
   ]
  },
  {
   "cell_type": "code",
   "execution_count": 19,
   "id": "944fa19d",
   "metadata": {},
   "outputs": [
    {
     "name": "stdout",
     "output_type": "stream",
     "text": [
      "Enter Celsius0\n"
     ]
    },
    {
     "data": {
      "text/plain": [
       "'32° F'"
      ]
     },
     "execution_count": 19,
     "metadata": {},
     "output_type": "execute_result"
    }
   ],
   "source": [
    "#2. Write a Python program to convert Celsius to Fahrenheit?\n",
    "\n",
    "celsius = int(input(\"Enter Celsius\"))\n",
    "\n",
    "def convert_fahrenheit(celsius):\n",
    "    fahrenheit = (celsius *9)//5 +32\n",
    "    \n",
    "    return \"{}\\N{DEGREE SIGN} F\".format(fahrenheit)\n",
    "    \n",
    "convert_fahrenheit(celsius)\n",
    "    "
   ]
  },
  {
   "cell_type": "code",
   "execution_count": 42,
   "id": "35103325",
   "metadata": {},
   "outputs": [
    {
     "name": "stdout",
     "output_type": "stream",
     "text": [
      "Enter year2021\n",
      "Enter month09\n",
      "   September 2021\n",
      "Mo Tu We Th Fr Sa Su\n",
      "       1  2  3  4  5\n",
      " 6  7  8  9 10 11 12\n",
      "13 14 15 16 17 18 19\n",
      "20 21 22 23 24 25 26\n",
      "27 28 29 30\n",
      "\n"
     ]
    }
   ],
   "source": [
    "# 3.Write a Python program to display calendar?\n",
    "\n",
    "import calendar\n",
    "yy = int(input(\"Enter year\"))\n",
    "mm = int(input(\"Enter month\"))\n",
    "\n",
    "def  display_calendar(yy,mm):\n",
    "    return calendar.month(yy,mm)\n",
    "\n",
    "print(display_calendar(yy,mm))"
   ]
  },
  {
   "cell_type": "code",
   "execution_count": 51,
   "id": "c58d6483",
   "metadata": {},
   "outputs": [
    {
     "name": "stdout",
     "output_type": "stream",
     "text": [
      "Enter the value of a 1\n",
      "Enter the value of b 5\n",
      "Enter the value of c 6\n",
      "The solution are (-3+0j) and (-2+0j)\n"
     ]
    }
   ],
   "source": [
    "# 4. Write a Python program to solve quadratic equation?\n",
    "import cmath\n",
    "\n",
    "a = int(input(\"Enter the value of a \"))\n",
    "b = int(input(\"Enter the value of b \"))\n",
    "c = int(input(\"Enter the value of c \"))\n",
    "\n",
    "def quadratic_equation(a,b,c):\n",
    "    if a ==0:\n",
    "        print(\"a can't be zero\")\n",
    "        return  \n",
    "    else: \n",
    "        d = (b**2) - (4*a*c)\n",
    "        sol1 = (-b-cmath.sqrt(d))/(2*a)\n",
    "        sol2 = (-b+cmath.sqrt(d))/(2*a)\n",
    "        return \"The solution are {} and {}\".format(sol1,sol2)\n",
    "        \n",
    "print(quadratic_equation(a,b,c))\n",
    "        "
   ]
  },
  {
   "cell_type": "code",
   "execution_count": 52,
   "id": "00eef6df",
   "metadata": {},
   "outputs": [
    {
     "name": "stdout",
     "output_type": "stream",
     "text": [
      "Before Swapping:  Arun Chaudhary\n",
      "After Swapping:  Chaudhary Arun\n"
     ]
    }
   ],
   "source": [
    "# 5. Write a Python program to swap two variables without temp variable?\n",
    "first_variable = \"Arun\"\n",
    "second_variable = \"Chaudhary\"\n",
    "\n",
    "def swap(first_variable,second_variable):\n",
    "    first_variable,second_variable =second_variable,first_variable\n",
    "    return  \"{} {}\".format(first_variable,second_variable)\n",
    " \n",
    "print(\"Before Swapping: \",first_variable,second_variable)\n",
    "print(\"After Swapping: \",swap(first_variable,second_variable))"
   ]
  }
 ],
 "metadata": {
  "kernelspec": {
   "display_name": "Python 3",
   "language": "python",
   "name": "python3"
  },
  "language_info": {
   "codemirror_mode": {
    "name": "ipython",
    "version": 3
   },
   "file_extension": ".py",
   "mimetype": "text/x-python",
   "name": "python",
   "nbconvert_exporter": "python",
   "pygments_lexer": "ipython3",
   "version": "3.8.8"
  }
 },
 "nbformat": 4,
 "nbformat_minor": 5
}
