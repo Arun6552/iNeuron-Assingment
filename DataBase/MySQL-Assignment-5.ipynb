{
 "cells": [
  {
   "cell_type": "code",
   "execution_count": 8,
   "id": "cc4596f7",
   "metadata": {},
   "outputs": [
    {
     "name": "stdout",
     "output_type": "stream",
     "text": [
      "Database Connected...\n",
      "\n",
      "Showing the result: \n",
      "\n",
      "('Monika', 'Arora', 100000, datetime.datetime(2014, 2, 20, 9, 0), 'HR')\n",
      "('Niharika', 'Verma', 80000, datetime.datetime(2014, 6, 11, 9, 0), 'Admin')\n",
      "('Vishal', 'Singhal', 300000, datetime.datetime(2014, 2, 20, 9, 0), 'HR')\n",
      "('Amitabh', 'Singh', 500000, datetime.datetime(2014, 2, 20, 9, 0), 'Admin')\n",
      "('Vivek', 'Bhati', 500000, datetime.datetime(2014, 6, 11, 9, 0), 'Admin')\n",
      "('Geetika', 'Chauhan', 90000, datetime.datetime(2014, 4, 11, 9, 0), 'Admin')\n"
     ]
    }
   ],
   "source": [
    "'''Q-1. Write an SQL query to print details of workers excluding first names, “Vipul” and\n",
    "“Satish” from Worker table.\n",
    "'''\n",
    "\n",
    "from worker_table import SQL_Query    #custome module where worker, bonus,title table created.\n",
    "\n",
    "sq = SQL_Query()\n",
    "\n",
    "query = \"select first_name,last_name,salary,joining_date,department from worker where first_name !='Vipul' and first_name != 'Satish' \"\n",
    "\n",
    "sq.quest(query)"
   ]
  },
  {
   "cell_type": "code",
   "execution_count": 10,
   "id": "03bc38e7",
   "metadata": {},
   "outputs": [
    {
     "name": "stdout",
     "output_type": "stream",
     "text": [
      "\n",
      "Showing the result: \n",
      "\n",
      "(4, 'Amitabh', 'Singh', 500000, datetime.datetime(2014, 2, 20, 9, 0), 'Admin')\n"
     ]
    }
   ],
   "source": [
    "'''\n",
    "Q-2. Write an SQL query to print details of the Workers whose FIRST_NAME ends with\n",
    "‘h’ and contains six alphabets.\n",
    "'''\n",
    "\n",
    "query = \"select * from worker where first_name like '______h' \"\n",
    "\n",
    "sq.quest(query)"
   ]
  },
  {
   "cell_type": "code",
   "execution_count": null,
   "id": "88341973",
   "metadata": {},
   "outputs": [],
   "source": [
    "'''\n",
    "Q-3. Write a query to validate Email of Employee.\n",
    "'''\n",
    "\n",
    "query = \"select * from worker where wemail like '%@gmail.com' \" #wemail column not in worker table so it will print nothing.\n",
    "\n",
    "sq.quest(query)"
   ]
  },
  {
   "cell_type": "code",
   "execution_count": null,
   "id": "f10b014c",
   "metadata": {},
   "outputs": [],
   "source": []
  },
  {
   "cell_type": "code",
   "execution_count": null,
   "id": "15a07324",
   "metadata": {},
   "outputs": [],
   "source": []
  }
 ],
 "metadata": {
  "kernelspec": {
   "display_name": "Python 3",
   "language": "python",
   "name": "python3"
  },
  "language_info": {
   "codemirror_mode": {
    "name": "ipython",
    "version": 3
   },
   "file_extension": ".py",
   "mimetype": "text/x-python",
   "name": "python",
   "nbconvert_exporter": "python",
   "pygments_lexer": "ipython3",
   "version": "3.8.8"
  }
 },
 "nbformat": 4,
 "nbformat_minor": 5
}
