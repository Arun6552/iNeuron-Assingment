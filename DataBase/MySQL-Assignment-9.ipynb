{
 "cells": [
  {
   "cell_type": "code",
   "execution_count": 12,
   "id": "ca86ff56",
   "metadata": {},
   "outputs": [
    {
     "name": "stdout",
     "output_type": "stream",
     "text": [
      "Database Connected...\n",
      "\n",
      "Showing the result: \n",
      "\n",
      "(7, 'Satish', 'Kumar', 75000, datetime.datetime(2014, 1, 20, 9, 0), 'Account', None)\n",
      "(2, 'Niharika', 'Verma', 80000, datetime.datetime(2014, 6, 11, 9, 0), 'Admin', None)\n",
      "(8, 'Geetika', 'Chauhan', 90000, datetime.datetime(2014, 4, 11, 9, 0), 'Admin', None)\n",
      "(1, 'Monika', 'Arora', 100000, datetime.datetime(2014, 2, 20, 9, 0), 'HR', None)\n",
      "(6, 'Vipul', 'Diwan', 200000, datetime.datetime(2014, 6, 11, 9, 0), 'Account', None)\n",
      "None\n"
     ]
    }
   ],
   "source": [
    "\n",
    "# Q-15.Q-17. Write an SQL query to show the top n (say 5) records of a table..\n",
    "\n",
    "\n",
    "from worker_table import SQL_Query    #custome module where worker, bonus,title table created.\n",
    "\n",
    "sq = SQL_Query()\n",
    "\n",
    "query = \"select * from worker order by salary des limit 5 \"\n",
    "\n",
    "print(sq.quest(query))\n"
   ]
  },
  {
   "cell_type": "code",
   "execution_count": 6,
   "id": "f506201e",
   "metadata": {},
   "outputs": [
    {
     "name": "stdout",
     "output_type": "stream",
     "text": [
      "\n",
      "Showing the result: \n",
      "\n",
      "('Geetika', 'Chauhan', 90000)\n",
      "None\n"
     ]
    }
   ],
   "source": [
    "#Q-18. Write an SQL query to determine the nth (say n=5) highest salary from a table.\n",
    "\n",
    "query = \"select first_name,last_name,salary  from worker w1 where 4 = (select count(distinct salary) from worker w2 where  w2.salary > w1.salary)\"\n",
    "\n",
    "print(sq.quest(query))\n",
    "\n"
   ]
  },
  {
   "cell_type": "code",
   "execution_count": null,
   "id": "ef32f5d7",
   "metadata": {},
   "outputs": [],
   "source": []
  },
  {
   "cell_type": "code",
   "execution_count": null,
   "id": "2b68aefc",
   "metadata": {},
   "outputs": [],
   "source": []
  }
 ],
 "metadata": {
  "kernelspec": {
   "display_name": "Python 3",
   "language": "python",
   "name": "python3"
  },
  "language_info": {
   "codemirror_mode": {
    "name": "ipython",
    "version": 3
   },
   "file_extension": ".py",
   "mimetype": "text/x-python",
   "name": "python",
   "nbconvert_exporter": "python",
   "pygments_lexer": "ipython3",
   "version": "3.8.8"
  }
 },
 "nbformat": 4,
 "nbformat_minor": 5
}
