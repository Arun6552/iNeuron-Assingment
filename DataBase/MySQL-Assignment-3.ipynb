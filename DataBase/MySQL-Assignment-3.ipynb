{
 "cells": [
  {
   "cell_type": "code",
   "execution_count": 54,
   "id": "181e58dc",
   "metadata": {},
   "outputs": [
    {
     "name": "stdout",
     "output_type": "stream",
     "text": [
      "Database Connected...\n",
      "\n",
      "Showing the result: \n",
      "\n",
      "('Monika',)\n",
      "('Niharika',)\n",
      "('Vishal',)\n",
      "('Amitabh',)\n",
      "('Vivek',)\n",
      "('Vipul',)\n",
      "('Satish',)\n",
      "('Geetika',)\n"
     ]
    }
   ],
   "source": [
    "from worker_table import SQL_Query    #custome module where worker, bonus,title table created.\n",
    "\n",
    "'''\n",
    "Q-1. Write an SQL query to print the FIRST_NAME from Worker table after removing\n",
    "white spaces from the right side.\n",
    "'''\n",
    "\n",
    "sq = SQL_Query()\n",
    "\n",
    "query = \"select rtrim(first_name)from worker \"\n",
    "\n",
    "sq.quest(query)\n",
    "\n",
    "   "
   ]
  },
  {
   "cell_type": "code",
   "execution_count": 8,
   "id": "abd38170",
   "metadata": {},
   "outputs": [
    {
     "name": "stdout",
     "output_type": "stream",
     "text": [
      "\n",
      "Showing the result: \n",
      "\n",
      "(2,)\n",
      "(5,)\n",
      "(7,)\n"
     ]
    }
   ],
   "source": [
    "# Q-2. Write an SQL query that fetches the unique values of DEPARTMENT from Worker\n",
    "# table and prints its length.\n",
    "\n",
    "\n",
    "query = \"select department,length(department) from worker group by department \"\n",
    "query = \"Select distinct length(DEPARTMENT) from Worker;\"\n",
    "sq.quest(query)\n"
   ]
  },
  {
   "cell_type": "code",
   "execution_count": 49,
   "id": "9b220d25",
   "metadata": {},
   "outputs": [
    {
     "name": "stdout",
     "output_type": "stream",
     "text": [
      "Enter the nth  : 3\n",
      "\n",
      "Showing the result: \n",
      "\n",
      "(200000,)\n"
     ]
    }
   ],
   "source": [
    "'''\n",
    "Q-3. Write an SQL query to fetch nth max salaries from a table.\n",
    "\n",
    "'''\n",
    "N = int(input(\"Enter the nth  : \"))\n",
    "query = \"select salary from  worker as w1 where {}=(select count(distinct  salary) from worker w2 where w2.salary > w1.salary)\".format(N-1)\n",
    "\n",
    "sq.quest(query)\n"
   ]
  },
  {
   "cell_type": "code",
   "execution_count": null,
   "id": "871639f3",
   "metadata": {},
   "outputs": [],
   "source": []
  },
  {
   "cell_type": "code",
   "execution_count": null,
   "id": "b7097202",
   "metadata": {},
   "outputs": [],
   "source": []
  },
  {
   "cell_type": "code",
   "execution_count": null,
   "id": "087a7248",
   "metadata": {},
   "outputs": [],
   "source": []
  },
  {
   "cell_type": "code",
   "execution_count": null,
   "id": "5c389171",
   "metadata": {},
   "outputs": [],
   "source": []
  }
 ],
 "metadata": {
  "kernelspec": {
   "display_name": "Python 3",
   "language": "python",
   "name": "python3"
  },
  "language_info": {
   "codemirror_mode": {
    "name": "ipython",
    "version": 3
   },
   "file_extension": ".py",
   "mimetype": "text/x-python",
   "name": "python",
   "nbconvert_exporter": "python",
   "pygments_lexer": "ipython3",
   "version": "3.8.8"
  }
 },
 "nbformat": 4,
 "nbformat_minor": 5
}
