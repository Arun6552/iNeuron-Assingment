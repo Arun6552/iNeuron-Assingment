{
 "cells": [
  {
   "cell_type": "code",
   "execution_count": 2,
   "id": "28391f71",
   "metadata": {},
   "outputs": [
    {
     "name": "stdout",
     "output_type": "stream",
     "text": [
      "Database Connected...\n",
      "\n",
      "Showing the result: \n",
      "\n",
      "(8, 'Geetika', 'Chauhan', 90000, datetime.datetime(2014, 4, 11, 9, 0), 'Admin', None)\n",
      "\n",
      "\n",
      " None\n"
     ]
    }
   ],
   "source": [
    "#Q-19. Write an SQL query to determine the 5th highest salary without using TOP or limit\n",
    "# method.\n",
    "\n",
    "\n",
    "\n",
    "from worker_table import SQL_Query    #custome module where worker, bonus,title table created.\n",
    "\n",
    "sq = SQL_Query()\n",
    "\n",
    "\n",
    "query = \"select * from worker w1 where 4 = (select count(distinct salary) from worker w2 where w2.salary > w1.salary)\"\n",
    "print(\"\\n\\n\",sq.quest(query))"
   ]
  },
  {
   "cell_type": "code",
   "execution_count": 5,
   "id": "d65104ed",
   "metadata": {},
   "outputs": [
    {
     "name": "stdout",
     "output_type": "stream",
     "text": [
      "\n",
      "Showing the result: \n",
      "\n",
      "(4, 'Amitabh', 'Singh', 500000, datetime.datetime(2014, 2, 20, 9, 0), 'Admin', None)\n",
      "(5, 'Vivek', 'Bhati', 500000, datetime.datetime(2014, 6, 11, 9, 0), 'Admin', None)\n",
      "\n",
      "\n",
      " None\n"
     ]
    }
   ],
   "source": [
    "# Q-20. Write an SQL query to fetch the list of employees with the same salary.\n",
    "query = \"select * from worker where salary in (select salary from worker group by salary having count(*) >1)\" \n",
    "print(\"\\n\\n\",sq.quest(query))"
   ]
  }
 ],
 "metadata": {
  "kernelspec": {
   "display_name": "Python 3",
   "language": "python",
   "name": "python3"
  },
  "language_info": {
   "codemirror_mode": {
    "name": "ipython",
    "version": 3
   },
   "file_extension": ".py",
   "mimetype": "text/x-python",
   "name": "python",
   "nbconvert_exporter": "python",
   "pygments_lexer": "ipython3",
   "version": "3.8.8"
  }
 },
 "nbformat": 4,
 "nbformat_minor": 5
}
