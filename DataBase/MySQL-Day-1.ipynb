{
 "cells": [
  {
   "cell_type": "code",
   "execution_count": 22,
   "id": "9e1466be",
   "metadata": {},
   "outputs": [
    {
     "name": "stdout",
     "output_type": "stream",
     "text": [
      "[('information_schema',), ('mysql',), ('performance_schema',), ('sakila',), ('sys',), ('world',)]\n",
      "('Database',)\n"
     ]
    }
   ],
   "source": [
    "import mysql.connector as connection\n",
    "try:\n",
    "    db = connection.connect(host=\"localhost\",username= \"root\",password=\"Arzoo@6552\",use_pure=True)\n",
    "    cur = db.cursor()    #create a cursor to execute queries\n",
    "    cur.execute(\"show databases\")\n",
    "    # for i in cur:\n",
    "    #     print(i)\n",
    "    print(cur.fetchall())\n",
    "    print(cur.column_names)\n",
    "except Exception as e:\n",
    "    db.close()\n",
    "    print(str(e))\n",
    "    \n"
   ]
  },
  {
   "cell_type": "code",
   "execution_count": 23,
   "id": "e9671d35",
   "metadata": {},
   "outputs": [
    {
     "name": "stdout",
     "output_type": "stream",
     "text": [
      "[]\n",
      "()\n"
     ]
    }
   ],
   "source": [
    "#Create Database \n",
    "import mysql.connector as connection\n",
    "try:\n",
    "    db = connection.connect(host=\"localhost\",username= \"root\",password=\"Arzoo@6552\",use_pure=True)\n",
    "    cur = db.cursor()    #create a cursor to execute queries\n",
    "    query = 'create database Student'\n",
    "    cur.execute(query)\n",
    "    # for i in cur:\n",
    "    #     print(i)\n",
    "    print(cur.fetchall())\n",
    "    print(cur.column_names)\n",
    "except Exception as e:\n",
    "    db.close()\n",
    "    print(str(e))\n",
    "    "
   ]
  },
  {
   "cell_type": "code",
   "execution_count": 63,
   "id": "ead217ed",
   "metadata": {},
   "outputs": [
    {
     "data": {
      "text/plain": [
       "True"
      ]
     },
     "execution_count": 63,
     "metadata": {},
     "output_type": "execute_result"
    }
   ],
   "source": [
    "db = connection.connect(host=\"localhost\",username= \"root\",password=\"Arzoo@6552\",database=\"Student\",use_pure=True)\n",
    "db.is_connected()"
   ]
  },
  {
   "cell_type": "code",
   "execution_count": 32,
   "id": "a7f84a72",
   "metadata": {},
   "outputs": [],
   "source": [
    "cur  = db.cursor()\n",
    "cur.execute(\"create table test1(x1 INT(5), x2 VARCHAR(20) , x3 DATE)\")\n",
    "db.close()"
   ]
  },
  {
   "cell_type": "code",
   "execution_count": 76,
   "id": "1240fedc",
   "metadata": {},
   "outputs": [],
   "source": [
    "db = connection.connect(host='localhost',username='root',password=\"Arzoo@6552\",database='Student')\n",
    "cur = db.cursor()\n",
    "cur.execute(\"insert into test values(2344312,'aryb','2021-02-21')\")\n",
    "db.commit()"
   ]
  },
  {
   "cell_type": "code",
   "execution_count": 77,
   "id": "d13181ff",
   "metadata": {},
   "outputs": [],
   "source": [
    "cur.execute(\"insert into test values(2344312,'aryb','2021-02-21')\")\n",
    "cur.execute(\"insert into test values(2344312,'aryb','2021-02-21')\")\n",
    "cur.execute(\"insert into test values(2344312,'aryb','2021-02-21')\")\n",
    "cur.execute(\"insert into test values(2344312,'aryb','2021-02-21')\")\n",
    "cur.execute(\"insert into test values(2344312,'aryb','2021-02-21')\")\n",
    "cur.execute(\"insert into test values(2344312,'aryb','2021-02-21')\")\n",
    "cur.execute(\"insert into test values(2344312,'aryb','2021-02-21')\")\n",
    "cur.execute(\"insert into test values(2344312,'aryb','2021-02-21')\")\n",
    "cur.execute(\"insert into test values(2344312,'aryb','2021-02-21')\")\n",
    "cur.execute(\"insert into test values(2344312,'aryb','2021-02-21')\")\n",
    "cur.execute(\"insert into test values(2344312,'aryb','2021-02-21')\")\n",
    "cur.execute(\"insert into test values(2344312,'aryb','2021-02-21')\")\n",
    "db.commit()"
   ]
  },
  {
   "cell_type": "code",
   "execution_count": 78,
   "id": "c9a64542",
   "metadata": {},
   "outputs": [
    {
     "data": {
      "text/plain": [
       "[(2344312, 'aryb', datetime.date(2021, 2, 21)),\n",
       " (2344312, 'aryb', datetime.date(2021, 2, 21)),\n",
       " (2344312, 'aryb', datetime.date(2021, 2, 21)),\n",
       " (2344312, 'aryb', datetime.date(2021, 2, 21)),\n",
       " (2344312, 'aryb', datetime.date(2021, 2, 21)),\n",
       " (2344312, 'aryb', datetime.date(2021, 2, 21)),\n",
       " (2344312, 'aryb', datetime.date(2021, 2, 21)),\n",
       " (2344312, 'aryb', datetime.date(2021, 2, 21)),\n",
       " (2344312, 'aryb', datetime.date(2021, 2, 21)),\n",
       " (2344312, 'aryb', datetime.date(2021, 2, 21)),\n",
       " (2344312, 'aryb', datetime.date(2021, 2, 21)),\n",
       " (2344312, 'aryb', datetime.date(2021, 2, 21)),\n",
       " (2344312, 'aryb', datetime.date(2021, 2, 21)),\n",
       " (2344312, 'aryb', datetime.date(2021, 2, 21)),\n",
       " (2344312, 'aryb', datetime.date(2021, 2, 21)),\n",
       " (2344312, 'aryb', datetime.date(2021, 2, 21)),\n",
       " (2344312, 'aryb', datetime.date(2021, 2, 21)),\n",
       " (2344312, 'aryb', datetime.date(2021, 2, 21)),\n",
       " (2344312, 'aryb', datetime.date(2021, 2, 21)),\n",
       " (2344312, 'aryb', datetime.date(2021, 2, 21)),\n",
       " (2344312, 'aryb', datetime.date(2021, 2, 21)),\n",
       " (2344312, 'aryb', datetime.date(2021, 2, 21)),\n",
       " (2344312, 'aryb', datetime.date(2021, 2, 21)),\n",
       " (2344312, 'aryb', datetime.date(2021, 2, 21)),\n",
       " (2344312, 'aryb', datetime.date(2021, 2, 21)),\n",
       " (2344312, 'aryb', datetime.date(2021, 2, 21)),\n",
       " (2344312, 'aryb', datetime.date(2021, 2, 21)),\n",
       " (2344312, 'aryb', datetime.date(2021, 2, 21)),\n",
       " (2344312, 'aryb', datetime.date(2021, 2, 21)),\n",
       " (2344312, 'aryb', datetime.date(2021, 2, 21)),\n",
       " (2344312, 'aryb', datetime.date(2021, 2, 21)),\n",
       " (2344312, 'aryb', datetime.date(2021, 2, 21)),\n",
       " (2344312, 'aryb', datetime.date(2021, 2, 21)),\n",
       " (2344312, 'aryb', datetime.date(2021, 2, 21)),\n",
       " (2344312, 'aryb', datetime.date(2021, 2, 21)),\n",
       " (2344312, 'aryb', datetime.date(2021, 2, 21)),\n",
       " (2344312, 'aryb', datetime.date(2021, 2, 21)),\n",
       " (2344312, 'aryb', datetime.date(2021, 2, 21)),\n",
       " (2344312, 'aryb', datetime.date(2021, 2, 21)),\n",
       " (2344312, 'aryb', datetime.date(2021, 2, 21)),\n",
       " (2344312, 'aryb', datetime.date(2021, 2, 21)),\n",
       " (2344312, 'aryb', datetime.date(2021, 2, 21)),\n",
       " (2344312, 'aryb', datetime.date(2021, 2, 21)),\n",
       " (2344312, 'aryb', datetime.date(2021, 2, 21)),\n",
       " (2344312, 'aryb', datetime.date(2021, 2, 21)),\n",
       " (2344312, 'aryb', datetime.date(2021, 2, 21)),\n",
       " (2344312, 'aryb', datetime.date(2021, 2, 21)),\n",
       " (2344312, 'aryb', datetime.date(2021, 2, 21)),\n",
       " (2344312, 'aryb', datetime.date(2021, 2, 21)),\n",
       " (2344312, 'aryb', datetime.date(2021, 2, 21)),\n",
       " (2344312, 'aryb', datetime.date(2021, 2, 21)),\n",
       " (2344312, 'aryb', datetime.date(2021, 2, 21)),\n",
       " (2344312, 'aryb', datetime.date(2021, 2, 21)),\n",
       " (2344312, 'aryb', datetime.date(2021, 2, 21)),\n",
       " (2344312, 'aryb', datetime.date(2021, 2, 21)),\n",
       " (2344312, 'aryb', datetime.date(2021, 2, 21)),\n",
       " (2344312, 'aryb', datetime.date(2021, 2, 21)),\n",
       " (2344312, 'aryb', datetime.date(2021, 2, 21)),\n",
       " (2344312, 'aryb', datetime.date(2021, 2, 21)),\n",
       " (2344312, 'aryb', datetime.date(2021, 2, 21)),\n",
       " (2344312, 'aryb', datetime.date(2021, 2, 21)),\n",
       " (2344312, 'aryb', datetime.date(2021, 2, 21)),\n",
       " (2344312, 'aryb', datetime.date(2021, 2, 21)),\n",
       " (2344312, 'aryb', datetime.date(2021, 2, 21)),\n",
       " (2344312, 'aryb', datetime.date(2021, 2, 21)),\n",
       " (2344312, 'aryb', datetime.date(2021, 2, 21))]"
      ]
     },
     "execution_count": 78,
     "metadata": {},
     "output_type": "execute_result"
    }
   ],
   "source": [
    "cur.execute(\"select * from test\")\n",
    "cur.fetchall()"
   ]
  },
  {
   "cell_type": "code",
   "execution_count": 79,
   "id": "6ce18a01",
   "metadata": {},
   "outputs": [],
   "source": [
    "cur = db.cursor()\n",
    "cur.execute(\"select x1,x2 from test\")"
   ]
  },
  {
   "cell_type": "code",
   "execution_count": 80,
   "id": "7ff557c6",
   "metadata": {},
   "outputs": [
    {
     "name": "stdout",
     "output_type": "stream",
     "text": [
      "(2344312, 'aryb')\n",
      "(2344312, 'aryb')\n",
      "(2344312, 'aryb')\n",
      "(2344312, 'aryb')\n",
      "(2344312, 'aryb')\n",
      "(2344312, 'aryb')\n",
      "(2344312, 'aryb')\n",
      "(2344312, 'aryb')\n",
      "(2344312, 'aryb')\n",
      "(2344312, 'aryb')\n",
      "(2344312, 'aryb')\n",
      "(2344312, 'aryb')\n",
      "(2344312, 'aryb')\n",
      "(2344312, 'aryb')\n",
      "(2344312, 'aryb')\n",
      "(2344312, 'aryb')\n",
      "(2344312, 'aryb')\n",
      "(2344312, 'aryb')\n",
      "(2344312, 'aryb')\n",
      "(2344312, 'aryb')\n",
      "(2344312, 'aryb')\n",
      "(2344312, 'aryb')\n",
      "(2344312, 'aryb')\n",
      "(2344312, 'aryb')\n",
      "(2344312, 'aryb')\n",
      "(2344312, 'aryb')\n",
      "(2344312, 'aryb')\n",
      "(2344312, 'aryb')\n",
      "(2344312, 'aryb')\n",
      "(2344312, 'aryb')\n",
      "(2344312, 'aryb')\n",
      "(2344312, 'aryb')\n",
      "(2344312, 'aryb')\n",
      "(2344312, 'aryb')\n",
      "(2344312, 'aryb')\n",
      "(2344312, 'aryb')\n",
      "(2344312, 'aryb')\n",
      "(2344312, 'aryb')\n",
      "(2344312, 'aryb')\n",
      "(2344312, 'aryb')\n",
      "(2344312, 'aryb')\n",
      "(2344312, 'aryb')\n",
      "(2344312, 'aryb')\n",
      "(2344312, 'aryb')\n",
      "(2344312, 'aryb')\n",
      "(2344312, 'aryb')\n",
      "(2344312, 'aryb')\n",
      "(2344312, 'aryb')\n",
      "(2344312, 'aryb')\n",
      "(2344312, 'aryb')\n",
      "(2344312, 'aryb')\n",
      "(2344312, 'aryb')\n",
      "(2344312, 'aryb')\n",
      "(2344312, 'aryb')\n",
      "(2344312, 'aryb')\n",
      "(2344312, 'aryb')\n",
      "(2344312, 'aryb')\n",
      "(2344312, 'aryb')\n",
      "(2344312, 'aryb')\n",
      "(2344312, 'aryb')\n",
      "(2344312, 'aryb')\n",
      "(2344312, 'aryb')\n",
      "(2344312, 'aryb')\n",
      "(2344312, 'aryb')\n",
      "(2344312, 'aryb')\n",
      "(2344312, 'aryb')\n"
     ]
    }
   ],
   "source": [
    "for i in cur.fetchall():\n",
    "    print(i)"
   ]
  },
  {
   "cell_type": "code",
   "execution_count": 87,
   "id": "f1856244",
   "metadata": {},
   "outputs": [],
   "source": [
    "import pandas as pd\n",
    "a = pd.read_sql(\"select x1,x2,x3 from test\",db)"
   ]
  },
  {
   "cell_type": "code",
   "execution_count": 88,
   "id": "dde6f910",
   "metadata": {},
   "outputs": [
    {
     "data": {
      "text/plain": [
       "<bound method NDFrame.to_sql of          x1    x2          x3\n",
       "0   2344312  aryb  2021-02-21\n",
       "1   2344312  aryb  2021-02-21\n",
       "2   2344312  aryb  2021-02-21\n",
       "3   2344312  aryb  2021-02-21\n",
       "4   2344312  aryb  2021-02-21\n",
       "..      ...   ...         ...\n",
       "61  2344312  aryb  2021-02-21\n",
       "62  2344312  aryb  2021-02-21\n",
       "63  2344312  aryb  2021-02-21\n",
       "64  2344312  aryb  2021-02-21\n",
       "65  2344312  aryb  2021-02-21\n",
       "\n",
       "[66 rows x 3 columns]>"
      ]
     },
     "execution_count": 88,
     "metadata": {},
     "output_type": "execute_result"
    }
   ],
   "source": [
    "a.to_sql\n"
   ]
  },
  {
   "cell_type": "code",
   "execution_count": 89,
   "id": "f3d8a6cc",
   "metadata": {},
   "outputs": [],
   "source": [
    "a.to_csv(\"mysql.csv\")"
   ]
  },
  {
   "cell_type": "code",
   "execution_count": 98,
   "id": "69faa79a",
   "metadata": {},
   "outputs": [],
   "source": [
    "cur = db.cursor()\n",
    "cur.execute(\"create table mydata1(n1 int(5) , n2 varchar(20) , n3 date)\")"
   ]
  },
  {
   "cell_type": "code",
   "execution_count": 100,
   "id": "03b1cc6f",
   "metadata": {},
   "outputs": [
    {
     "data": {
      "text/html": [
       "<div>\n",
       "<style scoped>\n",
       "    .dataframe tbody tr th:only-of-type {\n",
       "        vertical-align: middle;\n",
       "    }\n",
       "\n",
       "    .dataframe tbody tr th {\n",
       "        vertical-align: top;\n",
       "    }\n",
       "\n",
       "    .dataframe thead th {\n",
       "        text-align: right;\n",
       "    }\n",
       "</style>\n",
       "<table border=\"1\" class=\"dataframe\">\n",
       "  <thead>\n",
       "    <tr style=\"text-align: right;\">\n",
       "      <th></th>\n",
       "      <th>Unnamed: 0</th>\n",
       "      <th>x1</th>\n",
       "      <th>x2</th>\n",
       "      <th>x3</th>\n",
       "    </tr>\n",
       "  </thead>\n",
       "  <tbody>\n",
       "    <tr>\n",
       "      <th>0</th>\n",
       "      <td>0</td>\n",
       "      <td>2344312</td>\n",
       "      <td>aryb</td>\n",
       "      <td>2021-02-21</td>\n",
       "    </tr>\n",
       "    <tr>\n",
       "      <th>1</th>\n",
       "      <td>1</td>\n",
       "      <td>2344312</td>\n",
       "      <td>aryb</td>\n",
       "      <td>2021-02-21</td>\n",
       "    </tr>\n",
       "    <tr>\n",
       "      <th>2</th>\n",
       "      <td>2</td>\n",
       "      <td>2344312</td>\n",
       "      <td>aryb</td>\n",
       "      <td>2021-02-21</td>\n",
       "    </tr>\n",
       "    <tr>\n",
       "      <th>3</th>\n",
       "      <td>3</td>\n",
       "      <td>2344312</td>\n",
       "      <td>aryb</td>\n",
       "      <td>2021-02-21</td>\n",
       "    </tr>\n",
       "    <tr>\n",
       "      <th>4</th>\n",
       "      <td>4</td>\n",
       "      <td>2344312</td>\n",
       "      <td>aryb</td>\n",
       "      <td>2021-02-21</td>\n",
       "    </tr>\n",
       "    <tr>\n",
       "      <th>...</th>\n",
       "      <td>...</td>\n",
       "      <td>...</td>\n",
       "      <td>...</td>\n",
       "      <td>...</td>\n",
       "    </tr>\n",
       "    <tr>\n",
       "      <th>61</th>\n",
       "      <td>61</td>\n",
       "      <td>2344312</td>\n",
       "      <td>aryb</td>\n",
       "      <td>2021-02-21</td>\n",
       "    </tr>\n",
       "    <tr>\n",
       "      <th>62</th>\n",
       "      <td>62</td>\n",
       "      <td>2344312</td>\n",
       "      <td>aryb</td>\n",
       "      <td>2021-02-21</td>\n",
       "    </tr>\n",
       "    <tr>\n",
       "      <th>63</th>\n",
       "      <td>63</td>\n",
       "      <td>2344312</td>\n",
       "      <td>aryb</td>\n",
       "      <td>2021-02-21</td>\n",
       "    </tr>\n",
       "    <tr>\n",
       "      <th>64</th>\n",
       "      <td>64</td>\n",
       "      <td>2344312</td>\n",
       "      <td>aryb</td>\n",
       "      <td>2021-02-21</td>\n",
       "    </tr>\n",
       "    <tr>\n",
       "      <th>65</th>\n",
       "      <td>65</td>\n",
       "      <td>2344312</td>\n",
       "      <td>aryb</td>\n",
       "      <td>2021-02-21</td>\n",
       "    </tr>\n",
       "  </tbody>\n",
       "</table>\n",
       "<p>66 rows × 4 columns</p>\n",
       "</div>"
      ],
      "text/plain": [
       "    Unnamed: 0       x1    x2          x3\n",
       "0            0  2344312  aryb  2021-02-21\n",
       "1            1  2344312  aryb  2021-02-21\n",
       "2            2  2344312  aryb  2021-02-21\n",
       "3            3  2344312  aryb  2021-02-21\n",
       "4            4  2344312  aryb  2021-02-21\n",
       "..         ...      ...   ...         ...\n",
       "61          61  2344312  aryb  2021-02-21\n",
       "62          62  2344312  aryb  2021-02-21\n",
       "63          63  2344312  aryb  2021-02-21\n",
       "64          64  2344312  aryb  2021-02-21\n",
       "65          65  2344312  aryb  2021-02-21\n",
       "\n",
       "[66 rows x 4 columns]"
      ]
     },
     "execution_count": 100,
     "metadata": {},
     "output_type": "execute_result"
    }
   ],
   "source": [
    "data = pd.read_csv('mysql.csv')\n",
    "data"
   ]
  },
  {
   "cell_type": "code",
   "execution_count": null,
   "id": "d4c5000b",
   "metadata": {},
   "outputs": [],
   "source": [
    "   "
   ]
  },
  {
   "cell_type": "code",
   "execution_count": null,
   "id": "f70a8d07",
   "metadata": {},
   "outputs": [],
   "source": []
  },
  {
   "cell_type": "code",
   "execution_count": null,
   "id": "98413261",
   "metadata": {},
   "outputs": [],
   "source": []
  },
  {
   "cell_type": "code",
   "execution_count": null,
   "id": "1658f589",
   "metadata": {},
   "outputs": [],
   "source": []
  },
  {
   "cell_type": "code",
   "execution_count": null,
   "id": "50fdd6d0",
   "metadata": {},
   "outputs": [],
   "source": []
  },
  {
   "cell_type": "code",
   "execution_count": null,
   "id": "9aaf827b",
   "metadata": {},
   "outputs": [],
   "source": []
  },
  {
   "cell_type": "code",
   "execution_count": null,
   "id": "43cf567f",
   "metadata": {},
   "outputs": [],
   "source": []
  },
  {
   "cell_type": "code",
   "execution_count": null,
   "id": "a5c555a9",
   "metadata": {},
   "outputs": [],
   "source": []
  },
  {
   "cell_type": "code",
   "execution_count": null,
   "id": "86efa7a4",
   "metadata": {},
   "outputs": [],
   "source": []
  },
  {
   "cell_type": "code",
   "execution_count": null,
   "id": "b71019c8",
   "metadata": {},
   "outputs": [],
   "source": []
  },
  {
   "cell_type": "code",
   "execution_count": null,
   "id": "89868637",
   "metadata": {},
   "outputs": [],
   "source": []
  },
  {
   "cell_type": "code",
   "execution_count": null,
   "id": "62ef1b90",
   "metadata": {},
   "outputs": [],
   "source": []
  },
  {
   "cell_type": "code",
   "execution_count": null,
   "id": "d85e639e",
   "metadata": {},
   "outputs": [],
   "source": []
  },
  {
   "cell_type": "code",
   "execution_count": null,
   "id": "b0c0211a",
   "metadata": {},
   "outputs": [],
   "source": []
  },
  {
   "cell_type": "code",
   "execution_count": null,
   "id": "53bbc385",
   "metadata": {},
   "outputs": [],
   "source": []
  },
  {
   "cell_type": "code",
   "execution_count": null,
   "id": "562afdb1",
   "metadata": {},
   "outputs": [],
   "source": []
  },
  {
   "cell_type": "code",
   "execution_count": null,
   "id": "83391f31",
   "metadata": {},
   "outputs": [],
   "source": []
  },
  {
   "cell_type": "code",
   "execution_count": null,
   "id": "53846a7e",
   "metadata": {},
   "outputs": [],
   "source": []
  },
  {
   "cell_type": "code",
   "execution_count": null,
   "id": "eecc099c",
   "metadata": {},
   "outputs": [],
   "source": []
  }
 ],
 "metadata": {
  "kernelspec": {
   "display_name": "Python 3",
   "language": "python",
   "name": "python3"
  },
  "language_info": {
   "codemirror_mode": {
    "name": "ipython",
    "version": 3
   },
   "file_extension": ".py",
   "mimetype": "text/x-python",
   "name": "python",
   "nbconvert_exporter": "python",
   "pygments_lexer": "ipython3",
   "version": "3.8.8"
  }
 },
 "nbformat": 4,
 "nbformat_minor": 5
}
