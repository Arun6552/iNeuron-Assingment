{
 "cells": [
  {
   "cell_type": "code",
   "execution_count": 4,
   "id": "942f9494",
   "metadata": {},
   "outputs": [
    {
     "name": "stdout",
     "output_type": "stream",
     "text": [
      "Database Connected...\n",
      "\n",
      "Showing the result: \n",
      "\n",
      "(1, 'Monika', 'Arora', 100000, datetime.datetime(2014, 2, 20, 9, 0), 'HR', None)\n",
      "(2, 'Niharika', 'Verma', 80000, datetime.datetime(2014, 6, 11, 9, 0), 'Admin', None)\n",
      "(3, 'Vishal', 'Singhal', 300000, datetime.datetime(2014, 2, 20, 9, 0), 'HR', None)\n",
      "(4, 'Amitabh', 'Singh', 500000, datetime.datetime(2014, 2, 20, 9, 0), 'Admin', None)\n",
      "(5, 'Vivek', 'Bhati', 500000, datetime.datetime(2014, 6, 11, 9, 0), 'Admin', None)\n",
      "(6, 'Vipul', 'Diwan', 200000, datetime.datetime(2014, 6, 11, 9, 0), 'Account', None)\n",
      "(7, 'Satish', 'Kumar', 75000, datetime.datetime(2014, 1, 20, 9, 0), 'Account', None)\n",
      "(8, 'Geetika', 'Chauhan', 90000, datetime.datetime(2014, 4, 11, 9, 0), 'Admin', None)\n",
      "None\n",
      "\n",
      "Showing the result: \n",
      "\n",
      "(1, 'Monika', 'Arora', 100000, datetime.datetime(2014, 2, 20, 9, 0), 'HR', None)\n",
      "(3, 'Vishal', 'Singhal', 300000, datetime.datetime(2014, 2, 20, 9, 0), 'HR', None)\n",
      "(5, 'Vivek', 'Bhati', 500000, datetime.datetime(2014, 6, 11, 9, 0), 'Admin', None)\n",
      "(7, 'Satish', 'Kumar', 75000, datetime.datetime(2014, 1, 20, 9, 0), 'Account', None)\n",
      "\n",
      "\n",
      " None\n"
     ]
    }
   ],
   "source": [
    "# Q-13. Write an SQL query to show only odd rows from a table.\n",
    "\n",
    "from worker_table import SQL_Query    #custome module where worker, bonus,title table created.\n",
    "\n",
    "sq = SQL_Query()\n",
    "\n",
    "query = \"select * from worker\"\n",
    "\n",
    "print(sq.quest(query))\n",
    "query = \"select * from worker where worker_id %2 !=0\"\n",
    "print(\"\\n\\n\",sq.quest(query))"
   ]
  },
  {
   "cell_type": "code",
   "execution_count": 8,
   "id": "85dad692",
   "metadata": {},
   "outputs": [],
   "source": [
    "# Q-14. Write an SQL query to clone a new table from another table.\n",
    "\n",
    "query = \"create table dupworker (select * from worker)\"\n",
    "\n"
   ]
  }
 ],
 "metadata": {
  "kernelspec": {
   "display_name": "Python 3",
   "language": "python",
   "name": "python3"
  },
  "language_info": {
   "codemirror_mode": {
    "name": "ipython",
    "version": 3
   },
   "file_extension": ".py",
   "mimetype": "text/x-python",
   "name": "python",
   "nbconvert_exporter": "python",
   "pygments_lexer": "ipython3",
   "version": "3.8.8"
  }
 },
 "nbformat": 4,
 "nbformat_minor": 5
}
