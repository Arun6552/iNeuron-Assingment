{
 "cells": [
  {
   "cell_type": "code",
   "execution_count": 1,
   "id": "238a5bcb",
   "metadata": {},
   "outputs": [
    {
     "name": "stdout",
     "output_type": "stream",
     "text": [
      "Database Connected...\n",
      "Table Ceated....\n",
      "Database Connected...\n",
      "\n",
      "Showing the result: \n",
      "\n",
      "(1, 'Monika', 'Arora', 100000, datetime.datetime(2014, 2, 20, 9, 0), 'HR', None)\n",
      "(3, 'Vishal', 'Singhal', 300000, datetime.datetime(2014, 2, 20, 9, 0), 'HR', None)\n",
      "(4, 'Amitabh', 'Singh', 500000, datetime.datetime(2014, 2, 20, 9, 0), 'Admin', None)\n"
     ]
    }
   ],
   "source": [
    "'''Write an SQL query to print details of the Workers who have joined in Feb’2014.\n",
    "'''\n",
    "\n",
    "\n",
    "\n",
    "from worker_table import SQL_Query    #custome module where worker, bonus,title table created.\n",
    "\n",
    "sq = SQL_Query()\n",
    "\n",
    "query = \"select * from worker where year(JOINING_DATE) = 2014 and month (JOINING_DATE)=2\"\n",
    "\n",
    "sq.quest(query)"
   ]
  },
  {
   "cell_type": "code",
   "execution_count": 4,
   "id": "15fefb8f",
   "metadata": {},
   "outputs": [
    {
     "name": "stdout",
     "output_type": "stream",
     "text": [
      "\n",
      "Showing the result: \n",
      "\n",
      "('Executive', datetime.datetime(2016, 6, 11, 0, 0), 3)\n",
      "('Lead', datetime.datetime(2016, 6, 11, 0, 0), 2)\n"
     ]
    }
   ],
   "source": [
    "'''\n",
    "Q-2. Write an SQL query to fetch duplicate records having matching data in some fields of\n",
    "a table.'''\n",
    "\n",
    "\n",
    "query = \"select worker_title,affected_from, count(*) from title group by worker_title, affected_from having count(*) > 1 \"\n",
    "\n",
    "sq.quest(query)"
   ]
  },
  {
   "cell_type": "code",
   "execution_count": 5,
   "id": "7ea4d76b",
   "metadata": {},
   "outputs": [
    {
     "name": "stdout",
     "output_type": "stream",
     "text": [
      "1064 (42000): You have an error in your SQL syntax; check the manual that corresponds to your MySQL server version for the right syntax to use near '* from duptitle group by worker_title,affected_from having count(*) >1' at line 1\n"
     ]
    }
   ],
   "source": [
    "'''How to remove duplicate rows from Employees table.'''\n",
    "\n",
    "query = \"delete * from duptitle group by worker_title,affected_from having count(*) >1 \"\n",
    "\n",
    "sq.quest(query)"
   ]
  },
  {
   "cell_type": "code",
   "execution_count": 17,
   "id": "8731775b",
   "metadata": {},
   "outputs": [
    {
     "name": "stdout",
     "output_type": "stream",
     "text": [
      "None\n"
     ]
    }
   ],
   "source": [
    "ls = [1,2,34,5]\n",
    "# sorted(ls)\n",
    "print(ls.sort())\n"
   ]
  },
  {
   "cell_type": "code",
   "execution_count": null,
   "id": "9e3a962c",
   "metadata": {},
   "outputs": [],
   "source": []
  },
  {
   "cell_type": "code",
   "execution_count": null,
   "id": "390af5e0",
   "metadata": {},
   "outputs": [],
   "source": []
  }
 ],
 "metadata": {
  "kernelspec": {
   "display_name": "Python 3",
   "language": "python",
   "name": "python3"
  },
  "language_info": {
   "codemirror_mode": {
    "name": "ipython",
    "version": 3
   },
   "file_extension": ".py",
   "mimetype": "text/x-python",
   "name": "python",
   "nbconvert_exporter": "python",
   "pygments_lexer": "ipython3",
   "version": "3.8.8"
  }
 },
 "nbformat": 4,
 "nbformat_minor": 5
}
