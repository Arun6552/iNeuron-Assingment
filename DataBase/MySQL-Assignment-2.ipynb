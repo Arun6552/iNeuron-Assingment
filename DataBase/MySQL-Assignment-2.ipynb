{
 "cells": [
  {
   "cell_type": "code",
   "execution_count": 85,
   "id": "29f86388",
   "metadata": {},
   "outputs": [
    {
     "name": "stdout",
     "output_type": "stream",
     "text": [
      "Database Connected...\n",
      "\n",
      "Showing the result: \n",
      "\n",
      "('Mon',)\n",
      "('Nih',)\n",
      "('Vis',)\n",
      "('Ami',)\n",
      "('Viv',)\n",
      "('Vip',)\n",
      "('Sat',)\n",
      "('Gee',)\n"
     ]
    }
   ],
   "source": [
    "from worker_table import SQL_Query    #module where worker, bonus,title table created.\n",
    "\n",
    "# Q-1. Write an SQL query to print the first three characters of  FIRST_NAME from Worker\n",
    "# table.\n",
    "\n",
    "sq = SQL_Query()\n",
    "\n",
    "query = \"select substring(first_name,1,3)  from worker as worker_name \"\n",
    "\n",
    "sq.quest(query)\n",
    "\n",
    "   "
   ]
  },
  {
   "cell_type": "code",
   "execution_count": 86,
   "id": "b13c2e26",
   "metadata": {},
   "outputs": [
    {
     "name": "stdout",
     "output_type": "stream",
     "text": [
      "\n",
      "Showing the result: \n",
      "\n",
      "(1,)\n"
     ]
    }
   ],
   "source": [
    "'''\n",
    "Q-2. Write an SQL query to find the position of the alphabet (‘a’) in the first name\n",
    "column ‘Amitabh’ from Worker table.\n",
    "'''\n",
    "\n",
    "query = \"select position('a' in first_name)  from worker as worker_name  where first_name = 'Amitabh' \"\n",
    "sq.quest(query)"
   ]
  },
  {
   "cell_type": "code",
   "execution_count": 87,
   "id": "1c237230",
   "metadata": {
    "scrolled": true
   },
   "outputs": [
    {
     "name": "stdout",
     "output_type": "stream",
     "text": [
      "\n",
      "Showing the result: \n",
      "\n",
      "('Monika', 'Arora')\n",
      "('Niharika', 'Verma')\n",
      "('Vipul', 'Diwan')\n"
     ]
    }
   ],
   "source": [
    "'''\n",
    "Q3.Write an SQL query to print the name of employees having the highest salary in each\n",
    "department.\n",
    "'''\n",
    "\n",
    "query = \"select first_name,last_name from worker  group by department having max(salary)\"\n",
    "\n",
    "sq.quest(query)"
   ]
  },
  {
   "cell_type": "code",
   "execution_count": null,
   "id": "1e0841c7",
   "metadata": {},
   "outputs": [],
   "source": []
  },
  {
   "cell_type": "code",
   "execution_count": null,
   "id": "31889f91",
   "metadata": {},
   "outputs": [],
   "source": []
  },
  {
   "cell_type": "code",
   "execution_count": null,
   "id": "c1a57166",
   "metadata": {},
   "outputs": [],
   "source": []
  }
 ],
 "metadata": {
  "kernelspec": {
   "display_name": "Python 3",
   "language": "python",
   "name": "python3"
  },
  "language_info": {
   "codemirror_mode": {
    "name": "ipython",
    "version": 3
   },
   "file_extension": ".py",
   "mimetype": "text/x-python",
   "name": "python",
   "nbconvert_exporter": "python",
   "pygments_lexer": "ipython3",
   "version": "3.8.8"
  }
 },
 "nbformat": 4,
 "nbformat_minor": 5
}
