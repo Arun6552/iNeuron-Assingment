{
 "cells": [
  {
   "cell_type": "code",
   "execution_count": 23,
   "id": "3f2ab3c8",
   "metadata": {},
   "outputs": [
    {
     "name": "stdout",
     "output_type": "stream",
     "text": [
      "Database Connected...\n",
      "Table Ceated....\n"
     ]
    }
   ],
   "source": [
    "import mysql.connector as connection\n",
    "class DB_Helper:\n",
    "    def __init__(self):\n",
    "        try:\n",
    "     \n",
    "            self.con = connection.connect(host=\"localhost\",\n",
    "                                         username = \"root\",\n",
    "                                         password = \"Arzoo@6552\",\n",
    "                                         database = 'myorg'\n",
    "                                         )\n",
    "            print(\"Database Connected...\")\n",
    "        except Exception as e:\n",
    "            print(e)\n",
    "    def create_table(self,query):\n",
    "        try:\n",
    "            self.query = query\n",
    "            cur = self.con.cursor()\n",
    "            cur.execute(query)\n",
    "            print(\"Table Ceated....\")\n",
    "        except Exception as e:\n",
    "            print(e)\n",
    "    \n",
    "    def insert_data_worker(self,worker_id,first_name,last_name,salary,joining_date,department):\n",
    "        try:\n",
    "            query = '''insert into worker(worker_id,first_name,last_name,salary,joining_date,department) values({} ,'{}', \n",
    "                                        '{}',{} ,'{}', '{}')'''.format(worker_id,first_name,last_name,salary,joining_date,department)\n",
    "\n",
    "    #         print(query)\n",
    "            cur  =  self.con.cursor()\n",
    "            cur.execute(query)\n",
    "            self.con.commit()\n",
    "            print(\"Data Inserted into Worker Table......\")\n",
    "        except Exception as e:\n",
    "            print(e)\n",
    "\n",
    "    def insert_data_bonus(self,worker_ref_id,bonus_amount,bonus_date):\n",
    "        try:\n",
    "            query = ''' insert into bonus(worker_ref_id,bonus_amount,bonus_data) values({} , {}, '{}')'''.format(worker_ref_id,bonus_amount,bonus_date)\n",
    "            cur = self.con.cursor()\n",
    "            cur.execute(query)\n",
    "            self.con.commit()\n",
    "            print(\"Data Inserted into Bonus Table....\")\n",
    "        except Exception as e:\n",
    "            print(e)\n",
    "        \n",
    "    def insert_data_title(self,worker_ref_id,worker_title,affected_from):\n",
    "        try:\n",
    "            query = ''' insert into title(worker_ref_id,worker_title,affected_from) values( {} , '{}','{}')'''.format(worker_ref_id,worker_title,affected_from)\n",
    "            cur = self.con.cursor(query)\n",
    "            cur.execute(query)\n",
    "            self.con.commit()\n",
    "            print(\"Data Inserted into Title table....\")\n",
    "        except Exception as e:\n",
    "            print(e)\n",
    "\n",
    "\n",
    "        \n",
    "#create sample worker table           \n",
    "# query = '''create table if not exists worker(worker_id int primary key,\n",
    "#                                     first_name varchar(25) ,\n",
    "#                                     last_name varchar(25),\n",
    "#                                     salary int(10) , \n",
    "#                                     joining_date datetime, \n",
    "#                                     department varchar(25))'''  \n",
    "#create sample bonus table\n",
    "# query = ''' create table if not exists bonus(worker_ref_id int , bonus_amount int(10),bonus_data datetime , foreign key(worker_ref_id) references worker(worker_id) on delete cascade)\n",
    "#             '''\n",
    "\n",
    "#create  sample title table\n",
    "query = ''' create table if not exists title(worker_ref_id int, worker_title varchar(15) , affected_from datetime, foreign key(worker_ref_id) references worker(worker_id) on delete cascade)\n",
    "        '''\n",
    "\n",
    "db = DB_Helper()\n",
    "db.create_table(query)\n",
    "\n",
    "#inserting the data into the worket table\n",
    "\n",
    "# db.insert_data_worker(\"%03d\" % (1,), 'Monika', 'Arora', 100000, '14-02-20 09.00.00', 'HR')\n",
    "# db.insert_data_worker(\"%03d\" % (2,),'Niharika', 'Verma', 80000, '2014-06-11 09.00.00', 'Admin')\n",
    "# db.insert_data_worker(\"%03d\" % (3,), 'Vishal', 'Singhal', 300000, '14-02-20 09.00.00', 'HR')\n",
    "# db.insert_data_worker(\"%03d\" % (4,), 'Amitabh', 'Singh', 500000, '14-02-20 09.00.00', 'Admin')\n",
    "# db.insert_data_worker(\"%03d\" % (5,), 'Vivek', 'Bhati', 500000, '14-06-11 09.00.00', 'Admin')\n",
    "# db.insert_data_worker(\"%03d\" % (6,), 'Vipul', 'Diwan', 200000, '14-06-11 09.00.00', 'Account')\n",
    "# db.insert_data_worker(\"%03d\" % (7,), 'Satish', 'Kumar', 75000, '14-01-20 09.00.00', 'Account')\n",
    "# db.insert_data_worker(\"%03d\" % (8,), 'Geetika', 'Chauhan', 90000, '14-04-11 09.00.00', 'Admin')\n",
    "\n",
    "#inserting the data into bonus table\n",
    "\n",
    "# db.insert_data_bonus(\"%03d\" % (1,), 5000, '16-02-20')\n",
    "# db.insert_data_bonus(\"%03d\" % (2,), 3000, '16-06-11')\n",
    "# db.insert_data_bonus(\"%03d\" % (3,), 4000, '16-02-20')\n",
    "# db.insert_data_bonus(\"%03d\" % (1,), 4500, '16-02-20')\n",
    "# db.insert_data_bonus(\"%03d\" % (2,), 3500, '16-06-11')\n",
    "\n",
    "#inserting the data into the title table\n",
    "\n",
    "# db.insert_data_title(\"%03d\" % (1,), 'Manager', '2016-02-20 00:00:00')\n",
    "# db.insert_data_title(\"%03d\" % (2,), 'Executive', '2016-06-11 00:00:00')\n",
    "# db.insert_data_title(\"%03d\" % (8,), 'Executive', '2016-06-11 00:00:00')\n",
    "# db.insert_data_title(\"%03d\" % (5,), 'Manager', '2016-06-11 00:00:00')\n",
    "# db.insert_data_title(\"%03d\" % (4,), 'Asst. Manager', '2016-06-11 00:00:00')\n",
    "# db.insert_data_title(\"%03d\" % (7,), 'Executive', '2016-06-11 00:00:00')\n",
    "# db.insert_data_title(\"%03d\" % (6,), 'Lead', '2016-06-11 00:00:00')\n",
    "# db.insert_data_title(\"%03d\" % (3,), 'Lead', '2016-06-11 00:00:00')\n"
   ]
  },
  {
   "cell_type": "code",
   "execution_count": 43,
   "id": "06edd869",
   "metadata": {},
   "outputs": [],
   "source": [
    "class SQL_Query(DB_Helper):\n",
    "    def quest(self,query):\n",
    "        try:\n",
    "            cur = self.con.cursor()\n",
    "            cur.execute(query)\n",
    "            print(\"\\nShowing the result: \\n\")\n",
    "            for i in cur:\n",
    "                print(i)\n",
    "        except Exception as e:\n",
    "            print(e)"
   ]
  },
  {
   "cell_type": "code",
   "execution_count": 44,
   "id": "3aa73ef6",
   "metadata": {},
   "outputs": [
    {
     "name": "stdout",
     "output_type": "stream",
     "text": [
      "Database Connected...\n",
      "\n",
      "Showing the result: \n",
      "\n",
      "('Monika',)\n",
      "('Niharika',)\n",
      "('Vishal',)\n",
      "('Amitabh',)\n",
      "('Vivek',)\n",
      "('Vipul',)\n",
      "('Satish',)\n",
      "('Geetika',)\n"
     ]
    }
   ],
   "source": [
    "#Q1.Write an SQL query to fetch “FIRST_NAME” from Worker table using the alias name as <WORKER_NAME>\n",
    "query = \"select first_name from worker as worker_name\"\n",
    "sq = SQL_Query()\n",
    "sq.quest(query)"
   ]
  },
  {
   "cell_type": "code",
   "execution_count": 45,
   "id": "6c6f1b64",
   "metadata": {},
   "outputs": [
    {
     "name": "stdout",
     "output_type": "stream",
     "text": [
      "Database Connected...\n",
      "\n",
      "Showing the result: \n",
      "\n",
      "('MONIKA',)\n",
      "('NIHARIKA',)\n",
      "('VISHAL',)\n",
      "('AMITABH',)\n",
      "('VIVEK',)\n",
      "('VIPUL',)\n",
      "('SATISH',)\n",
      "('GEETIKA',)\n"
     ]
    }
   ],
   "source": [
    "#Q#. Write an SQL query to fetch “FIRST_NAME” from Worker table using the alias name as <WORKER_NAME>\n",
    "query = \"select upper(first_name) from worker \"\n",
    "sq = SQL_Query()\n",
    "sq.quest(query)"
   ]
  },
  {
   "cell_type": "code",
   "execution_count": 46,
   "id": "5ca264b8",
   "metadata": {},
   "outputs": [
    {
     "name": "stdout",
     "output_type": "stream",
     "text": [
      "Database Connected...\n",
      "\n",
      "Showing the result: \n",
      "\n",
      "('HR',)\n",
      "('Admin',)\n",
      "('Account',)\n"
     ]
    }
   ],
   "source": [
    "#Q2.  Write an SQL query to fetch unique values of DEPARTMENT from Worker table.\n",
    "query = \"select department from worker group by department \"\n",
    "sq = SQL_Query()\n",
    "sq.quest(query)"
   ]
  },
  {
   "cell_type": "code",
   "execution_count": 47,
   "id": "2e01a4a6",
   "metadata": {},
   "outputs": [
    {
     "name": "stdout",
     "output_type": "stream",
     "text": [
      "Database Connected...\n",
      "\n",
      "Showing the result: \n",
      "\n",
      "(4, 'Amitabh', 'Singh', 500000, datetime.datetime(2014, 2, 20, 9, 0), 'Admin')\n",
      "(5, 'Vivek', 'Bhati', 500000, datetime.datetime(2014, 6, 11, 9, 0), 'Admin')\n",
      "(6, 'Vipul', 'Diwan', 200000, datetime.datetime(2014, 6, 11, 9, 0), 'Account')\n",
      "(7, 'Satish', 'Kumar', 75000, datetime.datetime(2014, 1, 20, 9, 0), 'Account')\n",
      "(8, 'Geetika', 'Chauhan', 90000, datetime.datetime(2014, 4, 11, 9, 0), 'Admin')\n"
     ]
    }
   ],
   "source": [
    "#Q3.Write an SQL query to show the last 5 record from a table.\n",
    "query = \"(select * from worker order by worker_id desc limit 5) order by worker_id asc  \"\n",
    "sq = SQL_Query()\n",
    "sq.quest(query)"
   ]
  },
  {
   "cell_type": "code",
   "execution_count": null,
   "id": "0c425e3a",
   "metadata": {},
   "outputs": [],
   "source": []
  },
  {
   "cell_type": "code",
   "execution_count": null,
   "id": "72f104ad",
   "metadata": {},
   "outputs": [],
   "source": []
  },
  {
   "cell_type": "code",
   "execution_count": null,
   "id": "75e9a0d1",
   "metadata": {},
   "outputs": [],
   "source": []
  },
  {
   "cell_type": "code",
   "execution_count": null,
   "id": "1a913a2f",
   "metadata": {},
   "outputs": [],
   "source": []
  },
  {
   "cell_type": "code",
   "execution_count": null,
   "id": "deedb107",
   "metadata": {},
   "outputs": [],
   "source": []
  },
  {
   "cell_type": "code",
   "execution_count": null,
   "id": "5b32324a",
   "metadata": {},
   "outputs": [],
   "source": []
  },
  {
   "cell_type": "code",
   "execution_count": null,
   "id": "a1866b2c",
   "metadata": {},
   "outputs": [],
   "source": []
  },
  {
   "cell_type": "code",
   "execution_count": null,
   "id": "53feb89f",
   "metadata": {},
   "outputs": [],
   "source": []
  },
  {
   "cell_type": "code",
   "execution_count": null,
   "id": "99496b8f",
   "metadata": {},
   "outputs": [],
   "source": []
  },
  {
   "cell_type": "code",
   "execution_count": null,
   "id": "036a41b4",
   "metadata": {},
   "outputs": [],
   "source": []
  },
  {
   "cell_type": "code",
   "execution_count": null,
   "id": "d7032e7e",
   "metadata": {},
   "outputs": [],
   "source": []
  },
  {
   "cell_type": "code",
   "execution_count": null,
   "id": "755d83b6",
   "metadata": {},
   "outputs": [],
   "source": []
  },
  {
   "cell_type": "code",
   "execution_count": null,
   "id": "97b4a4cd",
   "metadata": {},
   "outputs": [],
   "source": []
  },
  {
   "cell_type": "code",
   "execution_count": null,
   "id": "9c6a9dba",
   "metadata": {},
   "outputs": [],
   "source": []
  },
  {
   "cell_type": "code",
   "execution_count": null,
   "id": "afad0127",
   "metadata": {},
   "outputs": [],
   "source": []
  },
  {
   "cell_type": "code",
   "execution_count": null,
   "id": "c80ca5b6",
   "metadata": {},
   "outputs": [],
   "source": []
  },
  {
   "cell_type": "code",
   "execution_count": null,
   "id": "b91cb235",
   "metadata": {},
   "outputs": [],
   "source": []
  },
  {
   "cell_type": "code",
   "execution_count": null,
   "id": "6f774035",
   "metadata": {},
   "outputs": [],
   "source": []
  },
  {
   "cell_type": "code",
   "execution_count": null,
   "id": "1edb4d02",
   "metadata": {},
   "outputs": [],
   "source": []
  },
  {
   "cell_type": "code",
   "execution_count": null,
   "id": "02ed0fcf",
   "metadata": {},
   "outputs": [],
   "source": []
  },
  {
   "cell_type": "code",
   "execution_count": null,
   "id": "b5b58eb0",
   "metadata": {},
   "outputs": [],
   "source": []
  },
  {
   "cell_type": "code",
   "execution_count": null,
   "id": "2a62f894",
   "metadata": {},
   "outputs": [],
   "source": []
  },
  {
   "cell_type": "code",
   "execution_count": null,
   "id": "e42ea930",
   "metadata": {},
   "outputs": [],
   "source": []
  },
  {
   "cell_type": "code",
   "execution_count": null,
   "id": "5a2544de",
   "metadata": {},
   "outputs": [],
   "source": []
  },
  {
   "cell_type": "code",
   "execution_count": null,
   "id": "5b8cd675",
   "metadata": {},
   "outputs": [],
   "source": []
  },
  {
   "cell_type": "code",
   "execution_count": null,
   "id": "5f0f924f",
   "metadata": {},
   "outputs": [],
   "source": []
  },
  {
   "cell_type": "code",
   "execution_count": null,
   "id": "32de969f",
   "metadata": {},
   "outputs": [],
   "source": []
  },
  {
   "cell_type": "code",
   "execution_count": null,
   "id": "984cbf5a",
   "metadata": {},
   "outputs": [],
   "source": []
  },
  {
   "cell_type": "code",
   "execution_count": null,
   "id": "78ecf18d",
   "metadata": {},
   "outputs": [],
   "source": []
  },
  {
   "cell_type": "code",
   "execution_count": null,
   "id": "f05be9a9",
   "metadata": {},
   "outputs": [],
   "source": []
  },
  {
   "cell_type": "code",
   "execution_count": null,
   "id": "7b1c012f",
   "metadata": {},
   "outputs": [],
   "source": []
  },
  {
   "cell_type": "code",
   "execution_count": null,
   "id": "74becdcd",
   "metadata": {},
   "outputs": [],
   "source": []
  },
  {
   "cell_type": "code",
   "execution_count": null,
   "id": "c602ca50",
   "metadata": {},
   "outputs": [],
   "source": []
  },
  {
   "cell_type": "code",
   "execution_count": null,
   "id": "2c36d8bd",
   "metadata": {},
   "outputs": [],
   "source": []
  },
  {
   "cell_type": "code",
   "execution_count": null,
   "id": "f84aaa0d",
   "metadata": {},
   "outputs": [],
   "source": []
  },
  {
   "cell_type": "code",
   "execution_count": null,
   "id": "40964f57",
   "metadata": {},
   "outputs": [],
   "source": []
  },
  {
   "cell_type": "code",
   "execution_count": null,
   "id": "777d8180",
   "metadata": {},
   "outputs": [],
   "source": []
  },
  {
   "cell_type": "code",
   "execution_count": null,
   "id": "c5c2d265",
   "metadata": {},
   "outputs": [],
   "source": []
  }
 ],
 "metadata": {
  "kernelspec": {
   "display_name": "Python 3",
   "language": "python",
   "name": "python3"
  },
  "language_info": {
   "codemirror_mode": {
    "name": "ipython",
    "version": 3
   },
   "file_extension": ".py",
   "mimetype": "text/x-python",
   "name": "python",
   "nbconvert_exporter": "python",
   "pygments_lexer": "ipython3",
   "version": "3.8.8"
  }
 },
 "nbformat": 4,
 "nbformat_minor": 5
}
