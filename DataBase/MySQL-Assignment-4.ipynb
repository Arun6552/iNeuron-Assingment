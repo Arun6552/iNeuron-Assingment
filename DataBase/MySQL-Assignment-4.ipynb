{
 "cells": [
  {
   "cell_type": "code",
   "execution_count": 4,
   "id": "cf77ca4a",
   "metadata": {},
   "outputs": [
    {
     "name": "stdout",
     "output_type": "stream",
     "text": [
      "Database Connected...\n",
      "\n",
      "Showing the result: \n",
      "\n",
      "('MonikA',)\n",
      "('NihArikA',)\n",
      "('VishAl',)\n",
      "('AmitAbh',)\n",
      "('Vivek',)\n",
      "('Vipul',)\n",
      "('SAtish',)\n",
      "('GeetikA',)\n"
     ]
    }
   ],
   "source": [
    "'''\n",
    "Q-1. Write an SQL query to print the FIRST_NAME from Worker table after replacing ‘a’\n",
    "with ‘A’.\n",
    "'''\n",
    "from worker_table import SQL_Query    #custome module where worker, bonus,title table created.\n",
    "\n",
    "sq = SQL_Query()\n",
    "\n",
    "query = \"select replace(first_name,'a','A') from worker\"\n",
    "\n",
    "sq.quest(query)"
   ]
  },
  {
   "cell_type": "code",
   "execution_count": 10,
   "id": "1bbbbc71",
   "metadata": {},
   "outputs": [
    {
     "name": "stdout",
     "output_type": "stream",
     "text": [
      "\n",
      "Showing the result: \n",
      "\n",
      "(4, 'Amitabh', 'Singh', 500000, datetime.datetime(2014, 2, 20, 9, 0), 'Admin')\n",
      "(8, 'Geetika', 'Chauhan', 90000, datetime.datetime(2014, 4, 11, 9, 0), 'Admin')\n",
      "(1, 'Monika', 'Arora', 100000, datetime.datetime(2014, 2, 20, 9, 0), 'HR')\n",
      "(2, 'Niharika', 'Verma', 80000, datetime.datetime(2014, 6, 11, 9, 0), 'Admin')\n",
      "(7, 'Satish', 'Kumar', 75000, datetime.datetime(2014, 1, 20, 9, 0), 'Account')\n",
      "(6, 'Vipul', 'Diwan', 200000, datetime.datetime(2014, 6, 11, 9, 0), 'Account')\n",
      "(3, 'Vishal', 'Singhal', 300000, datetime.datetime(2014, 2, 20, 9, 0), 'HR')\n",
      "(5, 'Vivek', 'Bhati', 500000, datetime.datetime(2014, 6, 11, 9, 0), 'Admin')\n"
     ]
    }
   ],
   "source": [
    "'''\n",
    "Q-2. Write an SQL query to print all Worker details from the Worker table order by\n",
    "FIRST_NAME Ascending and DEPARTMENT Descending.\n",
    "'''\n",
    "\n",
    "query = \"select * from worker order by first_name asc, department desc\"\n",
    "\n",
    "sq.quest(query)"
   ]
  },
  {
   "cell_type": "code",
   "execution_count": 13,
   "id": "8ddeaddc",
   "metadata": {},
   "outputs": [
    {
     "name": "stdout",
     "output_type": "stream",
     "text": [
      "\n",
      "Showing the result: \n",
      "\n",
      "('Monika', 'Arora')\n"
     ]
    }
   ],
   "source": [
    "# Q-3. Write an SQL query to fetch the names of workers who earn the highest salary.\n",
    "\n",
    "\n",
    "query = \"select first_name,last_name from worker having max(salary)\"\n",
    "\n",
    "sq.quest(query)"
   ]
  },
  {
   "cell_type": "code",
   "execution_count": null,
   "id": "f27d74c3",
   "metadata": {},
   "outputs": [],
   "source": []
  },
  {
   "cell_type": "code",
   "execution_count": null,
   "id": "b16337cb",
   "metadata": {},
   "outputs": [],
   "source": []
  }
 ],
 "metadata": {
  "kernelspec": {
   "display_name": "Python 3",
   "language": "python",
   "name": "python3"
  },
  "language_info": {
   "codemirror_mode": {
    "name": "ipython",
    "version": 3
   },
   "file_extension": ".py",
   "mimetype": "text/x-python",
   "name": "python",
   "nbconvert_exporter": "python",
   "pygments_lexer": "ipython3",
   "version": "3.8.8"
  }
 },
 "nbformat": 4,
 "nbformat_minor": 5
}
