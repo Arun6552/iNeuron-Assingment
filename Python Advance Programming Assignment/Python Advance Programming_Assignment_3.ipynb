{
 "cells": [
  {
   "cell_type": "code",
   "execution_count": 18,
   "id": "3f03d30f",
   "metadata": {},
   "outputs": [
    {
     "name": "stdout",
     "output_type": "stream",
     "text": [
      "24\n",
      "0\n",
      "144\n",
      "-1\n"
     ]
    }
   ],
   "source": [
    "'''\n",
    "1. Create a function to perform basic arithmetic operations that includes\n",
    "addition, subtraction, multiplication and division on a string number (e.g. &quot;12 +\n",
    "24&quot; or &quot;23 - 21&quot; or &quot;12 // 12&quot; or &quot;12 * 21&quot;).\n",
    "Here, we have 1 followed by a space, operator followed by another space\n",
    "and 2. For the challenge, we are going to have only two numbers between 1\n",
    "valid operator. The return value should be a number.\n",
    "eval() is not allowed. In case of division, whenever the second number equals\n",
    "&quot;0&quot; return -1.\n",
    "For example:\n",
    "&quot;15 // 0&quot; ➞ -1\n",
    "Examples\n",
    "arithmetic_operation(&quot;12 + 12&quot;) ➞ 24 // 12 + 12 = 24\n",
    "arithmetic_operation(&quot;12 - 12&quot;) ➞ 24 // 12 - 12 = 0\n",
    "arithmetic_operation(&quot;12 * 12&quot;) ➞ 144 // 12 * 12 = 144\n",
    "arithmetic_operation(&quot;12 // 0&quot;) ➞ -1 // 12 / 0 = -1\n",
    "\n",
    "'''\n",
    "def arithmetic_operation(s):\n",
    "    operator = ['+','-','*','//']\n",
    "    for i in operator :\n",
    "        if i in s:\n",
    "            s = s.split(i)\n",
    "            oper = i \n",
    "        \n",
    "    fist_num = int(s[0])\n",
    "    second_num = int(s[1])\n",
    "    \n",
    "    if second_num== 0:\n",
    "        return  -1 \n",
    "    \n",
    "    if oper == operator[0]:\n",
    "        return fist_num + second_num\n",
    "    elif oper == operator[1]:\n",
    "        return fist_num - second_num\n",
    "    elif oper == operator[2]:\n",
    "        return fist_num * second_num\n",
    "    else:\n",
    "        return fist_num // second_num\n",
    "    \n",
    "print(arithmetic_operation(\"12 + 12 \"))\n",
    "print(arithmetic_operation(\"12 - 12 \"))\n",
    "print(arithmetic_operation(\"12 * 12 \"))\n",
    "print(arithmetic_operation(\"12 // 0 \"))\n"
   ]
  },
  {
   "cell_type": "code",
   "execution_count": 46,
   "id": "838d80b1",
   "metadata": {},
   "outputs": [
    {
     "name": "stdout",
     "output_type": "stream",
     "text": [
      "47.08\n",
      "3.41\n",
      "68.28\n"
     ]
    }
   ],
   "source": [
    "'''\n",
    "2. Write a function that takes the coordinates of three points in the form of a\n",
    "2d array and returns the perimeter of the triangle. The given points are the\n",
    "vertices of a triangle on a two-dimensional plane.\n",
    "Examples\n",
    "perimeter( [ [15, 7], [5, 22], [11, 1] ] ) ➞ 47.08\n",
    "perimeter( [ [0, 0], [0, 1], [1, 0] ] ) ➞ 3.42\n",
    "perimeter( [ [-10, -10], [10, 10 ], [-10, 10] ] ) ➞ 68.28\n",
    "\n",
    "'''\n",
    "import math\n",
    "def perimeter(lst):\n",
    "    A,B,C = lst[0],lst[1],lst[2]\n",
    "    #FOR POINTS A AND B \n",
    "    d1 = math.sqrt(math.pow(B[0]-A[0],2) +math.pow(B[1]-A[1],2))\n",
    "    \n",
    "    #FOR POINTS  B AND C \n",
    "    d2 = math.sqrt(math.pow(C[0]-B[0],2) +math.pow(C[1]-B[1],2))\n",
    "    \n",
    "    #FOR POINTS C AND A \n",
    "    d3 = math.sqrt(math.pow(C[0]-A[0],2) +math.pow(C[1]-A[1],2))\n",
    "    \n",
    "    perimeter_triangle = d1 + d2 + d3 \n",
    "    \n",
    "    return round(perimeter_triangle,2)\n",
    "    \n",
    "    \n",
    "print(perimeter( [ [15, 7], [5, 22], [11, 1] ] ) )   \n",
    "\n",
    "print(perimeter( [ [0, 0], [0, 1], [1, 0] ] ))\n",
    "\n",
    "print(perimeter( [ [-10, -10], [10, 10 ], [-10, 10] ] ))\n",
    "\n"
   ]
  },
  {
   "cell_type": "code",
   "execution_count": 1,
   "id": "ea76735d",
   "metadata": {},
   "outputs": [
    {
     "data": {
      "text/plain": [
       "'\\n\\n3. A city skyline can be represented as a 2-D list with 1s representing\\nbuildings. In the example below, the height of the tallest building is 4 (second-\\nmost right column).\\n[[0, 0, 0, 0, 0, 0],\\n[0, 0, 0, 0, 1, 0],\\n[0, 0, 1, 0, 1, 0],\\n[0, 1, 1, 1, 1, 0],\\n\\n[1, 1, 1, 1, 1, 1]]\\nCreate a function that takes a skyline (2-D list of 0&#39;s and 1&#39;s) and returns the\\nheight of the tallest skyscraper.'"
      ]
     },
     "execution_count": 1,
     "metadata": {},
     "output_type": "execute_result"
    }
   ],
   "source": [
    "'''\n",
    "\n",
    "3. A city skyline can be represented as a 2-D list with 1s representing\n",
    "buildings. In the example below, the height of the tallest building is 4 (second-\n",
    "most right column).\n",
    "[[0, 0, 0, 0, 0, 0],\n",
    "[0, 0, 0, 0, 1, 0],\n",
    "[0, 0, 1, 0, 1, 0],\n",
    "[0, 1, 1, 1, 1, 0],\n",
    "[1, 1, 1, 1, 1, 1]]\n",
    "\n",
    "Create a function that takes a skyline (2-D list of 0&#39;s and 1&#39;s) and returns the\n",
    "height of the tallest skyscraper.\n",
    "Examples\n",
    "tallest_skyscraper([\n",
    "[0, 0, 0, 0],\n",
    "[0, 1, 0, 0],\n",
    "[0, 1, 1, 0],\n",
    "[1, 1, 1, 1]\n",
    "]) ➞ 3\n",
    "tallest_skyscraper([\n",
    "[0, 1, 0, 0],\n",
    "[0, 1, 0, 0],\n",
    "[0, 1, 1, 0],\n",
    "[1, 1, 1, 1]\n",
    "]) ➞ 4\n",
    "tallest_skyscraper([\n",
    "[0, 0, 0, 0],\n",
    "[0, 0, 0, 0],\n",
    "[1, 1, 1, 0],\n",
    "[1, 1, 1, 1]\n",
    "]) ➞ 2\n",
    "\n",
    "'''\n",
    "def tallest_skyscraper(lst):\n",
    "    \n"
   ]
  },
  {
   "cell_type": "code",
   "execution_count": 132,
   "id": "c28c9e0f",
   "metadata": {},
   "outputs": [
    {
     "name": "stdout",
     "output_type": "stream",
     "text": [
      "0\n",
      "1625\n",
      "5350\n",
      "8200\n"
     ]
    }
   ],
   "source": [
    "'''\n",
    "4. A financial institution provides professional services to banks and claims\n",
    "charges from the customers based on the number of man-days provided.\n",
    "Internally, it has set a scheme to motivate and reward staff to meet and\n",
    "exceed targeted billable utilization and revenues by paying a bonus for each\n",
    "day claimed from customers in excess of a threshold target.\n",
    "This quarterly scheme is calculated with a threshold target of 32 days per\n",
    "quarter, and the incentive payment for each billable day in excess of such\n",
    "threshold target is shown as follows:\n",
    "Days Bonus\n",
    "0 to 32 days Zero\n",
    "33 to 40 days SGD$325 per billable day\n",
    "41 to 48 days SGD$550 per billable day\n",
    "Greater than 48 days SGD$600 per billable day\n",
    "\n",
    "Please note that incentive payment is calculated progressively. As an\n",
    "example, if an employee reached total billable days of 45 in a quarter, his/her\n",
    "incentive payment is computed as follows:\n",
    "32*0 + 8*325 + 5*550 = 5350\n",
    "Write a function to read the billable days of an employee and return the bonus\n",
    "he/she has obtained in that quarter.\n",
    "Examples\n",
    "bonus(15) ➞ 0\n",
    "bonus(37) ➞ 1625\n",
    "bonus(50) ➞ 8200\n",
    "'''\n",
    "def bonus(n):\n",
    "    rem = 0\n",
    "    if n <=32:\n",
    "        rem = 0 \n",
    "    else:\n",
    "        if n in range(33,41):\n",
    "            rem = (n-32) * 325\n",
    "        if n in range(41,49):\n",
    "            rem =8* 325 + (n-40)* 550\n",
    "        if  n >48:\n",
    "            rem = (8*325) +(8*550) + (n-48)*600\n",
    "    return rem\n",
    "print(bonus(15))\n",
    "print(bonus(37))\n",
    "print(bonus(45))\n",
    "print(bonus(50))\n"
   ]
  },
  {
   "cell_type": "code",
   "execution_count": 153,
   "id": "9626396a",
   "metadata": {},
   "outputs": [
    {
     "name": "stdout",
     "output_type": "stream",
     "text": [
      "False\n",
      "True\n",
      "False\n",
      "True\n",
      "False\n",
      "True\n"
     ]
    }
   ],
   "source": [
    "'''\n",
    "5. A number is said to be Disarium if the sum of its digits raised to their\n",
    "respective positions is the number itself.\n",
    "Create a function that determines whether a number is a Disarium or not.\n",
    "Examples\n",
    "is_disarium(75) ➞ False\n",
    "# 7^1 + 5^2 = 7 + 25 = 32\n",
    "is_disarium(135) ➞ True\n",
    "# 1^1 + 3^2 + 5^3 = 1 + 9 + 125 = 135\n",
    "is_disarium(544) ➞ False\n",
    "is_disarium(518) ➞ True\n",
    "is_disarium(466) ➞ False\n",
    "is_disarium(8) ➞ True\n",
    "'''\n",
    "import math\n",
    "def is_disarium(n):\n",
    "    s_n = str(n)\n",
    "    rem = 0 \n",
    "    for i in range(1,len(s_n)+1):\n",
    "        rem += math.pow(int(s_n[i-1]),int(i))\n",
    "    if rem == n:\n",
    "        return True\n",
    "    else:\n",
    "        return False\n",
    "print(is_disarium(75))\n",
    "print(is_disarium(135))\n",
    "print(is_disarium(544))\n",
    "print(is_disarium(518))\n",
    "print(is_disarium(466))\n",
    "print(is_disarium(8))"
   ]
  },
  {
   "cell_type": "code",
   "execution_count": null,
   "id": "1b16b3bd",
   "metadata": {},
   "outputs": [],
   "source": []
  }
 ],
 "metadata": {
  "kernelspec": {
   "display_name": "Python 3",
   "language": "python",
   "name": "python3"
  },
  "language_info": {
   "codemirror_mode": {
    "name": "ipython",
    "version": 3
   },
   "file_extension": ".py",
   "mimetype": "text/x-python",
   "name": "python",
   "nbconvert_exporter": "python",
   "pygments_lexer": "ipython3",
   "version": "3.8.8"
  }
 },
 "nbformat": 4,
 "nbformat_minor": 5
}
