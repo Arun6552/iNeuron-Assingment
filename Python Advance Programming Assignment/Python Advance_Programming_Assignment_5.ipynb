{
 "cells": [
  {
   "cell_type": "code",
   "execution_count": 50,
   "id": "bb2efd3b",
   "metadata": {},
   "outputs": [
    {
     "name": "stdout",
     "output_type": "stream",
     "text": [
      "2\n",
      "8\n",
      "2\n",
      "8\n"
     ]
    }
   ],
   "source": [
    "'''\n",
    "1. Create a function that takes a number n (integer greater than zero) as an\n",
    "argument, and returns 2 if n is odd and 8 if n is even.\n",
    "You can only use the following arithmetic operators: addition of numbers +,\n",
    "subtraction of numbers -, multiplication of number *, division of number /, and\n",
    "exponentiation **.\n",
    "You are not allowed to use any other methods in this challenge (i.e. no if\n",
    "statements, comparison operators, etc).\n",
    "Examples\n",
    "f(1) ➞ 2\n",
    "f(2) ➞ 8\n",
    "f(3) ➞ 2\n",
    "'''\n",
    "\n",
    "def f(n):\n",
    "    dict = {0:8,1:2}\n",
    "    return  dict[(n &1)]  # BITWISE AND Operator \n",
    "print(f(1))\n",
    "print(f(2))\n",
    "print(f(3))\n",
    "print(f(4))\n",
    "\n"
   ]
  },
  {
   "cell_type": "code",
   "execution_count": 54,
   "id": "76f7b1ba",
   "metadata": {},
   "outputs": [
    {
     "name": "stdout",
     "output_type": "stream",
     "text": [
      "A\n",
      "A\n",
      "None\n"
     ]
    }
   ],
   "source": [
    "'''\n",
    "2. Create a function that returns the majority vote in a list. A majority vote is\n",
    "an element that occurs &gt; N/2 times in a list (where N is the length of the list).\n",
    "Examples\n",
    "majority_vote([&quot;A&quot;, &quot;A&quot;, &quot;B&quot;]) ➞ &quot;A&quot;\n",
    "majority_vote([&quot;A&quot;, &quot;A&quot;, &quot;A&quot;, &quot;B&quot;, &quot;C&quot;, &quot;A&quot;]) ➞ &quot;A&quot;\n",
    "majority_vote([&quot;A&quot;, &quot;B&quot;, &quot;B&quot;, &quot;A&quot;, &quot;C&quot;, &quot;C&quot;]) ➞ None\n",
    "'''\n",
    "def majority_vote(lst):\n",
    "    l = len(lst)/2\n",
    "#     result = []\n",
    "    for i in lst:\n",
    "        if lst.count(i) > l:\n",
    "            return i \n",
    "#             if i not in result:\n",
    "#                 result.append(i)\n",
    "#     return result\n",
    "                \n",
    "print(majority_vote([\"A\",\"A\",\"B\"]))\n",
    "print(majority_vote([\"A\",\"A\",\"A\",\"B\",\"C\",\"A\"]))\n",
    "print(majority_vote([\"A\",\"B\",\"B\",\"A\",\"C\",\"C\"]))"
   ]
  },
  {
   "cell_type": "code",
   "execution_count": 97,
   "id": "dcb1ae12",
   "metadata": {},
   "outputs": [
    {
     "name": "stdout",
     "output_type": "stream",
     "text": [
      "----- is - Wednesday! \n",
      "The *** jumped **** the moon. \n",
      "Why *** the ******* cross the **** ? \n"
     ]
    }
   ],
   "source": [
    "'''\n",
    "3. Create a function that takes a string txt and censors any word from a given\n",
    "list lst. The text removed must be replaced by the given character char.\n",
    "Examples\n",
    "censor_string(&quot;Today is a Wednesday!&quot;, [&quot;Today&quot;, &quot;a&quot;], &quot;-&quot;) ➞ &quot;----- is -\n",
    "Wednesday!&quot;\n",
    "censor_string(&quot;The cow jumped over the moon.&quot;, [&quot;cow&quot;, &quot;over&quot;], &quot;*&quot;), &quot;The ***\n",
    "jumped **** the moon.&quot;)\n",
    "censor_string(&quot;Why did the chicken cross the road?&quot;, [&quot;Did&quot;, &quot;chicken&quot;,\n",
    "&quot;road&quot;], &quot;*&quot;) ➞ &quot;Why *** the ******* cross the ****?&quot;'''\n",
    "\n",
    "def censor_string(s,lst,ch):\n",
    "    new_s =  \"\"\n",
    "    new_s_lst = s.split(\" \")\n",
    "    for i in new_s_lst: \n",
    "        if i in lst:\n",
    "            new_s += len(i) *ch +\" \"\n",
    "        else:\n",
    "            new_s += i + \" \"\n",
    "    return new_s\n",
    "print(censor_string(\"Today is a Wednesday!\",[\"Today\",\"a\"],\"-\")) \n",
    "print(censor_string(\"The cow jumped over the moon.\",[\"cow\",\"over\"],\"*\"))\n",
    "print(censor_string(\"Why did the chicken cross the road ?\",[\"did\",\"chicken\",\"road\"],\"*\"))\n"
   ]
  },
  {
   "cell_type": "code",
   "execution_count": 122,
   "id": "4c2a1c39",
   "metadata": {},
   "outputs": [
    {
     "name": "stdout",
     "output_type": "stream",
     "text": [
      "12\n",
      "123\n",
      "1232\n"
     ]
    },
    {
     "data": {
      "text/plain": [
       "True"
      ]
     },
     "execution_count": 122,
     "metadata": {},
     "output_type": "execute_result"
    }
   ],
   "source": [
    "'''\n",
    "4. In mathematics a Polydivisible Number (or magic number) is a number in a\n",
    "given number base with digits abcde... that has the following properties:\n",
    "- Its first digit a is not 0.\n",
    "- The number formed by its first two digits ab is a multiple of 2.\n",
    "- The number formed by its first three digits abc is a multiple of 3.\n",
    "- The number formed by its first four digits abcd is a multiple of 4.\n",
    "Create a function which takes an integer n and returns True if the given\n",
    "number is a Polydivisible Number and False otherwise.\n",
    "Examples\n",
    "is_polydivisible(1232) ➞ True\n",
    "# 1 / 1 = 1\n",
    "# 12 / 2 = 6\n",
    "# 123 / 3 = 41\n",
    "# 1232 / 4 = 308\n",
    "is_polydivisible(123220 ) ➞ False\n",
    "# 1 / 1 = 1\n",
    "# 12 / 2 = 6\n",
    "# 123 / 3 = 41\n",
    "# 1232 / 4 = 308\n",
    "# 12322 / 5 = 2464.4 # Not a Whole Number\n",
    "# 123220 /6 = 220536.333... # Not a Whole Number\n",
    "'''\n",
    "def is_polydivisible(n):\n",
    "    lst = []\n",
    "    temp = n \n",
    "    while temp > 0:\n",
    "        lst.append(temp%10)\n",
    "        temp //=10\n",
    "    lst.reverse()\n",
    "    flag = True\n",
    "    temp =lst[0]\n",
    "    \n",
    "    for i in range(1, len(lst)):\n",
    "        temp = temp * 10 + lst[i]\n",
    "        if (temp % (i +1 )!=0):\n",
    "            flag = False\n",
    "            break\n",
    "    if flag:\n",
    "        return True\n",
    "    else:\n",
    "        return False\n",
    "        \n",
    "is_polydivisible(1232)"
   ]
  },
  {
   "cell_type": "code",
   "execution_count": 237,
   "id": "a30d01d9",
   "metadata": {},
   "outputs": [
    {
     "name": "stdout",
     "output_type": "stream",
     "text": [
      "18\n",
      "87\n",
      "None\n"
     ]
    }
   ],
   "source": [
    "'''5. Create a function that takes a list of numbers and returns the sum of all\n",
    "prime numbers in the list.\n",
    "Examples\n",
    "sum_primes([1, 2, 3, 4, 5, 6, 7, 8, 9, 10]) ➞ 17\n",
    "sum_primes([2, 3, 4, 11, 20, 50, 71]) ➞ 87\n",
    "sum_primes([]) ➞ None\n",
    "'''\n",
    "def sum_primes(lst):\n",
    "    ls1 =[]\n",
    "    if len(lst) >=1:\n",
    "        for i in lst: \n",
    "            count = 0 \n",
    "            for j in range(1,len(lst)+1): \n",
    "                if i % j ==0:\n",
    "                    count +=1\n",
    "            if count <=2:\n",
    "                ls1.append(i)\n",
    "        return sum(ls1)\n",
    "    else:\n",
    "        return \n",
    "\n",
    "    \n",
    "    \n",
    "print(sum_primes([1, 2, 3, 4, 5, 6, 7, 8, 9, 10]))\n",
    "print(sum_primes([2, 3, 4, 11, 20, 50, 71]))\n",
    "print(sum_primes([]))"
   ]
  },
  {
   "cell_type": "code",
   "execution_count": null,
   "id": "6a858cab",
   "metadata": {},
   "outputs": [],
   "source": []
  },
  {
   "cell_type": "code",
   "execution_count": null,
   "id": "d54f7b3d",
   "metadata": {},
   "outputs": [],
   "source": []
  }
 ],
 "metadata": {
  "kernelspec": {
   "display_name": "Python 3",
   "language": "python",
   "name": "python3"
  },
  "language_info": {
   "codemirror_mode": {
    "name": "ipython",
    "version": 3
   },
   "file_extension": ".py",
   "mimetype": "text/x-python",
   "name": "python",
   "nbconvert_exporter": "python",
   "pygments_lexer": "ipython3",
   "version": "3.8.8"
  }
 },
 "nbformat": 4,
 "nbformat_minor": 5
}
